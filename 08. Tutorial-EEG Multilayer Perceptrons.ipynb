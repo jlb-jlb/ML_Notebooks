{
  "nbformat": 4,
  "nbformat_minor": 0,
  "metadata": {
    "colab": {
      "name": "08. Multilayer Perceptrons.ipynb",
      "provenance": [],
      "toc_visible": true,
      "machine_shape": "hm",
      "include_colab_link": true
    },
    "kernelspec": {
      "name": "python3",
      "display_name": "Python 3"
    },
    "accelerator": "GPU"
  },
  "cells": [
    {
      "cell_type": "markdown",
      "metadata": {
        "id": "view-in-github",
        "colab_type": "text"
      },
      "source": [
        "<a href=\"https://colab.research.google.com/github/jlb-jlb/ML_Notebooks/blob/main/08.%20Tutorial-EEG%20Multilayer%20Perceptrons.ipynb\" target=\"_parent\"><img src=\"https://colab.research.google.com/assets/colab-badge.svg\" alt=\"Open In Colab\"/></a>"
      ]
    },
    {
      "cell_type": "markdown",
      "metadata": {
        "id": "YFzQAyROUw1t"
      },
      "source": [
        "# 08. Multilayer Perceptrons\n",
        "\n",
        "by [David Luke Elliott](https://www.lancaster.ac.uk/psychology/about-us/people/david-elliott)\n",
        "/ [GitHub](https://github.com/Eldave93)\n"
      ]
    },
    {
      "cell_type": "markdown",
      "metadata": {
        "id": "9IYNBQxqtuJq"
      },
      "source": [
        "So far we have been focusing on what could be termed \"*shallow*\" machine-learning approaches, and so now we will focus on \"*deep*\" learning. Deep learning is a set of algorithms developed to train many layered artificial neural networks efficiently<sup>2</sup>. Multilayer neural networks are harder to train than the previous simpler algorithms (e.g. logistic regression or support vector machines) as there are typically thousands or even billions of weights that need to be optimized. This means steps need to be taken to ensure the optimization algorithm doesnt become trapped in local minima<sup>2</sup>.\n",
        "\n",
        "The first artificial neural network (ANN) architecture was presented back in 1943 (REF), in a paper describing a computational model of biological neurons. Biological neurons are comprised of a cell body, with a nucleus, with extended branches called dendrites. A long extension called the axon runs from the cell body and has smaller branches at the extremity called telodendria; which each having synaptic terminals. Neurons recive input from electrical signals via synapses, with it firing its own signal if it recieves enough signals from other neurons (action potential). Billions of neurons are arranged in networks to compute conplex computations. Although modern ANN's have moved away from their biological inspiration, the architecture of biological neural networks is still an active area of research<sup>1</sup>. This notebook begins to look at how we can apply artifical networks to classify the outputs of millions/billions of neurons when firing normally (interictal), or synchronously to cause seizures (ictal).\n",
        "\n",
        "The success of modern deep learning methods rests upon the availability of lots of data and GPU hours on modern GPUs to compute matrix-vector computations<sup>3</sup>. Deep learning has accelerated rapidly within the last few years, with one of the main reasons being the \"*democratization*\" of the toolsets used in the field. As can be seen in the table below, starting from 2010 multiple libraries were released for deep learning, with the most popular arguably Theano and TensorFlow. Within the more recent years libraries have become more user-friendly, with Keras quickly becoming one of the dominant go-to deep-learning solutions commonly used by new startups, graduate students, and researchers (such as me)<sup>4</sup>.\n",
        "\n",
        "Open Source Deep Learning Libraries<sup>1</sup>:\n",
        "\n",
        "| Library        | API                  | Platforms                           | Year |\n",
        "|----------------|----------------------|-------------------------------------|------|\n",
        "| Caffe          | Python, C++, Matlab  | Linux, macOS, Windows               | 2013 |\n",
        "| Deeplearning4j | Java, Scala, Clojure | Linux, macOS, Windows, Android      | 2014 |\n",
        "| H20            | Python, R            | Linux, macOS, Windows               | 2014 |\n",
        "| MXNet          | Python, C++, others  | Linux, macOS, Windows, iOS, Android | 2015 |\n",
        "| TensorFlow     | Python, C++          | Linux, macOS, Windows, iOS, Android | 2015 |\n",
        "| Theano         | Python               | Linux, macOS, iOS                   | 2010 |\n",
        "| Torch          | C++, Lua             | Linux, macOS, iOS, Android          | 2002 |\n",
        "\n",
        "![alt text](https://dpzbhybb2pdcj.cloudfront.net/chollet/Figures/03fig02_alt.jpg)\n",
        "\n",
        "So why start to think about deep learning beyond the previously discussed \"*shallow*\" machine-learning approaches? Well firstly they can reduce the need for data preprocessing and feature engineering and can provide simple trainable models built using only five or six different operations. Secondly they are scalable, as they can be easily parallelized on GPUs or TPUs and can be trained by iterating over small batches of data. Thirdly they are reusabile, so they can be trained on additional data without starting from scratch, making them viable for continuous online learning. Furthermore they can be repurposed by taking early already trained layers and applying them to another problem in a similar domain space<sup>4</sup>.\n",
        "\n",
        "**NOTES**\n",
        "- It’s recommended that you run deep-learning code on a modern NVIDIA GPU because some networks (e.g. convolutional networks and recurrent neural networks) are very slow on CPUs.\n",
        "\n",
        "**TODO**\n",
        "- A lot of this work focuses on examples given in the excellent book by Géron (go out and buy it to show support!). I need to update this now to include more of the reading and writing I have done since I wrote this tutorial.\n",
        "\n",
        "---\n",
        "1. Géron, A. (2017). Hands-on machine learning with Scikit-Learn and TensorFlow: concepts, tools, and techniques to build intelligent systems. \" O'Reilly Media, Inc.\".\n",
        "2. Raschka, S. (2016). Python Machine Learning (First). Packt.\n",
        "3. Zheng, A., & Casari, A. (2018). Feature Engineering for Machine Learning: Principles and Techniques for Data Scientists. \" O'Reilly Media, Inc.\".\n",
        "4. Chollet, F. (2017). Deep learning with python. Manning Publications.\n",
        "5. Subasi, A. (2007). Application of adaptive neuro-fuzzy inference system for epileptic seizure detection using wavelet feature extraction. Computers in Biology and Medicine, 37(2), 227–244. https://doi.org/10.1016/j.compbiomed.2005.12.003"
      ]
    },
    {
      "cell_type": "code",
      "metadata": {
        "id": "CApjToo3xPOi",
        "outputId": "8468eb5c-52c0-425d-dd6c-bfba92c0b59d",
        "colab": {
          "base_uri": "https://localhost:8080/",
          "height": 36
        }
      },
      "source": [
        "#GPU count and name\n",
        "!nvidia-smi -L"
      ],
      "execution_count": null,
      "outputs": [
        {
          "output_type": "stream",
          "text": [
            "GPU 0: Tesla K80 (UUID: GPU-9f78268c-06ad-c3da-a65f-62000da5bd4b)\n"
          ],
          "name": "stdout"
        }
      ]
    },
    {
      "cell_type": "code",
      "metadata": {
        "id": "l6ddNsmRxSbL",
        "outputId": "fc6cd2c4-f839-4e72-ad73-023ef32c000a",
        "colab": {
          "base_uri": "https://localhost:8080/",
          "height": 341
        }
      },
      "source": [
        "#use this command to see GPU activity while doing Deep Learning tasks, for this command 'nvidia-smi' and for above one to work, go to 'Runtime > change runtime type > Hardware Accelerator > GPU'\n",
        "!nvidia-smi"
      ],
      "execution_count": null,
      "outputs": [
        {
          "output_type": "stream",
          "text": [
            "Sat Mar  7 19:22:13 2020       \n",
            "+-----------------------------------------------------------------------------+\n",
            "| NVIDIA-SMI 440.59       Driver Version: 418.67       CUDA Version: 10.1     |\n",
            "|-------------------------------+----------------------+----------------------+\n",
            "| GPU  Name        Persistence-M| Bus-Id        Disp.A | Volatile Uncorr. ECC |\n",
            "| Fan  Temp  Perf  Pwr:Usage/Cap|         Memory-Usage | GPU-Util  Compute M. |\n",
            "|===============================+======================+======================|\n",
            "|   0  Tesla K80           Off  | 00000000:00:04.0 Off |                    0 |\n",
            "| N/A   33C    P8    28W / 149W |      0MiB / 11441MiB |      0%      Default |\n",
            "+-------------------------------+----------------------+----------------------+\n",
            "                                                                               \n",
            "+-----------------------------------------------------------------------------+\n",
            "| Processes:                                                       GPU Memory |\n",
            "|  GPU       PID   Type   Process name                             Usage      |\n",
            "|=============================================================================|\n",
            "|  No running processes found                                                 |\n",
            "+-----------------------------------------------------------------------------+\n"
          ],
          "name": "stdout"
        }
      ]
    },
    {
      "cell_type": "code",
      "metadata": {
        "id": "2lZNjsLQSyp5",
        "outputId": "a4306cc2-edbe-413e-d4c2-e04bca0172d7",
        "colab": {
          "base_uri": "https://localhost:8080/",
          "height": 989
        }
      },
      "source": [
        "!pip install tensorflow-gpu==2.1\n",
        "!pip install hpbandster"
      ],
      "execution_count": null,
      "outputs": [
        {
          "output_type": "stream",
          "text": [
            "Requirement already satisfied: tensorflow-gpu==2.1 in /usr/local/lib/python3.6/dist-packages (2.1.0)\n",
            "Requirement already satisfied: scipy==1.4.1; python_version >= \"3\" in /usr/local/lib/python3.6/dist-packages (from tensorflow-gpu==2.1) (1.4.1)\n",
            "Requirement already satisfied: google-pasta>=0.1.6 in /usr/local/lib/python3.6/dist-packages (from tensorflow-gpu==2.1) (0.1.8)\n",
            "Requirement already satisfied: numpy<2.0,>=1.16.0 in /usr/local/lib/python3.6/dist-packages (from tensorflow-gpu==2.1) (1.17.5)\n",
            "Requirement already satisfied: grpcio>=1.8.6 in /usr/local/lib/python3.6/dist-packages (from tensorflow-gpu==2.1) (1.27.1)\n",
            "Requirement already satisfied: tensorflow-estimator<2.2.0,>=2.1.0rc0 in /usr/local/lib/python3.6/dist-packages (from tensorflow-gpu==2.1) (2.1.0)\n",
            "Requirement already satisfied: six>=1.12.0 in /usr/local/lib/python3.6/dist-packages (from tensorflow-gpu==2.1) (1.12.0)\n",
            "Requirement already satisfied: astor>=0.6.0 in /usr/local/lib/python3.6/dist-packages (from tensorflow-gpu==2.1) (0.8.1)\n",
            "Requirement already satisfied: absl-py>=0.7.0 in /usr/local/lib/python3.6/dist-packages (from tensorflow-gpu==2.1) (0.9.0)\n",
            "Requirement already satisfied: tensorboard<2.2.0,>=2.1.0 in /usr/local/lib/python3.6/dist-packages (from tensorflow-gpu==2.1) (2.1.1)\n",
            "Requirement already satisfied: gast==0.2.2 in /usr/local/lib/python3.6/dist-packages (from tensorflow-gpu==2.1) (0.2.2)\n",
            "Requirement already satisfied: wrapt>=1.11.1 in /usr/local/lib/python3.6/dist-packages (from tensorflow-gpu==2.1) (1.11.2)\n",
            "Requirement already satisfied: wheel>=0.26; python_version >= \"3\" in /usr/local/lib/python3.6/dist-packages (from tensorflow-gpu==2.1) (0.34.2)\n",
            "Requirement already satisfied: keras-preprocessing>=1.1.0 in /usr/local/lib/python3.6/dist-packages (from tensorflow-gpu==2.1) (1.1.0)\n",
            "Requirement already satisfied: opt-einsum>=2.3.2 in /usr/local/lib/python3.6/dist-packages (from tensorflow-gpu==2.1) (3.1.0)\n",
            "Requirement already satisfied: termcolor>=1.1.0 in /usr/local/lib/python3.6/dist-packages (from tensorflow-gpu==2.1) (1.1.0)\n",
            "Requirement already satisfied: protobuf>=3.8.0 in /usr/local/lib/python3.6/dist-packages (from tensorflow-gpu==2.1) (3.10.0)\n",
            "Requirement already satisfied: keras-applications>=1.0.8 in /usr/local/lib/python3.6/dist-packages (from tensorflow-gpu==2.1) (1.0.8)\n",
            "Requirement already satisfied: google-auth<2,>=1.6.3 in /usr/local/lib/python3.6/dist-packages (from tensorboard<2.2.0,>=2.1.0->tensorflow-gpu==2.1) (1.7.2)\n",
            "Requirement already satisfied: markdown>=2.6.8 in /usr/local/lib/python3.6/dist-packages (from tensorboard<2.2.0,>=2.1.0->tensorflow-gpu==2.1) (3.2.1)\n",
            "Requirement already satisfied: werkzeug>=0.11.15 in /usr/local/lib/python3.6/dist-packages (from tensorboard<2.2.0,>=2.1.0->tensorflow-gpu==2.1) (1.0.0)\n",
            "Requirement already satisfied: google-auth-oauthlib<0.5,>=0.4.1 in /usr/local/lib/python3.6/dist-packages (from tensorboard<2.2.0,>=2.1.0->tensorflow-gpu==2.1) (0.4.1)\n",
            "Requirement already satisfied: setuptools>=41.0.0 in /usr/local/lib/python3.6/dist-packages (from tensorboard<2.2.0,>=2.1.0->tensorflow-gpu==2.1) (45.2.0)\n",
            "Requirement already satisfied: requests<3,>=2.21.0 in /usr/local/lib/python3.6/dist-packages (from tensorboard<2.2.0,>=2.1.0->tensorflow-gpu==2.1) (2.21.0)\n",
            "Requirement already satisfied: h5py in /usr/local/lib/python3.6/dist-packages (from keras-applications>=1.0.8->tensorflow-gpu==2.1) (2.8.0)\n",
            "Requirement already satisfied: cachetools<3.2,>=2.0.0 in /usr/local/lib/python3.6/dist-packages (from google-auth<2,>=1.6.3->tensorboard<2.2.0,>=2.1.0->tensorflow-gpu==2.1) (3.1.1)\n",
            "Requirement already satisfied: rsa<4.1,>=3.1.4 in /usr/local/lib/python3.6/dist-packages (from google-auth<2,>=1.6.3->tensorboard<2.2.0,>=2.1.0->tensorflow-gpu==2.1) (4.0)\n",
            "Requirement already satisfied: pyasn1-modules>=0.2.1 in /usr/local/lib/python3.6/dist-packages (from google-auth<2,>=1.6.3->tensorboard<2.2.0,>=2.1.0->tensorflow-gpu==2.1) (0.2.8)\n",
            "Requirement already satisfied: requests-oauthlib>=0.7.0 in /usr/local/lib/python3.6/dist-packages (from google-auth-oauthlib<0.5,>=0.4.1->tensorboard<2.2.0,>=2.1.0->tensorflow-gpu==2.1) (1.3.0)\n",
            "Requirement already satisfied: chardet<3.1.0,>=3.0.2 in /usr/local/lib/python3.6/dist-packages (from requests<3,>=2.21.0->tensorboard<2.2.0,>=2.1.0->tensorflow-gpu==2.1) (3.0.4)\n",
            "Requirement already satisfied: idna<2.9,>=2.5 in /usr/local/lib/python3.6/dist-packages (from requests<3,>=2.21.0->tensorboard<2.2.0,>=2.1.0->tensorflow-gpu==2.1) (2.8)\n",
            "Requirement already satisfied: urllib3<1.25,>=1.21.1 in /usr/local/lib/python3.6/dist-packages (from requests<3,>=2.21.0->tensorboard<2.2.0,>=2.1.0->tensorflow-gpu==2.1) (1.24.3)\n",
            "Requirement already satisfied: certifi>=2017.4.17 in /usr/local/lib/python3.6/dist-packages (from requests<3,>=2.21.0->tensorboard<2.2.0,>=2.1.0->tensorflow-gpu==2.1) (2019.11.28)\n",
            "Requirement already satisfied: pyasn1>=0.1.3 in /usr/local/lib/python3.6/dist-packages (from rsa<4.1,>=3.1.4->google-auth<2,>=1.6.3->tensorboard<2.2.0,>=2.1.0->tensorflow-gpu==2.1) (0.4.8)\n",
            "Requirement already satisfied: oauthlib>=3.0.0 in /usr/local/lib/python3.6/dist-packages (from requests-oauthlib>=0.7.0->google-auth-oauthlib<0.5,>=0.4.1->tensorboard<2.2.0,>=2.1.0->tensorflow-gpu==2.1) (3.1.0)\n",
            "Requirement already satisfied: hpbandster in /usr/local/lib/python3.6/dist-packages (0.7.4)\n",
            "Requirement already satisfied: Pyro4 in /usr/local/lib/python3.6/dist-packages (from hpbandster) (4.79)\n",
            "Requirement already satisfied: ConfigSpace in /usr/local/lib/python3.6/dist-packages (from hpbandster) (0.4.12)\n",
            "Requirement already satisfied: netifaces in /usr/local/lib/python3.6/dist-packages (from hpbandster) (0.10.9)\n",
            "Requirement already satisfied: scipy in /usr/local/lib/python3.6/dist-packages (from hpbandster) (1.4.1)\n",
            "Requirement already satisfied: statsmodels in /usr/local/lib/python3.6/dist-packages (from hpbandster) (0.10.2)\n",
            "Requirement already satisfied: serpent in /usr/local/lib/python3.6/dist-packages (from hpbandster) (1.30.2)\n",
            "Requirement already satisfied: numpy in /usr/local/lib/python3.6/dist-packages (from hpbandster) (1.17.5)\n",
            "Requirement already satisfied: pyparsing in /usr/local/lib/python3.6/dist-packages (from ConfigSpace->hpbandster) (2.4.6)\n",
            "Requirement already satisfied: cython in /usr/local/lib/python3.6/dist-packages (from ConfigSpace->hpbandster) (0.29.15)\n",
            "Requirement already satisfied: pandas>=0.19 in /usr/local/lib/python3.6/dist-packages (from statsmodels->hpbandster) (0.25.3)\n",
            "Requirement already satisfied: patsy>=0.4.0 in /usr/local/lib/python3.6/dist-packages (from statsmodels->hpbandster) (0.5.1)\n",
            "Requirement already satisfied: python-dateutil>=2.6.1 in /usr/local/lib/python3.6/dist-packages (from pandas>=0.19->statsmodels->hpbandster) (2.6.1)\n",
            "Requirement already satisfied: pytz>=2017.2 in /usr/local/lib/python3.6/dist-packages (from pandas>=0.19->statsmodels->hpbandster) (2018.9)\n",
            "Requirement already satisfied: six in /usr/local/lib/python3.6/dist-packages (from patsy>=0.4.0->statsmodels->hpbandster) (1.12.0)\n"
          ],
          "name": "stdout"
        }
      ]
    },
    {
      "cell_type": "code",
      "metadata": {
        "id": "Gk3h1arbH47r",
        "outputId": "e0127b73-f604-4f01-e7d0-8c424330c7a6",
        "colab": {
          "base_uri": "https://localhost:8080/",
          "height": 36
        }
      },
      "source": [
        "import tensorflow\n",
        "tensorflow.__version__"
      ],
      "execution_count": null,
      "outputs": [
        {
          "output_type": "execute_result",
          "data": {
            "text/plain": [
              "'2.1.0'"
            ]
          },
          "metadata": {
            "tags": []
          },
          "execution_count": 5
        }
      ]
    },
    {
      "cell_type": "markdown",
      "metadata": {
        "id": "kQT73FewuE6X"
      },
      "source": [
        "# Data Preparation\n",
        "\n",
        "First lets start by getting our workspace ready and then loading in the data."
      ]
    },
    {
      "cell_type": "code",
      "metadata": {
        "id": "esWIWkURtStx"
      },
      "source": [
        "from google.colab import drive\n",
        "import sys\n",
        "import os\n",
        "\n",
        "CLASS_BACK = '.'\n",
        "\n",
        "# colours for printing outputs\n",
        "class color:\n",
        "   PURPLE = '\\033[95m'\n",
        "   CYAN = '\\033[96m'\n",
        "   DARKCYAN = '\\033[36m'\n",
        "   BLUE = '\\033[94m'\n",
        "   GREEN = '\\033[92m'\n",
        "   YELLOW = '\\033[93m'\n",
        "   RED = '\\033[91m'\n",
        "   BOLD = '\\033[1m'\n",
        "   UNDERLINE = '\\033[4m'\n",
        "   END = '\\033[0m'"
      ],
      "execution_count": null,
      "outputs": []
    },
    {
      "cell_type": "markdown",
      "metadata": {
        "id": "9cqvMhRjxqEH"
      },
      "source": [
        "## Copy Locally\n",
        "\n",
        "If you have been using Google Colab and data from a mounted google drive, then now is the best time to copy your data to the VM local filesystem to improve training speeds. It means the start of this tutorial will slower as it download BUT training is much faster than if left on google drive<sup>1</sup>\n",
        "\n",
        "In this tutorial we are going to stick with using features familiar to us in previous notebooks. Although deep learning often doesnt require as much data preparation, in its application to EEG data it still occours quite frequently (e.g. REF's).\n",
        "\n",
        "We are moving on to use the TUH dataset now, as deep learning models are much better at handling large amounts of data comparitive to the classical models. Still we are only going to work with a small part of this dataset (most of the patients with absense seizures), so training does not take a long time when going through the examples.\n",
        "\n",
        "**NOTES**\n",
        "- I have a larger dataset of Generalised Epilepsies prepared here (INSERT LINK)\n",
        "\n",
        "---\n",
        "1. https://dev.to/kriyeng/8-tips-for-google-colab-notebooks-to-take-advantage-of-their-free-of-charge-12gb-ram-gpu-be4"
      ]
    },
    {
      "cell_type": "code",
      "metadata": {
        "id": "pXw-IPnjxqjs"
      },
      "source": [
        "import os\n",
        "import gdown\n",
        "FILE_PATH = 'TUH_feat.hdf5'\n",
        "\n",
        "if not os.path.exists(FILE_PATH):\n",
        "    gdown.download('https://drive.google.com/uc?id=1-VCuFpjiVEwtgE31te0Z7zdzEKs5HeLU',\n",
        "                './'+FILE_PATH, quiet=False)"
      ],
      "execution_count": null,
      "outputs": []
    },
    {
      "cell_type": "markdown",
      "metadata": {
        "id": "8Mqrx8-eu8Yv"
      },
      "source": [
        "## Split Data\n",
        "We can see that the data is saved in separate participant ID's"
      ]
    },
    {
      "cell_type": "code",
      "metadata": {
        "id": "BCg_Ic98u5GG",
        "outputId": "98181cc0-ff5c-4814-e3d2-ea8be61d3616",
        "colab": {
          "base_uri": "https://localhost:8080/",
          "height": 207
        }
      },
      "source": [
        "import h5py\n",
        "\n",
        "f = h5py.File(FILE_PATH, 'r')\n",
        "key_list = list(f.keys())\n",
        "key_list"
      ],
      "execution_count": null,
      "outputs": [
        {
          "output_type": "execute_result",
          "data": {
            "text/plain": [
              "['00000675',\n",
              " '00001113',\n",
              " '00001413',\n",
              " '00001984',\n",
              " '00002448',\n",
              " '00002657',\n",
              " '00003053',\n",
              " '00003281',\n",
              " '00003306',\n",
              " '00003635']"
            ]
          },
          "metadata": {
            "tags": []
          },
          "execution_count": 8
        }
      ]
    },
    {
      "cell_type": "markdown",
      "metadata": {
        "id": "_jDQWvwUKcJp"
      },
      "source": [
        "Lets split up our dataset into training and test sets"
      ]
    },
    {
      "cell_type": "code",
      "metadata": {
        "id": "9fU5nIOuJ8Ub",
        "outputId": "64ce824e-92de-4d16-9d2f-1cf555e3339e",
        "colab": {
          "base_uri": "https://localhost:8080/",
          "height": 245
        }
      },
      "source": [
        "from sklearn.model_selection import train_test_split\n",
        "\n",
        "TEST_SIZE = 0.2\n",
        "RANDOM_STATE = 0\n",
        "\n",
        "train_list, test_list = train_test_split(key_list, test_size=TEST_SIZE,\n",
        "                                         random_state=RANDOM_STATE)\n",
        "data_lists = {'train': train_list,\n",
        "              'test': test_list}\n",
        "\n",
        "print(color.BOLD+color.UNDERLINE+'Training List'+color.END)\n",
        "display(train_list)\n",
        "print()\n",
        "print(color.BOLD+color.UNDERLINE+'Test List'+color.END)\n",
        "display(test_list)"
      ],
      "execution_count": null,
      "outputs": [
        {
          "output_type": "stream",
          "text": [
            "\u001b[1m\u001b[4mTraining List\u001b[0m\n"
          ],
          "name": "stdout"
        },
        {
          "output_type": "display_data",
          "data": {
            "text/plain": [
              "['00002448',\n",
              " '00003635',\n",
              " '00001113',\n",
              " '00003053',\n",
              " '00003281',\n",
              " '00001984',\n",
              " '00000675',\n",
              " '00002657']"
            ]
          },
          "metadata": {
            "tags": []
          }
        },
        {
          "output_type": "stream",
          "text": [
            "\n",
            "\u001b[1m\u001b[4mTest List\u001b[0m\n"
          ],
          "name": "stdout"
        },
        {
          "output_type": "display_data",
          "data": {
            "text/plain": [
              "['00001413', '00003306']"
            ]
          },
          "metadata": {
            "tags": []
          }
        }
      ]
    },
    {
      "cell_type": "markdown",
      "metadata": {
        "id": "RVhiuYZavLXP"
      },
      "source": [
        "## Load Data\n",
        "\n",
        "We are going to use the above lists to make our datasets for this tutorial\n",
        "\n",
        "**NOTE**\n",
        "- I have already scaled this data with a standard scaler on each record"
      ]
    },
    {
      "cell_type": "code",
      "metadata": {
        "id": "MEb5z1vWvIsN",
        "outputId": "e13375ca-1446-4c52-a346-9d7fe8c3e321",
        "colab": {
          "base_uri": "https://localhost:8080/",
          "height": 55
        }
      },
      "source": [
        "import pandas as pd\n",
        "\n",
        "def make_data(data_lists):\n",
        "  data_dict = {}\n",
        "  for data_type in data_lists:\n",
        "    key_list = data_lists[data_type]\n",
        "    for i, part_id in enumerate(key_list):\n",
        "      if i == 0:\n",
        "        data = pd.read_hdf(FILE_PATH, part_id)\n",
        "      else:\n",
        "        data = pd.concat([data, pd.read_hdf(FILE_PATH, part_id)])\n",
        "    data_dict[data_type] = data\n",
        "  return data_dict\n",
        "\n",
        "data_dict = make_data(data_lists)\n",
        "\n",
        "X_train = data_dict['train'].values\n",
        "X_test = data_dict['test'].values\n",
        "y_train = data_dict['train'].index.values\n",
        "y_test = data_dict['test'].index.values\n",
        "feat_names = list(data_dict['train'].columns)\n",
        "\n",
        "display(X_train.shape)\n",
        "display(X_test.shape)"
      ],
      "execution_count": null,
      "outputs": [
        {
          "output_type": "display_data",
          "data": {
            "text/plain": [
              "(15566, 1298)"
            ]
          },
          "metadata": {
            "tags": []
          }
        },
        {
          "output_type": "display_data",
          "data": {
            "text/plain": [
              "(5050, 1298)"
            ]
          },
          "metadata": {
            "tags": []
          }
        }
      ]
    },
    {
      "cell_type": "markdown",
      "metadata": {
        "id": "nJPhnk7Mxo8q"
      },
      "source": [
        "Change the codes to integers 1, ..., c+1"
      ]
    },
    {
      "cell_type": "code",
      "metadata": {
        "id": "1u0mjE3TrSU9",
        "outputId": "436d9f89-d3ee-4e57-b4ed-ed3a6978b0b7",
        "colab": {
          "base_uri": "https://localhost:8080/",
          "height": 55
        }
      },
      "source": [
        "import numpy as np\n",
        "from sklearn import preprocessing\n",
        "display(np.unique(y_train))\n",
        "\n",
        "# lets change integers\n",
        "le = preprocessing.LabelEncoder()\n",
        "y_train = le.fit_transform(y_train)\n",
        "y_test = le.transform(y_test)\n",
        "\n",
        "display(np.unique(y_train))"
      ],
      "execution_count": null,
      "outputs": [
        {
          "output_type": "display_data",
          "data": {
            "text/plain": [
              "array([ 6, 12])"
            ]
          },
          "metadata": {
            "tags": []
          }
        },
        {
          "output_type": "display_data",
          "data": {
            "text/plain": [
              "array([0, 1])"
            ]
          },
          "metadata": {
            "tags": []
          }
        }
      ]
    },
    {
      "cell_type": "markdown",
      "metadata": {
        "id": "DuLXFngAt2SJ"
      },
      "source": [
        "# Perceptrons\n",
        "The Perceptron is one of the simplest ANN architectures based on artifical neurons called a threshold logic unit (TLU)/ linear threshold unit (LTU). The inputs and outputs are numerical, with each input associated with a weight. The TLU computes a weighted sum of the inputs, applies a step function, and outputs the result. The most common step function is the Heaviside step function<sup>1</sup>.\n",
        "\n",
        "A single TLU can be used for simple linear binary classification by computing a linear combination of inputs, and if these exceed a threshold, outputs a positive or negative class. Training just means finding the right values of the weights<sup>1</sup>.\n",
        "\n",
        "A Perceptron is a single layer of TLUs with each neuron connected to all the inputs. Special pass through neurons called input neurons, which output whatever input is fed, tend to be first. There is also an extra bias feature commonly added (Bias Neuron), which just outputs 1 all the time<sup>1</sup>.\n",
        "\n",
        "\"*Cells that fire together, wire together*\" Siegrid Löwel\n",
        "\n",
        "This quote is esentially Hebbs rule that the connection weight between two neurons is increased when they have the same output<sup>1</sup>. Perceptrons are trained to have a variant on this rule that takes into account the network error, not reinforcing connections that lead to the wrong output. One training instance is fed at a time, with each making a prediction. For each output neuron that produced a wrong prediction, it reinfroces the connection weights that would have contributed to the correct prediction<sup>1</sup>.\n",
        "\n",
        "Lets have a quick look at how we can make one in sklearn.\n",
        "\n",
        "---\n",
        "1. Géron, A. (2017). Hands-on machine learning with Scikit-Learn and TensorFlow: concepts, tools, and techniques to build intelligent systems. \" O'Reilly Media, Inc.\"."
      ]
    },
    {
      "cell_type": "code",
      "metadata": {
        "id": "ErLnhge-v3sG",
        "outputId": "cc1261eb-197c-43d5-da42-96f3d2539495",
        "colab": {
          "base_uri": "https://localhost:8080/",
          "height": 93
        }
      },
      "source": [
        "%%time\n",
        "import numpy as np\n",
        "from sklearn.linear_model import Perceptron\n",
        "from sklearn.model_selection import cross_val_score\n",
        "from sklearn.metrics import make_scorer\n",
        "\n",
        "per_clf = Perceptron(max_iter=100, #tol=-np.infty,\n",
        "                     random_state=RANDOM_STATE)\n",
        "\n",
        "scores = cross_val_score(estimator=per_clf,\n",
        "                         X=X_train,\n",
        "                         y=y_train,\n",
        "                         scoring = 'accuracy',\n",
        "                         cv=5,\n",
        "                         n_jobs=-1)\n",
        "\n",
        "print('CV accuracy scores: %s' % scores)\n",
        "print('CV accuracy: %.3f +/- %.3f' % (np.mean(scores), np.std(scores)))"
      ],
      "execution_count": null,
      "outputs": [
        {
          "output_type": "stream",
          "text": [
            "CV accuracy scores: [0.98715478 0.98329586 0.96562801 0.97494378 0.97012528]\n",
            "CV accuracy: 0.976 +/- 0.008\n",
            "CPU times: user 109 ms, sys: 162 ms, total: 271 ms\n",
            "Wall time: 2.94 s\n"
          ],
          "name": "stdout"
        }
      ]
    },
    {
      "cell_type": "markdown",
      "metadata": {
        "id": "U-mlNFfuwa4w"
      },
      "source": [
        "Perceptrons have a few limitations. They are similar to Logistic Regression classifiers, but Perceptrons do not output a class probability. They only make predictions based on a hard threshold. Also, as was shown by Minsky and Papert (REF), they are incapable of solving some trivial problems. However some of these limitations can be solved by a Multi-Layer Perceptron<sup>2</sup>.\n",
        "\n",
        "Multi-Layer Perceptrons are comprised of a three general layers:\n",
        "\n",
        "1. A passthrough input layer\n",
        "2. One or more layers of TLUs - hidden layers\n",
        "3. A final layer of TLUs - output layer\n",
        "\n",
        "Every layer has a bias neuron and is fully connected to the next layer. When an ANN has two or more hidden layers it is called a deep neural network (DNN).\n",
        "\n",
        "For each training instance the algorithm...\n",
        "- feeds it to the network\n",
        "- computes the output of every neuron in each layer\n",
        "- measures the output error\n",
        "- computes how much each neuron in the last hidden layer contributed to each output neurons error\n",
        "    - this is repeated for each previous hidden later until the algorithm reaches the input layer. This is known as backpropagation (or Gradient Descent using reverse mode autodiff)<sup>3</sup>.\n",
        "- the connection weights are tweeked to reduce error\n",
        "\n",
        "For this to work the step function has to be changed to a logistic function to allow Gradient Descent to make progress each step. As well as the logistic function (output range 0 to 1), back propogation may be used with other activation functions such as the hyperbolic tangent function (tanh), whos output ranges from -1 to 1 helping make each layers output more normalized, and the ReLU function, which is continuous and has an abrupt change in slope<sup>2</sup>.\n",
        "\n",
        "When the output classes are exclusive, the output later is modified by a shared softmax function, where the output of each neuron corresponds to the estimated probability of the coressponding class<sup>2</sup>.\n",
        "\n",
        "As the signal flows from inputs to outputs, this is an example of a feedforward neural network (FNN).\n",
        "\n",
        "---\n",
        "1. Marvin, M., & Seymour, P. (1969). Perceptrons.\n",
        "2. Géron, A. (2017). Hands-on machine learning with Scikit-Learn and TensorFlow: concepts, tools, and techniques to build intelligent systems. \" O'Reilly Media, Inc.\".\n",
        "3. Rumelhart, D. E., Hinton, G. E., & Williams, R. J. (1985). Learning internal representations by error propagation (No. ICS-8506). California Univ San Diego La Jolla Inst for Cognitive Science."
      ]
    },
    {
      "cell_type": "code",
      "metadata": {
        "id": "PNVhqiowxcTP",
        "outputId": "47743f75-3a5c-4e60-f27d-df4d7bfe885a",
        "colab": {
          "base_uri": "https://localhost:8080/",
          "height": 151
        }
      },
      "source": [
        "%%time\n",
        "from sklearn.neural_network import MLPClassifier\n",
        "\n",
        "per_clf = MLPClassifier(\n",
        "    hidden_layer_sizes = (100,),\n",
        "    max_iter=100,\n",
        "    early_stopping = True,\n",
        "    random_state=RANDOM_STATE)\n",
        "\n",
        "scores = cross_val_score(estimator=per_clf,\n",
        "                         X=X_train,\n",
        "                         y=y_train,\n",
        "                         scoring = 'accuracy',\n",
        "                         cv=5,\n",
        "                         n_jobs=-1)\n",
        "\n",
        "print('CV accuracy scores: %s' % scores)\n",
        "print('CV accuracy: %.3f +/- %.3f' % (np.mean(scores), np.std(scores)))"
      ],
      "execution_count": null,
      "outputs": [
        {
          "output_type": "stream",
          "text": [
            "/usr/local/lib/python3.6/dist-packages/joblib/externals/loky/process_executor.py:706: UserWarning: A worker stopped while some jobs were given to the executor. This can be caused by a too short worker timeout or by a memory leak.\n",
            "  \"timeout or by a memory leak.\", UserWarning\n"
          ],
          "name": "stderr"
        },
        {
          "output_type": "stream",
          "text": [
            "CV accuracy scores: [0.9894027  0.99004176 0.98490202 0.98875683 0.97558625]\n",
            "CV accuracy: 0.986 +/- 0.005\n",
            "CPU times: user 71.2 ms, sys: 79.5 ms, total: 151 ms\n",
            "Wall time: 21.7 s\n"
          ],
          "name": "stdout"
        }
      ]
    },
    {
      "cell_type": "markdown",
      "metadata": {
        "id": "B9HroIJGxUku"
      },
      "source": [
        "# Tensorflow (Keras API)\n",
        "\n",
        "TensorFlow is a multiplatform and scalable programming interface for running large-scale machine learning algorithms. It was developed by Google Brain team and was released in November 2015 under an open source license, so now involves many contributions from the open source community. TensorFlow allows execution on CPUs, GPUs, and TPUs; with each in turn having improved performance capabilities<sup>1</sup>.\n",
        "    \n",
        "TensorFlow is built around a computation graph comprised of nodes. Each node represents an operation which may have input or outputs. The values at the edges of the graph are called tensors<sup>1</sup>. Tensors are defined by their 'rank':\n",
        "- rank-0: scalar\n",
        "    - A tensor that contains a number is a scalar. In Numpy this is a float32 or float64.\n",
        "- rank-1: vector\n",
        "    - An array of numbers along one axis is a vector\n",
        "- rank-2: matrix\n",
        "    - An array of vectors is a matrix, which has two axes (rows and columns)\n",
        "- rank-3: 3 dimensional matrix\n",
        "- ect.\n",
        "    \n",
        "So really a tensor is a container for data with an arbitrary number of dimensions.\n",
        "    \n",
        "Tensorflow can break its graph up into chunks run in parallel.\n",
        "\n",
        "In Python there are multipule API's to construct neural networks and it comes with TensorBoard which means you can browse the computational graph<sup>2</sup>.\n",
        "\n",
        "---\n",
        "1. Raschka, S. (2015). Python machine learning. Packt Publishing Ltd.\n",
        "2. Géron, A. (2017). Hands-on machine learning with Scikit-Learn and TensorFlow: concepts, tools, and techniques to build intelligent systems. \" O'Reilly Media, Inc.\".\n",
        "3. Chollet, F. (2017). Deep learning with python. Manning Publications."
      ]
    },
    {
      "cell_type": "markdown",
      "metadata": {
        "id": "i1VNKLahWcLP"
      },
      "source": [
        "**Keras API**\n",
        "\n",
        "Let start to dig into how to start to build a model with the Keras API; the main API since the update to TensorFlow 2.0.\n",
        "\n",
        "Keras is a model-level library, providing high-level building blocks for developing deep-learning models<sup>4</sup>. Keras is modular and has several different backend engines that can be used:\n",
        "- TensorFlow (Recommended)\n",
        "- Theano\n",
        "- Microsoft Cognitive Toolkit\n",
        "\n",
        "TensorFlow has its own Keras implementation called tf.keras, which works well with TensorFlow specific features such as TensorFlow’s Data API.\n",
        "\n",
        "Lets use tf.keras to start to build a similar model structure as before. To do this we need to define the *layers* of the model. A layer processes data by taking one or more tensors as input and outputs one or more tensors. Some layers are stateless, most have a state in the form of the layer’s weights held in one or several tensors<sup>4</sup>.\n",
        "\n",
        "Many different layers and architectures exist. Some of the layers you can include in a deep learning model include:\n",
        "\n",
        "- Fully Connected (Dense) Layers\n",
        "\n",
        "    - A fully connected layer is a set of linear functions of all of the input features used for every independent output. These dense connections allow global pattern detections<sup>2</sup>.\n",
        "    - Usually used with simple vector data, stored in 2D tensors of shape (samples, features)<sup>4</sup>.\n",
        "    \n",
        "    \n",
        "- Convolutional Layers\n",
        "\n",
        "    - Convolutional layers use a subset of inputs for each output. The transformation creates outputs using a few features at a time, meaning they tend to be better for identifying local patterns instead of global ones<sup>2</sup>.\n",
        "    - As the filters move across the inputs in strides, they are commonly used for image recognition, voice recognition or natural language processing<sup>3</sup>. Image data, stored in 4D tensors, is usually processed by 2D convolution layers<sup>4</sup>.\n",
        "    \n",
        "    \n",
        "- Response Normalization Layers\n",
        "\n",
        "    - These layers divide the output by a function of the collective total responce, creating competition for the outputs as it is measured against its neighbours<sup>2</sup>.\n",
        "\n",
        "\n",
        "- Pooling Layers\n",
        "    \n",
        "    - Pooling layers combine multipule inputs into a single output using methods such as averaging, summing, or taking the maximum value. This reduces outputs in intermediate layers to reduce the probability of overfitting the network to the training data<sup>2</sup>.\n",
        "    \n",
        "    \n",
        "- Recurrent Layers\n",
        "\n",
        "    - Recurrent layers have forward and backward connections so that activations can flow back and forth. Neurons in these layers have inputs at time X<sub>(t)</sub> and its own outputs from time X<sub>(t-1)</sub>. This means that the neurons have two sets of weights, one for inputs and one for the outputs of the previous time step<sup>3</sup>. As they have inputs from the previous time steps known as *memory cells*.\n",
        "    - Usually used with sequence data, stored in 3D tensors of shape (samples, timesteps, features)<sup>4</sup>.\n",
        "    \n",
        "\n",
        "Building deep-learning models means creating a pipeline to transform the data. When using Keras, layers you add to your models are dynamically built to match the shape of the incoming layer. Commonly layers are linearly stacked to map a single input to a single output, but other architectures exist (e.g. Two-branch networks, Multihead networks, Inception blocks)<sup>4</sup>. By stacking multipule layers of different types you can create:\n",
        "\n",
        "- Multilayer Perceptrons\n",
        "    - fully connected layers\n",
        "- Convolutional neural networks\n",
        "    - fully connected, convolutional, and pooling layers.\n",
        "- Recurrent neural network\n",
        "    - recurrent, and fully connected layers.\n",
        "    \n",
        "We are going to focus on Multilayer Perceptrons in this tutorial, which is just a sequential stack of Dense layers. We need to specify how many layers and how many hidden units in each layer there are in the model. Having more hidden units for the learning of more-complex representations, but is more computationally expensive and may lead to the model learning unwanted patterns which may not generalise to data that has not been trained on<sup>4</sup>.\n",
        "\n",
        "**NOTES**\n",
        "- [This](http://playground.tensorflow.org) is a great visualisation\n",
        "- Examples of other APIs will be in an extra tutorial I will release\n",
        "\n",
        "---\n",
        "1. Raschka, S., & Mirjalili, V. (2017). Python Machine Learning (Second). Packt Publishing.\n",
        "2. Zheng, A., & Casari, A. (2018). Feature Engineering for Machine Learning principles and techniques for data scientists.\n",
        "3. Géron, A. (2017). Hands-on machine learning with Scikit-Learn and TensorFlow: concepts, tools, and techniques to build intelligent systems. \" O'Reilly Media, Inc.\".\n",
        "4. Chollet, F. (2017). Deep learning with python. Manning Publications."
      ]
    },
    {
      "cell_type": "code",
      "metadata": {
        "id": "A7BZvraJCHKK",
        "outputId": "92fc9845-daeb-4519-f61b-ea94f436362b",
        "colab": {
          "base_uri": "https://localhost:8080/",
          "height": 283
        }
      },
      "source": [
        "from tensorflow.keras.models import Sequential\n",
        "from tensorflow.keras.layers import Dense\n",
        "\n",
        "model = Sequential()\n",
        "\n",
        "model.add(Dense(units=300,\n",
        "                input_dim=X_train.shape[1],\n",
        "                activation='tanh'))\n",
        "\n",
        "model.add(Dense(units=100,\n",
        "                activation='tanh'))\n",
        "\n",
        "model.add(Dense(units=1,\n",
        "                activation='sigmoid'))\n",
        "\n",
        "model.summary()"
      ],
      "execution_count": null,
      "outputs": [
        {
          "output_type": "stream",
          "text": [
            "Model: \"sequential\"\n",
            "_________________________________________________________________\n",
            "Layer (type)                 Output Shape              Param #   \n",
            "=================================================================\n",
            "dense (Dense)                (None, 300)               389700    \n",
            "_________________________________________________________________\n",
            "dense_1 (Dense)              (None, 100)               30100     \n",
            "_________________________________________________________________\n",
            "dense_2 (Dense)              (None, 1)                 101       \n",
            "=================================================================\n",
            "Total params: 419,901\n",
            "Trainable params: 419,901\n",
            "Non-trainable params: 0\n",
            "_________________________________________________________________\n"
          ],
          "name": "stdout"
        }
      ]
    },
    {
      "cell_type": "markdown",
      "metadata": {
        "id": "Zl_M5TLxxfAO"
      },
      "source": [
        "## Activation Functions\n",
        "\n",
        "You may have notice we have had to set an \"Activation\" function.\n",
        "\n",
        "Activation functions convert an input signal to an output signal. Specifically, we get the sum of inputs and weights and apply the Activation function f(x) to get the output of that layer<sup>1</sup>. Without the activation function the model would only be able to learn linear transformations of the input data<sup>2</sup>.\n",
        "\n",
        "First lets look at three common activation functions: Sigmoid, Tanh, and Relu. The sigmoid reduces values into a [0, 1] interval and often used to create a value that can be used as a probability<sup>2</sup>. Relu (rectified linear unit) zeroes out negative values...\n",
        "\n",
        "**NOTES**\n",
        "- code from https://github.com/ageron/handson-ml/blob/master/10_introduction_to_artificial_neural_networks.ipynb\n",
        "\n",
        "**TODO**\n",
        "- add bits in from my writings to improve this\n",
        "\n",
        "---\n",
        "1. https://towardsdatascience.com/activation-functions-and-its-types-which-is-better-a9a5310cc8f\n",
        "2. Chollet, F. (2017). Deep learning with python. Manning Publications."
      ]
    },
    {
      "cell_type": "code",
      "metadata": {
        "id": "vxfVpvy_xk-q",
        "outputId": "b46ab5cf-5919-49b3-d5e5-dfca09e9e00c",
        "colab": {
          "base_uri": "https://localhost:8080/",
          "height": 282
        }
      },
      "source": [
        "%matplotlib inline\n",
        "\n",
        "import matplotlib.pyplot as plt\n",
        "import numpy as np\n",
        "\n",
        "def sigmoid(z):\n",
        "    return 1 / (1 + np.exp(-z))\n",
        "\n",
        "def relu(z):\n",
        "    return np.maximum(0, z)\n",
        "\n",
        "def derivative(f, z, eps=0.000001):\n",
        "    return (f(z + eps) - f(z - eps))/(2 * eps)\n",
        "\n",
        "z = np.linspace(-5, 5, 200)\n",
        "\n",
        "plt.figure()\n",
        "\n",
        "plt.plot(z, np.sign(z), \"r-\", linewidth=1, label=\"Step\")\n",
        "plt.plot(z, sigmoid(z), \"g--\", linewidth=2, label=\"Sigmoid\")\n",
        "plt.plot(z, np.tanh(z), \"b-\", linewidth=2, label=\"Tanh\")\n",
        "plt.plot(z, relu(z), \"m-.\", linewidth=2, label=\"ReLU\")\n",
        "plt.grid(True)\n",
        "plt.legend(loc=\"center right\", fontsize=14)\n",
        "plt.title(\"Activation functions\", fontsize=14)\n",
        "plt.axis([-5, 5, -1.2, 1.2])\n",
        "\n",
        "plt.show()"
      ],
      "execution_count": null,
      "outputs": [
        {
          "output_type": "display_data",
          "data": {
            "image/png": "[encoded data removed]",
            "text/plain": [
              "<Figure size 432x288 with 1 Axes>"
            ]
          },
          "metadata": {
            "tags": []
          }
        }
      ]
    },
    {
      "cell_type": "markdown",
      "metadata": {
        "id": "3lhNBrSyxthW"
      },
      "source": [
        "ReLU activation functions are good because they dont saturate for positive values and is fast to compute. However they can cause some neurons to die (*dying ReLUs*), so they only output 0, if weights are updated such that the weighted sum of the neurons inputs are negative. This can be helped by *leaky* ReLU, where a slope is defined by a hyperparameter to ensure they do not die<sup>1,2</sup>.\n",
        "\n",
        "**NOTES**\n",
        "- code from https://github.com/ageron/handson-ml/blob/master/11_deep_learning.ipynb\n",
        "\n",
        "---\n",
        "1. Géron, A. (2017). Hands-on machine learning with Scikit-Learn and TensorFlow: concepts, tools, and techniques to build intelligent systems. \" O'Reilly Media, Inc.\".\n",
        "2. Xu, B., Wang, N., Chen, T., & Li, M. (2015). Empirical evaluation of rectified activations in convolutional network. arXiv preprint arXiv:1505.00853."
      ]
    },
    {
      "cell_type": "code",
      "metadata": {
        "id": "7amJRu2ExuHW",
        "outputId": "097078fc-72b1-4eb5-ec29-f93493a5d445",
        "colab": {
          "base_uri": "https://localhost:8080/",
          "height": 282
        }
      },
      "source": [
        "# for leaky_relu\n",
        "def leaky_relu(z, alpha=0.01):\n",
        "    return np.maximum(alpha*z, z)\n",
        "\n",
        "z = np.linspace(-5, 5, 200)\n",
        "\n",
        "plt.plot(z, leaky_relu(z, 0.05), \"b-\", linewidth=2)\n",
        "plt.plot([-5, 5], [0, 0], 'k-')\n",
        "plt.plot([0, 0], [-0.5, 4.2], 'k-')\n",
        "plt.grid(True)\n",
        "props = dict(facecolor='black', shrink=0.1)\n",
        "plt.annotate('Leak', xytext=(-3.5, 0.5), xy=(-5, -0.2), arrowprops=props, fontsize=14, ha=\"center\")\n",
        "plt.title(\"Leaky ReLU activation function\", fontsize=14)\n",
        "plt.axis([-5, 5, -0.5, 4.2])\n",
        "\n",
        "plt.show()"
      ],
      "execution_count": null,
      "outputs": [
        {
          "output_type": "display_data",
          "data": {
            "image/png": "[encoded data removed]",
            "text/plain": [
              "<Figure size 432x288 with 1 Axes>"
            ]
          },
          "metadata": {
            "tags": []
          }
        }
      ]
    },
    {
      "cell_type": "markdown",
      "metadata": {
        "id": "b--mK4gOxxSW"
      },
      "source": [
        "A variation on ReLU can also be used such as the *exponential linear unit (ELU)* which can take on negative values to alliviate vanishing gradients, has a nonzero gradient to avoid dying ReLUs, and can speed up Gradient Descent if the function is smooth<sup>2</sup>. It is still slower than ReLU to compute at testing time, but during testing has a faster convergence rate<sup>1</sup>.\n",
        "\n",
        "**NOTES**\n",
        "- code from https://github.com/ageron/handson-ml/blob/master/11_deep_learning.ipynb\n",
        "\n",
        "---\n",
        "1. Géron, A. (2017). Hands-on machine learning with Scikit-Learn and TensorFlow: concepts, tools, and techniques to build intelligent systems. \" O'Reilly Media, Inc.\".\n",
        "2. Clevert, D. A., Unterthiner, T., & Hochreiter, S. (2015). Fast and accurate deep network learning by exponential linear units (elus). arXiv preprint arXiv:1511.07289."
      ]
    },
    {
      "cell_type": "code",
      "metadata": {
        "id": "7Slxf7zuxx9P",
        "outputId": "3cfcd7c8-d3e2-4b87-8099-3e6d15a902b0",
        "colab": {
          "base_uri": "https://localhost:8080/",
          "height": 284
        }
      },
      "source": [
        "def elu(z, alpha=1):\n",
        "    return np.where(z < 0, alpha * (np.exp(z) - 1), z)\n",
        "\n",
        "plt.plot(z, elu(z), \"b-\", linewidth=2)\n",
        "plt.plot([-5, 5], [0, 0], 'k-')\n",
        "plt.plot([-5, 5], [-1, -1], 'k--')\n",
        "plt.plot([0, 0], [-2.2, 3.2], 'k-')\n",
        "plt.grid(True)\n",
        "plt.title(r\"ELU activation function ($\\alpha=1$)\", fontsize=14)\n",
        "plt.axis([-5, 5, -2.2, 3.2])\n",
        "\n",
        "plt.show()"
      ],
      "execution_count": null,
      "outputs": [
        {
          "output_type": "display_data",
          "data": {
            "image/png": "[encoded data removed]",
            "text/plain": [
              "<Figure size 432x288 with 1 Axes>"
            ]
          },
          "metadata": {
            "tags": []
          }
        }
      ]
    },
    {
      "cell_type": "markdown",
      "metadata": {
        "id": "Gg_Zzluex0L_"
      },
      "source": [
        "A further activation function is *scaled exponential linear units (SELU)*<sup>1</sup> which, when combined with LeCun initialization, will self-normalize to prevent the vanishing/exploding gradients problem. The default SELU hyperparameters (scale and alpha) are tuned so that the mean output of each neuron remains close to 0, and the standard deviation remains close to 1 provided the inputs are standardized with mean 0 and standard deviation 1 too<sup>2</sup>.\n",
        "\n",
        "However, as the self-normalization is easily broken, it cannot be used with<sup>2</sup>:\n",
        "- ℓ1 or ℓ2 regularization\n",
        "- regular dropout (but can with Alpha Dropout: tf.contrib.nn.alpha_dropout())\n",
        "- max-norm\n",
        "- skip connections or other non-sequential topologies\n",
        "\n",
        "**NOTES**\n",
        "- code from https://github.com/ageron/handson-ml/blob/master/11_deep_learning.ipynb\n",
        "\n",
        "---\n",
        "1. Klambauer, G., Unterthiner, T., Mayr, A., & Hochreiter, S. (2017). Self-normalizing neural networks. In Advances in neural information processing systems (pp. 971-980).\n",
        "2. https://github.com/ageron/handson-ml/blob/master/11_deep_learning.ipynb"
      ]
    },
    {
      "cell_type": "code",
      "metadata": {
        "id": "YSfJd5oix4Ug",
        "outputId": "1f990c3c-b793-4455-b9b0-6f02207f85ad",
        "colab": {
          "base_uri": "https://localhost:8080/",
          "height": 282
        }
      },
      "source": [
        "from scipy.special import erfc\n",
        "\n",
        "# alpha and scale to self normalize with mean 0 and standard deviation 1\n",
        "# (see equation 14 in the paper):\n",
        "alpha_0_1 = -np.sqrt(2 / np.pi) / (erfc(1/np.sqrt(2)) * np.exp(1/2) - 1)\n",
        "scale_0_1 = (1 - erfc(1 / np.sqrt(2)) * np.sqrt(np.e)) * np.sqrt(2 * np.pi) * (2 * erfc(np.sqrt(2))*np.e**2 + np.pi*erfc(1/np.sqrt(2))**2*np.e - 2*(2+np.pi)*erfc(1/np.sqrt(2))*np.sqrt(np.e)+np.pi+2)**(-1/2)\n",
        "\n",
        "def selu(z, scale=scale_0_1, alpha=alpha_0_1):\n",
        "    return scale * elu(z, alpha)\n",
        "\n",
        "plt.plot(z, selu(z), \"b-\", linewidth=2)\n",
        "plt.plot([-5, 5], [0, 0], 'k-')\n",
        "plt.plot([-5, 5], [-1.758, -1.758], 'k--')\n",
        "plt.plot([0, 0], [-2.2, 3.2], 'k-')\n",
        "plt.grid(True)\n",
        "plt.title(r\"SELU activation function\", fontsize=14)\n",
        "plt.axis([-5, 5, -2.2, 3.2])\n",
        "\n",
        "plt.show()"
      ],
      "execution_count": null,
      "outputs": [
        {
          "output_type": "display_data",
          "data": {
            "image/png": "[encoded data removed]",
            "text/plain": [
              "<Figure size 432x288 with 1 Axes>"
            ]
          },
          "metadata": {
            "tags": []
          }
        }
      ]
    },
    {
      "cell_type": "markdown",
      "metadata": {
        "id": "-1p6x0brx4_p"
      },
      "source": [
        "In general, the best activation function to use are:\n",
        "1. LU Variants\n",
        "    1. SELU\n",
        "        - if using sequential CNNs\n",
        "    2. ELU\n",
        "        - if using recurrent neural networks\n",
        "    3. Leaky ReLU\n",
        "        - When runtime performance is preferable\n",
        "2. ReLU\n",
        "3. tanh\n",
        "4. Logistic"
      ]
    },
    {
      "cell_type": "markdown",
      "metadata": {
        "id": "cn_dBUTCx9q6"
      },
      "source": [
        "Another common activation function is a softmax activation function. This is typically used to ensure the output of the estimated probabilities for class membership at the end of a model are between 0 and 1. It does this by suppressing values below a maximum value so the values sum to 1<sup>1</sup>.\n",
        "\n",
        "**Note**\n",
        "- the below diagram is adapted from<sup>1</sup> which has useful plots of more activation functions.\n",
        "\n",
        "---\n",
        "1.  https://adl1995.github.io/an-overview-of-activation-functions-used-in-neural-networks.html"
      ]
    },
    {
      "cell_type": "code",
      "metadata": {
        "id": "BZEQknrzDrra",
        "outputId": "92f61873-ac42-42da-bd78-3ef37e6190fe",
        "colab": {
          "base_uri": "https://localhost:8080/",
          "height": 268
        }
      },
      "source": [
        "z = np.linspace(-5, 5, 100)\n",
        "plt.plot(np.exp(z) / np.sum(np.exp(z)))\n",
        "plt.show()"
      ],
      "execution_count": null,
      "outputs": [
        {
          "output_type": "display_data",
          "data": {
            "image/png": "[encoded data removed]",
            "text/plain": [
              "<Figure size 432x288 with 1 Axes>"
            ]
          },
          "metadata": {
            "tags": []
          }
        }
      ]
    },
    {
      "cell_type": "markdown",
      "metadata": {
        "id": "O_GcqBFax_Z3"
      },
      "source": [
        "## Loss Functions\n",
        "\n",
        "Now we need to measure how far the output of the model is from what we expected. This is were we define a \"*loss function*\" (or objective function) to take the predictions of the network and the true target and compute a score of how distant they are from each other.\n",
        "\n",
        "Defining your loss is important but in general a rule you can use is<sup>1</sup>...\n",
        "\n",
        "- ...binary crossentropy for a two-class classification problems\n",
        "- ...categorical crossentropy for many-class classification problems\n",
        "- ...mean-squared error for regression problems\n",
        "- ...connectionist temporal classification (CTC) for a sequence-learning problems\n",
        "\n",
        "As we are looking at a binary classification problem we will use binary crossentropy. Crossentropy comes from Information Theory and measures the distance between proability distributions; used here to measure the truth from the predictions<sup>1</sup>.\n",
        "\n",
        "The loss function and last-layer activation work together so both should be considered. Heres a table below, again from Chollet, to help<sup>1</sup>:\n",
        "\n",
        "| Problem Type                                            | Last-layer Activation | Loss Function                       |\n",
        "|--------------------------------------------------------------|-----------------------------------|--------------------------------------------|\n",
        "| Binary Classification                                | sigmoid                       | binary_crossentropy            |\n",
        "| Multiclass, single-label Classification  | softmax                        | categorical_crossentropy   |\n",
        "| Multiclass, multilabel Classification     | sigmoid                        | binary_crossentropy             |\n",
        "| Regression to arbitary values                 | None                            | mse                                          |\n",
        "| Regression to values between 0 and 1 | sigmoid                       | mse or binary_crossentropy |\n",
        "\n",
        "**TODO**\n",
        "- mention the different loss function for binary such as hinge detailed in https://machinelearningmastery.com/how-to-choose-loss-functions-when-training-deep-learning-neural-networks/\n",
        "\n",
        "\n",
        "---\n",
        "1. Chollet, F. (2017). Deep learning with python. Manning Publications."
      ]
    },
    {
      "cell_type": "code",
      "metadata": {
        "id": "oOQvuYVByBfH"
      },
      "source": [
        "loss = 'binary_crossentropy'"
      ],
      "execution_count": null,
      "outputs": []
    },
    {
      "cell_type": "markdown",
      "metadata": {
        "id": "rmHLY3clzqKk"
      },
      "source": [
        "## Optimizers\n",
        "Once we have scored the output of our model, with our loss function, we want to feedback this back to the connections in the model. This is to adjust the weights so that they will lower the loss score for the current example of data. This adjustment is the job of the optimizer, which implements a Backpropagation algorithm<sup>8</sup>. At the start of a model the network weights are assigned random values, so that it randomly transforms the data. Over multipule examples fed to the system in a training loop, the weights are adjusted slightly in the right direction to decrease the loss.\n",
        "\n",
        "The loss can be thought of as on a slope, with each step change moving futher down the slope. By going against the curvature and updating the weights so you are moving in the opposite direction of the 'gradient', where the slope increases upwards, you intuitively should be lower on the loss curve. The process therefore becomes<sup>8</sup>:\n",
        "\n",
        "1. Draw a batch of training samples x and corresponding targets y\n",
        "2. Run the network on x to obtain predictions y_pred\n",
        "3. Compute the loss of the network on the batch, a measure of the mismatch between y_pred and y\n",
        "4. Compute the gradient of the loss with regard to the network’s parameters (a backward pass)\n",
        "5. Move the parameters a little in the opposite direction from the gradient—for example W -= step * gradient—thus reducing the loss on the batch a bit\n",
        "\n",
        "This process is known as mini-batch stochastic gradient descent (mini-batch SGD). Stochastic refers to each batch of data being drawn at random<sup>8</sup>. Other types of optimisation methods exist, such as those that take into account previous weight updates, rather than just the current value of the gradients, when computing the next weight update<sup>8</sup>.\n",
        "\n",
        "Here are a list of some Optimizers<sup>1<sup>:\n",
        "\n",
        "**Gradient Descent**\n",
        "\n",
        "Takes small regular steps down the slope. It updates the weights by subtracting the cost gradient from the weights, multiplied by the learning rate.\n",
        "\n",
        "**TODO**\n",
        "- improve description, get reference\n",
        "\n",
        "**Momentum Optimization<sup>2</sup>**\n",
        "\n",
        "Momentum Optimization is influenced by the past gradients as at each iteration it subtracts the local gradient from the momentum vector, and adds this momentum vector to the weights. This means the gradient accelerates. To prevent the momentum growing too large, a friction term is set (0 high friction and 1 low). Due to momentum it may oscillate a few times by overshooting and come back before stabalizing at a minimum<sup>1</sup>.\n",
        "\n",
        "*Advantages*\n",
        "- It can escape plateus faster than Gradient Descent.\n",
        "- If Batch Normalization is not used, upper layers will have inputs with different scales which this can help with\n",
        "\n",
        "*Disadvantages*\n",
        "- Add an extra hyperparameter but a 0.9 momentum is a good place to start\n",
        "\n",
        "**Nesterov Accelerated Gradient (Nesterov Momentum optimization)<sup>3</sup>**\n",
        "\n",
        "This is a variant on Momentum Optimization that mesaures the gradient of the cost function ahead in the direction of the momentum rather than the local position.\n",
        "\n",
        "*Advantages*\n",
        "- Nesterov may end up closer to the optimum than Momentum Optimization\n",
        "- Nesterov converges faster than Momentum Optimization as it reduces oscillations\n",
        "\n",
        "**AdaGrad<sup>4</sup>**\n",
        "\n",
        "Gradient Descent goes down the steepest slope and all AdaGrad does is to scale down the gradient vector along the steepest dimensions so that it can correct the direction to point more towards the global optimum. This means the learning rate is decayed faster for steeper dimensions than those with gentler slopes (*adaptive learning rate*).\n",
        "\n",
        "*Advantages*\n",
        "- The learning rate requires less tuning\n",
        "- performs well for simple quadratic problem and with Linear Regression\n",
        "\n",
        "*Disadvantages*\n",
        "- It often stops to early when training neural networks\n",
        "\n",
        "**RMSProp<sup>5</sup>**\n",
        "\n",
        "RMSProp aims to address the problem of stopping to early found in AdaGrad by accumulating the gradients from recent iterations rather than all the previous gradients. This is done using a decay hyperparameter, which 0.9 is a sensible default.\n",
        "\n",
        "*Advantages*\n",
        "- Does not stop to early\n",
        "\n",
        "*Disadvantages*\n",
        "- Adds another hyperparameter\n",
        "\n",
        "**Adaptive Movement Estimation(Adam) Optimization<sup>6</sup>**\n",
        "\n",
        "Combines elements of Momentum optimization and RMSProp by tracking the exponentially decaying average of past gradients as well as tracking the exponentially decaying average of past squared gradients. Again the defaults are pretty good.\n",
        "\n",
        "*Advantages*\n",
        "- Requires less tuning of learning hyperparameter\n",
        "- Defaults are often very good\n",
        "\n",
        "*Disadvantages*\n",
        "- Can lead to solutions that generalize poorly on some datasets<sup>7</sup>\n",
        "\n",
        "---\n",
        "1. Géron, A. (2017). Hands-on machine learning with Scikit-Learn and TensorFlow: concepts, tools, and techniques to build intelligent systems. \" O'Reilly Media, Inc.\".\n",
        "2. Polyak, B. T. (1964). Some methods of speeding up the convergence of iteration methods. USSR Computational Mathematics and Mathematical Physics, 4(5), 1-17.\n",
        "3. Nesterov, Y. (1983). A method for unconstrained convex minimization problem with the rate of convergence O (1/k^ 2). In Doklady AN USSR (Vol. 269, pp. 543-547).\n",
        "4. Duchi, J., Hazan, E., & Singer, Y. (2011). Adaptive subgradient methods for online learning and stochastic optimization. Journal of Machine Learning Research, 12(Jul), 2121-2159.\n",
        "5. Tieleman, T., & Hinton, G. (2012). Lecture 6.5-rmsprop: Divide the gradient by a running average of its recent magnitude. COURSERA: Neural networks for machine learning, 4(2), 26-31.\n",
        "6. Kingma, D. P., & Ba, J. (2014). Adam: A method for stochastic optimization. arXiv preprint arXiv:1412.6980.\n",
        "7. Wilson, A. C., Roelofs, R., Stern, M., Srebro, N., & Recht, B. (2017). The marginal value of adaptive gradient methods in machine learning. In Advances in Neural Information Processing Systems (pp. 4148-4158).\n",
        "8.  Chollet, F. (2017). Deep learning with python. Manning Publications."
      ]
    },
    {
      "cell_type": "code",
      "metadata": {
        "id": "QJdAazAVz0BG"
      },
      "source": [
        "from tensorflow.keras.optimizers import Adam\n",
        "\n",
        "model.compile(optimizer=Adam(0.001),\n",
        "              loss=loss,\n",
        "              metrics=['accuracy', 'AUC', 'Recall', 'Precision'])"
      ],
      "execution_count": null,
      "outputs": []
    },
    {
      "cell_type": "markdown",
      "metadata": {
        "id": "6DJNpQKGzcq3"
      },
      "source": [
        "Comparison of some optimization methods (animation by [Alec Radford]). The star denotes the global minimum on the error surface.\n",
        "\n",
        "![alt text](https://i.imgur.com/s25RsOr.gif)\n",
        "\n",
        "[Alec Radford]: https://www.reddit.com/r/MachineLearning/comments/2gopfa/visualizing_gradient_optimization_techniques/ckloy0p/"
      ]
    },
    {
      "cell_type": "markdown",
      "metadata": {
        "id": "N3NvqsVAz2DJ"
      },
      "source": [
        "Lets combine building the model into a function we can call. This will help us later when we want to load in the weights we have saved from training."
      ]
    },
    {
      "cell_type": "code",
      "metadata": {
        "id": "6iR3N2moJlAG",
        "outputId": "098eaced-c633-48f3-fdd1-e4654f1a472a",
        "colab": {
          "base_uri": "https://localhost:8080/",
          "height": 283
        }
      },
      "source": [
        "from tensorflow.keras.backend import clear_session\n",
        "\n",
        "# Returns a short sequential model\n",
        "def create_model():\n",
        "  model = Sequential()\n",
        "\n",
        "  model.add(Dense(units=300,\n",
        "                  input_dim=X_train.shape[1],\n",
        "                  activation='relu'))\n",
        "\n",
        "  model.add(Dense(units=100,\n",
        "                  activation='relu'))\n",
        "\n",
        "  model.add(Dense(units=1,\n",
        "                  activation='sigmoid'))\n",
        "\n",
        "  model.compile(optimizer=Adam(0.001),\n",
        "                loss=loss,\n",
        "                metrics=['accuracy', 'AUC', 'Recall', 'Precision'])\n",
        "\n",
        "  return model\n",
        "\n",
        "clear_session()\n",
        "# Create a basic model instance\n",
        "model = create_model()\n",
        "model.summary()"
      ],
      "execution_count": null,
      "outputs": [
        {
          "output_type": "stream",
          "text": [
            "Model: \"sequential\"\n",
            "_________________________________________________________________\n",
            "Layer (type)                 Output Shape              Param #   \n",
            "=================================================================\n",
            "dense (Dense)                (None, 300)               389700    \n",
            "_________________________________________________________________\n",
            "dense_1 (Dense)              (None, 100)               30100     \n",
            "_________________________________________________________________\n",
            "dense_2 (Dense)              (None, 1)                 101       \n",
            "=================================================================\n",
            "Total params: 419,901\n",
            "Trainable params: 419,901\n",
            "Non-trainable params: 0\n",
            "_________________________________________________________________\n"
          ],
          "name": "stdout"
        }
      ]
    },
    {
      "cell_type": "markdown",
      "metadata": {
        "id": "nbex8dWQKHdv"
      },
      "source": [
        "## Callback Functions\n",
        "\n",
        "It is worth noting that as the models gets better on training data, neural networks eventually start overfitting. This means we should monitor the performance of the model on data that is outside of the training set (validation data). We should also set some parameters to save models when they improve on our chosen metric. We can do this using Callback Functions."
      ]
    },
    {
      "cell_type": "code",
      "metadata": {
        "id": "sFFD60hKz4Ng"
      },
      "source": [
        "from tensorflow.keras.callbacks import ModelCheckpoint\n",
        "\n",
        "best_model_filepath = \"Best_MLP_Model.ckpt\"\n",
        "\n",
        "# Save the model under certain conditions\n",
        "callback_checkpoint = ModelCheckpoint(filepath=best_model_filepath,\n",
        "                                      monitor='val_loss',\n",
        "                                      verbose=0,\n",
        "                                      save_weights_only=True,\n",
        "                                      save_best_only=True)"
      ],
      "execution_count": null,
      "outputs": []
    },
    {
      "cell_type": "markdown",
      "metadata": {
        "id": "7FquwUA2z6Cu"
      },
      "source": [
        "A regularization method to stop overfitting models is to interrupt training when the performance on the validation set starts dropping. You can evaluate the model on a validation set at regular intervals and save snapshots of the performance. Once a limit on training is reached, you restore the best model snapshot. Although it works well, its best to combine with other regularization methods<sup>1</sup>.\n",
        "\n",
        "---\n",
        "1. Géron, A. (2017). Hands-on machine learning with Scikit-Learn and TensorFlow: concepts, tools, and techniques to build intelligent systems. \" O'Reilly Media, Inc.\"."
      ]
    },
    {
      "cell_type": "code",
      "metadata": {
        "id": "t2wyZgKXz8n3"
      },
      "source": [
        "from tensorflow.keras.callbacks import EarlyStopping\n",
        "\n",
        "callback_early_stopping = EarlyStopping(monitor='val_loss',\n",
        "                                        patience=5,\n",
        "                                        verbose=1)"
      ],
      "execution_count": null,
      "outputs": []
    },
    {
      "cell_type": "markdown",
      "metadata": {
        "id": "P-mVOHdNz-Fg"
      },
      "source": [
        "**TODO**\n",
        "- use tensorboard more in tutorial"
      ]
    },
    {
      "cell_type": "code",
      "metadata": {
        "id": "dV64qeWwz_aO"
      },
      "source": [
        "from tensorflow.python.keras.callbacks import TensorBoard\n",
        "\n",
        "tensorboard_logs_filepath = \"./MLP_logs/\"\n",
        "\n",
        "callback_tensorboard = TensorBoard(log_dir=tensorboard_logs_filepath,\n",
        "                                   histogram_freq=0,\n",
        "                                   write_graph=False)"
      ],
      "execution_count": null,
      "outputs": []
    },
    {
      "cell_type": "markdown",
      "metadata": {
        "id": "NofGrJAW0A2u"
      },
      "source": [
        "We can also change the learning rate during the course of training. If a learning rate is too high then training may diverge, and if too low then it will take a very long time to converge. Rather than a constant learning rate, the learning rate can start high and reduce once progress slows<sup>1</sup>.\n",
        "\n",
        "Different methods include:\n",
        "- Predetermined piecewise constant learning rate\n",
        "    - Learning rate changes after x number of epochs\n",
        "- Performance Scheduling\n",
        "    - Measure validation error every n steps and reduce the learning by a factor of λ when error stops dropping\n",
        "- Exponential Scheduling\n",
        "    - Set the learning rate to a function of the iteration number, dropping by a factor of 10 every r steps\n",
        "    - Prefered when compared to the other methods in Senior et al. (2013)<sup>2</sup>.\n",
        "- Power Scheduling\n",
        "    - Similar to Exponential Scheduling but drops slower\n",
        "    \n",
        "We will change the learning rate for the optimizer when the loss does not change. This could be used to try escape local minima or just boost the performance of the model a little bit more at the end of training. We set the learning rate to 1e-3 previously, so we will multiply it by 0.1 to make it 1e-4 once the validation loss doesnt change from an epoch.\n",
        "    \n",
        "---\n",
        "1. Géron, A. (2017). Hands-on machine learning with Scikit-Learn and TensorFlow: concepts, tools, and techniques to build intelligent systems. \" O'Reilly Media, Inc.\".\n",
        "2. Senior, A., Heigold, G., & Yang, K. (2013, May). An empirical study of learning rates in deep neural networks for speech recognition. In 2013 IEEE International Conference on Acoustics, Speech and Signal Processing (pp. 6724-6728). IEEE."
      ]
    },
    {
      "cell_type": "code",
      "metadata": {
        "id": "1n3XpAgn0Dte"
      },
      "source": [
        "from tensorflow.python.keras.callbacks import ReduceLROnPlateau\n",
        "\n",
        "callback_reduce_lr = ReduceLROnPlateau(monitor='val_loss',\n",
        "                                       factor=0.1,\n",
        "                                       min_lr=1e-4,\n",
        "                                       patience=0,\n",
        "                                       verbose=1)"
      ],
      "execution_count": null,
      "outputs": []
    },
    {
      "cell_type": "markdown",
      "metadata": {
        "id": "XSNi1GPnN-vN"
      },
      "source": [
        "We can make another function here to help make it quicker to set up"
      ]
    },
    {
      "cell_type": "code",
      "metadata": {
        "id": "D8NPg0axOBOk"
      },
      "source": [
        "def create_callbacks(best_model_filepath, tensorboard_logs_filepath):\n",
        "\n",
        "  callback_checkpoint = ModelCheckpoint(filepath=best_model_filepath,\n",
        "                                        monitor='val_loss',\n",
        "                                        verbose=0,\n",
        "                                        save_weights_only=True,\n",
        "                                        save_best_only=True)\n",
        "\n",
        "  callback_early_stopping = EarlyStopping(monitor='val_loss',\n",
        "                                        patience=5,\n",
        "                                        verbose=1)\n",
        "\n",
        "  callback_tensorboard = TensorBoard(log_dir=tensorboard_logs_filepath,\n",
        "                                   histogram_freq=0,\n",
        "                                   write_graph=False)\n",
        "\n",
        "  callback_reduce_lr = ReduceLROnPlateau(monitor='val_loss',\n",
        "                                       factor=0.1,\n",
        "                                       min_lr=1e-4,\n",
        "                                       patience=0,\n",
        "                                       verbose=1)\n",
        "\n",
        "  return [callback_checkpoint, callback_early_stopping,\n",
        "          callback_tensorboard, callback_reduce_lr]"
      ],
      "execution_count": null,
      "outputs": []
    },
    {
      "cell_type": "markdown",
      "metadata": {
        "id": "Gc3tds3v0E7G"
      },
      "source": [
        "## Train Model\n",
        "\n",
        "We have unballanced data so lets set a class weight"
      ]
    },
    {
      "cell_type": "code",
      "metadata": {
        "id": "UyLZPqor0HLY"
      },
      "source": [
        "from sklearn.utils import class_weight\n",
        "# calculate the class weights\n",
        "class_weights = class_weight.compute_class_weight('balanced',\n",
        "                                                  np.unique(y_train),\n",
        "                                                  y_train)"
      ],
      "execution_count": null,
      "outputs": []
    },
    {
      "cell_type": "markdown",
      "metadata": {
        "id": "uKKC2tUg0H70"
      },
      "source": [
        "Now we iterate on the training data by fitting the model, alike to sklearn.\n",
        "\n",
        "We can also specify the validation_data so we can see how the model generalises to data it is not trained on at each epoch\n",
        "\n",
        "**TODO**\n",
        "- Write about how batch size can change performance\n",
        "\n",
        "**NOTE**\n",
        "- It is common to see batchsizes double from 32 (e.g. [32, 64, 128]) depending on data size."
      ]
    },
    {
      "cell_type": "code",
      "metadata": {
        "id": "zvxR7pnB0KL2",
        "outputId": "99eb8ba2-f5b9-4b68-bdd0-574e921dd255",
        "colab": {
          "base_uri": "https://localhost:8080/",
          "height": 399
        }
      },
      "source": [
        "EPOCHS = 20\n",
        "BATCH_SIZE = 64\n",
        "\n",
        "history = model.fit(X_train,\n",
        "                    y_train,\n",
        "                    batch_size=BATCH_SIZE,\n",
        "                    epochs=EPOCHS,\n",
        "                    validation_split=0.1,\n",
        "                    callbacks= create_callbacks(best_model_filepath,\n",
        "                                                tensorboard_logs_filepath),\n",
        "                    class_weight = class_weights,\n",
        "                    verbose=1)"
      ],
      "execution_count": null,
      "outputs": [
        {
          "output_type": "stream",
          "text": [
            "Train on 14009 samples, validate on 1557 samples\n",
            "Epoch 1/20\n",
            "   64/14009 [..............................] - ETA: 8:47 - loss: 0.5398 - accuracy: 0.7344 - AUC: 0.7702 - Recall: 1.0000 - Precision: 0.1053WARNING:tensorflow:Method (on_train_batch_end) is slow compared to the batch update (0.104301). Check your callbacks.\n",
            "14009/14009 [==============================] - 4s 320us/sample - loss: 0.0393 - accuracy: 0.9879 - AUC: 0.9844 - Recall: 0.8562 - Precision: 0.8661 - val_loss: 0.0241 - val_accuracy: 0.9917 - val_AUC: 0.9964 - val_Recall: 0.8431 - val_Precision: 0.8958\n",
            "Epoch 2/20\n",
            "13824/14009 [============================>.] - ETA: 0s - loss: 0.0164 - accuracy: 0.9933 - AUC: 0.9990 - Recall: 0.9110 - Precision: 0.9357\n",
            "Epoch 00002: ReduceLROnPlateau reducing learning rate to 0.00010000000474974513.\n",
            "14009/14009 [==============================] - 2s 119us/sample - loss: 0.0163 - accuracy: 0.9934 - AUC: 0.9990 - Recall: 0.9118 - Precision: 0.9362 - val_loss: 0.0374 - val_accuracy: 0.9891 - val_AUC: 0.9855 - val_Recall: 0.8824 - val_Precision: 0.8036\n",
            "Epoch 3/20\n",
            "13568/14009 [============================>.] - ETA: 0s - loss: 0.0059 - accuracy: 0.9982 - AUC: 0.9999 - Recall: 0.9764 - Precision: 0.9831\n",
            "Epoch 00003: ReduceLROnPlateau reducing learning rate to 0.0001.\n",
            "14009/14009 [==============================] - 2s 118us/sample - loss: 0.0060 - accuracy: 0.9981 - AUC: 0.9999 - Recall: 0.9755 - Precision: 0.9803 - val_loss: 0.0346 - val_accuracy: 0.9897 - val_AUC: 0.9860 - val_Recall: 0.8431 - val_Precision: 0.8431\n",
            "Epoch 4/20\n",
            "14009/14009 [==============================] - 2s 121us/sample - loss: 0.0037 - accuracy: 0.9987 - AUC: 1.0000 - Recall: 0.9788 - Precision: 0.9917 - val_loss: 0.0362 - val_accuracy: 0.9872 - val_AUC: 0.9864 - val_Recall: 0.8431 - val_Precision: 0.7818\n",
            "Epoch 5/20\n",
            "14009/14009 [==============================] - 2s 119us/sample - loss: 0.0026 - accuracy: 0.9994 - AUC: 1.0000 - Recall: 0.9935 - Precision: 0.9918 - val_loss: 0.0372 - val_accuracy: 0.9891 - val_AUC: 0.9865 - val_Recall: 0.8431 - val_Precision: 0.8269\n",
            "Epoch 6/20\n",
            "14009/14009 [==============================] - 2s 119us/sample - loss: 0.0019 - accuracy: 0.9997 - AUC: 1.0000 - Recall: 0.9967 - Precision: 0.9967 - val_loss: 0.0402 - val_accuracy: 0.9891 - val_AUC: 0.9861 - val_Recall: 0.8431 - val_Precision: 0.8269\n",
            "Epoch 00006: early stopping\n"
          ],
          "name": "stdout"
        }
      ]
    },
    {
      "cell_type": "markdown",
      "metadata": {
        "id": "EnEeAikn0NXY"
      },
      "source": [
        "So lets recap. Training a neural network with keras uses the following objects<sup>1</sup>:\n",
        "\n",
        "1. The input data and corresponding targets\n",
        "2. Layers, which are combined into a network (or model) to map the input data to predictions\n",
        "3. The loss function, which defines the feedback signal used for learning by comparing the predictions to the targets\n",
        "4. The optimizer, which determines how learning proceeds by using this loss value to update the network’s weights.\n",
        "5. Choose some metrics to monitor\n",
        "6. Set any callbacks to monitor the model performance\n",
        "7. Iterate on training data by calling the fit() method of the model"
      ]
    },
    {
      "cell_type": "markdown",
      "metadata": {
        "id": "rORnXmfsIpBf"
      },
      "source": [
        "## Evaluate Model\n",
        "\n",
        "Lets have a look at evaluating the models training\n",
        "\n",
        "**TODO**\n",
        "- talk about model performance\n",
        "\n",
        "**NOTES**\n",
        "- code<sup>1</sup>\n",
        "\n",
        "---\n",
        "1. Chollet, F. (2017). Deep learning with python. Manning Publications."
      ]
    },
    {
      "cell_type": "code",
      "metadata": {
        "id": "ekGonHDf0awQ",
        "outputId": "d9987978-3417-4a8d-998d-f80033ec6f40",
        "colab": {
          "base_uri": "https://localhost:8080/",
          "height": 226
        }
      },
      "source": [
        "list(history.history.keys())"
      ],
      "execution_count": null,
      "outputs": [
        {
          "output_type": "execute_result",
          "data": {
            "text/plain": [
              "['loss',\n",
              " 'accuracy',\n",
              " 'AUC',\n",
              " 'Recall',\n",
              " 'Precision',\n",
              " 'val_loss',\n",
              " 'val_accuracy',\n",
              " 'val_AUC',\n",
              " 'val_Recall',\n",
              " 'val_Precision',\n",
              " 'lr']"
            ]
          },
          "metadata": {
            "tags": []
          },
          "execution_count": 30
        }
      ]
    },
    {
      "cell_type": "code",
      "metadata": {
        "id": "80CHe9r20cv2",
        "outputId": "88a9166a-6cc5-4597-a3c2-96fb323af201",
        "colab": {
          "base_uri": "https://localhost:8080/",
          "height": 1000
        }
      },
      "source": [
        "import matplotlib.pyplot as plt\n",
        "\n",
        "def plot_progress(history_dict):\n",
        "  for key in list(history_dict.keys())[:5]:\n",
        "    plt.clf() # Clears the figure\n",
        "    training_values = history_dict[key]\n",
        "    val_values = history_dict['val_'+key]\n",
        "\n",
        "    epochs = range(1, len(training_values) + 1)\n",
        "\n",
        "    plt.plot(epochs, training_values, 'bo', label='Training '+key)\n",
        "\n",
        "    plt.plot(epochs, val_values, 'b', label='Validation '+key)\n",
        "\n",
        "    if key != 'loss':\n",
        "      plt.ylim([0.,1.1])\n",
        "\n",
        "    plt.title('Training and Validation '+key)\n",
        "    plt.xlabel('Epochs')\n",
        "    plt.ylabel(key)\n",
        "    plt.legend()\n",
        "    plt.show()\n",
        "\n",
        "plot_progress(history.history)"
      ],
      "execution_count": null,
      "outputs": [
        {
          "output_type": "display_data",
          "data": {
            "image/png": "[encoded data removed]",
            "text/plain": [
              "<Figure size 432x288 with 1 Axes>"
            ]
          },
          "metadata": {
            "tags": []
          }
        },
        {
          "output_type": "display_data",
          "data": {
            "image/png": "[encoded data removed]",
            "text/plain": [
              "<Figure size 432x288 with 1 Axes>"
            ]
          },
          "metadata": {
            "tags": []
          }
        },
        {
          "output_type": "display_data",
          "data": {
            "image/png": "[encoded data removed]",
            "text/plain": [
              "<Figure size 432x288 with 1 Axes>"
            ]
          },
          "metadata": {
            "tags": []
          }
        },
        {
          "output_type": "display_data",
          "data": {
            "image/png": "[encoded data removed]",
            "text/plain": [
              "<Figure size 432x288 with 1 Axes>"
            ]
          },
          "metadata": {
            "tags": []
          }
        },
        {
          "output_type": "display_data",
          "data": {
            "image/png": "[encoded data removed]",
            "text/plain": [
              "<Figure size 432x288 with 1 Axes>"
            ]
          },
          "metadata": {
            "tags": []
          }
        }
      ]
    },
    {
      "cell_type": "markdown",
      "metadata": {
        "id": "FImnnPhK0iTg"
      },
      "source": [
        "Now normally we would only look at the test set performance once you have your final model, but to show how you do it lets peek now.\n",
        "\n",
        "Remember we saved the model when it improved on the validation set, which is not neccissarily the last epoch because of the chance of overfitting."
      ]
    },
    {
      "cell_type": "code",
      "metadata": {
        "id": "WbGF8vra0jyg",
        "outputId": "1f90a567-bbf5-421c-a99a-064ca119cf3a",
        "colab": {
          "base_uri": "https://localhost:8080/",
          "height": 225
        }
      },
      "source": [
        "clear_session()\n",
        "\n",
        "model = create_model()\n",
        "model.load_weights(best_model_filepath)\n",
        "metrics = model.evaluate(X_test, y_test)\n",
        "\n",
        "pd.DataFrame(metrics, index = model.metrics_names)"
      ],
      "execution_count": null,
      "outputs": [
        {
          "output_type": "stream",
          "text": [
            "5050/5050 [==============================] - 1s 221us/sample - loss: 0.0115 - accuracy: 0.9976 - AUC: 0.9981 - Recall: 0.9115 - Precision: 0.9810\n"
          ],
          "name": "stdout"
        },
        {
          "output_type": "execute_result",
          "data": {
            "text/html": [
              "<div>\n",
              "<style scoped>\n",
              "    .dataframe tbody tr th:only-of-type {\n",
              "        vertical-align: middle;\n",
              "    }\n",
              "\n",
              "    .dataframe tbody tr th {\n",
              "        vertical-align: top;\n",
              "    }\n",
              "\n",
              "    .dataframe thead th {\n",
              "        text-align: right;\n",
              "    }\n",
              "</style>\n",
              "<table border=\"1\" class=\"dataframe\">\n",
              "  <thead>\n",
              "    <tr style=\"text-align: right;\">\n",
              "      <th></th>\n",
              "      <th>0</th>\n",
              "    </tr>\n",
              "  </thead>\n",
              "  <tbody>\n",
              "    <tr>\n",
              "      <th>loss</th>\n",
              "      <td>0.011484</td>\n",
              "    </tr>\n",
              "    <tr>\n",
              "      <th>accuracy</th>\n",
              "      <td>0.997624</td>\n",
              "    </tr>\n",
              "    <tr>\n",
              "      <th>AUC</th>\n",
              "      <td>0.998093</td>\n",
              "    </tr>\n",
              "    <tr>\n",
              "      <th>Recall</th>\n",
              "      <td>0.911504</td>\n",
              "    </tr>\n",
              "    <tr>\n",
              "      <th>Precision</th>\n",
              "      <td>0.980952</td>\n",
              "    </tr>\n",
              "  </tbody>\n",
              "</table>\n",
              "</div>"
            ],
            "text/plain": [
              "                  0\n",
              "loss       0.011484\n",
              "accuracy   0.997624\n",
              "AUC        0.998093\n",
              "Recall     0.911504\n",
              "Precision  0.980952"
            ]
          },
          "metadata": {
            "tags": []
          },
          "execution_count": 32
        }
      ]
    },
    {
      "cell_type": "markdown",
      "metadata": {
        "id": "TY7qQqk1ByQe"
      },
      "source": [
        "# Additional Model Parameters\n",
        "\n",
        "Now lets look at some more options to improve our model"
      ]
    },
    {
      "cell_type": "markdown",
      "metadata": {
        "id": "oQffQDyx0lfw"
      },
      "source": [
        "## Batch Generator\n",
        "\n",
        "Instead of using the fit method we may want to change how batches are made. With this method we do need to specify our own validation set."
      ]
    },
    {
      "cell_type": "code",
      "metadata": {
        "id": "FrxQhsDj0wRA"
      },
      "source": [
        "from sklearn.model_selection import train_test_split\n",
        "\n",
        "TEST_SIZE = 0.1\n",
        "\n",
        "train_list, test_list = train_test_split(key_list, test_size=TEST_SIZE,\n",
        "                                         random_state=RANDOM_STATE)\n",
        "train_list, val_list = train_test_split(train_list, test_size=TEST_SIZE,\n",
        "                                         random_state=RANDOM_STATE)\n",
        "data_lists = {'train': train_list,\n",
        "              'test': test_list,\n",
        "              'val': val_list,\n",
        "              }\n",
        "\n",
        "data_dict = make_data(data_lists)\n",
        "\n",
        "X_train = data_dict['train'].values\n",
        "X_val = data_dict['val'].values\n",
        "X_test = data_dict['test'].values\n",
        "y_train = data_dict['train'].index.values\n",
        "y_val = data_dict['val'].index.values\n",
        "y_test = data_dict['test'].index.values\n",
        "feat_names = list(data_dict['train'].columns)\n",
        "\n",
        "# lets change integers\n",
        "le = preprocessing.LabelEncoder()\n",
        "y_train = le.fit_transform(y_train)\n",
        "y_val = le.transform(y_val)\n",
        "y_test = le.transform(y_test)"
      ],
      "execution_count": null,
      "outputs": []
    },
    {
      "cell_type": "markdown",
      "metadata": {
        "id": "PiPG_vD0z0I_"
      },
      "source": [
        "There are some useful batch generators that are easy to impliment. As we are using an imballanced dataset, we can use an already made one to ballance it up."
      ]
    },
    {
      "cell_type": "code",
      "metadata": {
        "id": "fBPwB6Ts0yWu",
        "outputId": "0c4dac4b-2b92-4f49-97bf-0986f7628fd7",
        "colab": {
          "base_uri": "https://localhost:8080/",
          "height": 189
        }
      },
      "source": [
        "from imblearn.tensorflow import balanced_batch_generator\n",
        "from imblearn.under_sampling import NearMiss\n",
        "from imblearn.combine import SMOTEENN\n",
        "from imblearn.over_sampling import RandomOverSampler\n",
        "training_generator, steps_per_epoch = balanced_batch_generator(X_train,\n",
        "                                                               y_train,\n",
        "                                                               sampler=RandomOverSampler(),\n",
        "                                                               batch_size=BATCH_SIZE,\n",
        "                                                               random_state=RANDOM_STATE)"
      ],
      "execution_count": null,
      "outputs": [
        {
          "output_type": "stream",
          "text": [
            "/usr/local/lib/python3.6/dist-packages/sklearn/externals/six.py:31: FutureWarning: The module is deprecated in version 0.21 and will be removed in version 0.23 since we've dropped support for Python 2.7. Please rely on the official version of six (https://pypi.org/project/six/).\n",
            "  \"(https://pypi.org/project/six/).\", FutureWarning)\n",
            "/usr/local/lib/python3.6/dist-packages/sklearn/utils/deprecation.py:144: FutureWarning: The sklearn.neighbors.base module is  deprecated in version 0.22 and will be removed in version 0.24. The corresponding classes / functions should instead be imported from sklearn.neighbors. Anything that cannot be imported from sklearn.neighbors is now part of the private API.\n",
            "  warnings.warn(message, FutureWarning)\n",
            "/usr/local/lib/python3.6/dist-packages/sklearn/utils/deprecation.py:144: FutureWarning: The sklearn.utils.testing module is  deprecated in version 0.22 and will be removed in version 0.24. The corresponding classes / functions should instead be imported from sklearn.utils. Anything that cannot be imported from sklearn.utils is now part of the private API.\n",
            "  warnings.warn(message, FutureWarning)\n",
            "/usr/local/lib/python3.6/dist-packages/sklearn/utils/deprecation.py:87: FutureWarning: Function safe_indexing is deprecated; safe_indexing is deprecated in version 0.22 and will be removed in version 0.24.\n",
            "  warnings.warn(msg, category=FutureWarning)\n"
          ],
          "name": "stderr"
        }
      ]
    },
    {
      "cell_type": "markdown",
      "metadata": {
        "id": "a3_NgJQT0vag"
      },
      "source": [
        "Now we can create the model as before except we use the fit_generator instead of just fit\n",
        "\n",
        "**TODO**\n",
        "- update to just fit as this has changed"
      ]
    },
    {
      "cell_type": "code",
      "metadata": {
        "id": "YTKD5yRo1Qxn",
        "outputId": "6922be4c-401e-4340-b783-503b9a5194d5",
        "colab": {
          "base_uri": "https://localhost:8080/",
          "height": 551
        }
      },
      "source": [
        "from math import ceil\n",
        "\n",
        "# clear the previous keras model\n",
        "clear_session()\n",
        "\n",
        "model = create_model()\n",
        "\n",
        "callbacks = create_callbacks('Best_bal_MLP_Model.ckpt',\n",
        "                            './bal_MLP_logs/')\n",
        "\n",
        "# This is the different bit\n",
        "# =======================================================\n",
        "history = model.fit_generator(generator=training_generator,\n",
        "                              epochs=EPOCHS,\n",
        "                              steps_per_epoch=steps_per_epoch,\n",
        "                              validation_data = (X_val, y_val),\n",
        "                              callbacks=callbacks,\n",
        "                              verbose=1)\n",
        "# ======================================================="
      ],
      "execution_count": null,
      "outputs": [
        {
          "output_type": "stream",
          "text": [
            "WARNING:tensorflow:From <ipython-input-37-3b2725489fa6>:18: Model.fit_generator (from tensorflow.python.keras.engine.training) is deprecated and will be removed in a future version.\n",
            "Instructions for updating:\n",
            "Please use Model.fit, which supports generators.\n",
            "WARNING:tensorflow:sample_weight modes were coerced from\n",
            "  ...\n",
            "    to  \n",
            "  ['...']\n",
            "Train for 439 steps, validate on 2411 samples\n",
            "Epoch 1/20\n"
          ],
          "name": "stdout"
        },
        {
          "output_type": "stream",
          "text": [
            "/usr/local/lib/python3.6/dist-packages/sklearn/utils/deprecation.py:87: FutureWarning: Function safe_indexing is deprecated; safe_indexing is deprecated in version 0.22 and will be removed in version 0.24.\n",
            "  warnings.warn(msg, category=FutureWarning)\n"
          ],
          "name": "stderr"
        },
        {
          "output_type": "stream",
          "text": [
            "439/439 [==============================] - 5s 10ms/step - loss: 0.0282 - accuracy: 0.9907 - AUC: 0.9988 - Recall: 0.9935 - Precision: 0.9879 - val_loss: 0.0902 - val_accuracy: 0.9805 - val_AUC: 0.9814 - val_Recall: 0.8408 - val_Precision: 0.9185\n",
            "Epoch 2/20\n",
            "433/439 [============================>.] - ETA: 0s - loss: 0.0044 - accuracy: 0.9990 - AUC: 0.9998 - Recall: 0.9994 - Precision: 0.9985\n",
            "Epoch 00002: ReduceLROnPlateau reducing learning rate to 0.00010000000474974513.\n",
            "439/439 [==============================] - 3s 7ms/step - loss: 0.0044 - accuracy: 0.9990 - AUC: 0.9998 - Recall: 0.9994 - Precision: 0.9985 - val_loss: 0.1110 - val_accuracy: 0.9826 - val_AUC: 0.9715 - val_Recall: 0.8706 - val_Precision: 0.9162\n",
            "Epoch 3/20\n",
            "433/439 [============================>.] - ETA: 0s - loss: 9.1985e-04 - accuracy: 0.9998 - AUC: 1.0000 - Recall: 1.0000 - Precision: 0.9996\n",
            "Epoch 00003: ReduceLROnPlateau reducing learning rate to 0.0001.\n",
            "439/439 [==============================] - 3s 7ms/step - loss: 9.0863e-04 - accuracy: 0.9998 - AUC: 1.0000 - Recall: 1.0000 - Precision: 0.9996 - val_loss: 0.1386 - val_accuracy: 0.9772 - val_AUC: 0.9497 - val_Recall: 0.7910 - val_Precision: 0.9244\n",
            "Epoch 4/20\n",
            "439/439 [==============================] - 3s 8ms/step - loss: 1.5714e-04 - accuracy: 1.0000 - AUC: 1.0000 - Recall: 1.0000 - Precision: 0.9999 - val_loss: 0.1417 - val_accuracy: 0.9768 - val_AUC: 0.9522 - val_Recall: 0.7861 - val_Precision: 0.9240\n",
            "Epoch 5/20\n",
            "439/439 [==============================] - 3s 7ms/step - loss: 8.1661e-05 - accuracy: 1.0000 - AUC: 1.0000 - Recall: 1.0000 - Precision: 1.0000 - val_loss: 0.1464 - val_accuracy: 0.9768 - val_AUC: 0.9448 - val_Recall: 0.7861 - val_Precision: 0.9240\n",
            "Epoch 6/20\n",
            "439/439 [==============================] - 3s 7ms/step - loss: 5.6630e-05 - accuracy: 1.0000 - AUC: 1.0000 - Recall: 1.0000 - Precision: 1.0000 - val_loss: 0.1506 - val_accuracy: 0.9772 - val_AUC: 0.9448 - val_Recall: 0.7910 - val_Precision: 0.9244\n",
            "Epoch 00006: early stopping\n"
          ],
          "name": "stdout"
        }
      ]
    },
    {
      "cell_type": "markdown",
      "metadata": {
        "id": "xtkXALVRJxaM"
      },
      "source": [
        "You can see there is still poor overfitting."
      ]
    },
    {
      "cell_type": "code",
      "metadata": {
        "id": "Rckqvh1P1Tl-",
        "outputId": "d2a30f3a-661e-4767-eb87-79e9cd530327",
        "colab": {
          "base_uri": "https://localhost:8080/",
          "height": 1000
        }
      },
      "source": [
        "plot_progress(history.history)"
      ],
      "execution_count": null,
      "outputs": [
        {
          "output_type": "display_data",
          "data": {
            "image/png": "[encoded data removed]",
            "text/plain": [
              "<Figure size 432x288 with 1 Axes>"
            ]
          },
          "metadata": {
            "tags": []
          }
        },
        {
          "output_type": "display_data",
          "data": {
            "image/png": "[encoded data removed]",
            "text/plain": [
              "<Figure size 432x288 with 1 Axes>"
            ]
          },
          "metadata": {
            "tags": []
          }
        },
        {
          "output_type": "display_data",
          "data": {
            "image/png": "[encoded data removed]",
            "text/plain": [
              "<Figure size 432x288 with 1 Axes>"
            ]
          },
          "metadata": {
            "tags": []
          }
        },
        {
          "output_type": "display_data",
          "data": {
            "image/png": "[encoded data removed]",
            "text/plain": [
              "<Figure size 432x288 with 1 Axes>"
            ]
          },
          "metadata": {
            "tags": []
          }
        },
        {
          "output_type": "display_data",
          "data": {
            "image/png": "[encoded data removed]",
            "text/plain": [
              "<Figure size 432x288 with 1 Axes>"
            ]
          },
          "metadata": {
            "tags": []
          }
        }
      ]
    },
    {
      "cell_type": "markdown",
      "metadata": {
        "id": "SWaxiSJy2aqQ"
      },
      "source": [
        "## Normalization\n",
        "\n",
        "**TODO**\n",
        "- reformat this text to fit the new focus on the Keras API and move low level api stuff into the extra notebook focusing on that!\n",
        "\n",
        "**Batch Normalization**\n",
        "\n",
        "Backpropagation means that the error gradients are propagated from the output layer to the input layer. Once the gradient of the cost function is computed it updates each parameter with a Gradient Descent step. However, gradients often get smaller as the algorithm progresses down to lower layers, therefore Gradient Descent leaves these lower layer connection weights mostly unchanged (*vanishing gradients*). This prevents training does not converge on a good solution. The opposite can also happen, in particular with recurrent neural networks, where gradients grow bigger so layers get large weight updates (*exploding gradients*)<sup>1</sup>.\n",
        "\n",
        "If we don't want the signal to die out or explode, then the variance of the output signal should be the same as the signal inputs and the gradients to have equal variance before and after flowing through a layer. The easiest way of doing this is to initialized the connection weights randomly using a strategy such as *Xavier initalization* (or *Glorot initialization*), or *He initalization*. By default *tf.layers.dense()* uses Xavier initalization with a uniform distribution, but can be changed using the *kernel_initializer* variable and the *tf.contrib.layers.variance_scaling_initializer()*. You can set the model to count the number of input connections, output, or the average (Xavier by default uses average)<sup>1</sup>.\n",
        "\n",
        "~~~\n",
        "he_init = tf.variance_scaling_initializer()\n",
        "hidden1 = tf.layers.dense(X, n_hidden1, activation=tf.nn.relu,\n",
        "                          kernel_initializer=he_init, name=\"hidden1\")\n",
        "~~~\n",
        "\n",
        "Batch Normalization also addresses the vanishing/exploding gradients and *Internal Covariate Shift* problem, where the distribution of each layers inputs changes during training as previous layers change. An operation is added before the activiation function of each layer to zero center and normalize the inputs, then scale and shift results to allow for the learning of the model to the optimal sclae and mean of the inputs to each layer. At test time the whole training set's mean and standard deviation is used.\n",
        "\n",
        "Batch Normalization is benificial as it means networks...\n",
        "- ...are less sensitive to weight initialization\n",
        "- ...are able to have larger learning weights\n",
        "- ...have improved accuracy\n",
        "- ...have a reduced need for a regulization techniques\n",
        "- ...does not need to have input data already normalized\n",
        "\n",
        "However it does add complexity so there is a runtime penalty at both training and testing phases<sup>2</sup>.\n",
        "\n",
        "The easiest way to impliment it is to use the tf.layers API\n",
        "\n",
        "Batch Norm and ELU are unlikely to have very positive impact in shallow networks so lets build a bigger one<sup>1</sup>\n",
        "\n",
        "**Gradient Clipping**\n",
        "\n",
        "A method to stop exploding gradients is to clip them during backpropogation so they do not exceed a threshold (useful for recurrent neural networks)<sup>1</sup>. In general Batch Normalization is now prefered.\n",
        "\n",
        "---\n",
        "1. Pascanu, R., Mikolov, T., & Bengio, Y. (2013, February). On the difficulty of training recurrent neural networks. In International conference on machine learning (pp. 1310-1318).\n",
        "2. Géron, A. (2017). Hands-on machine learning with Scikit-Learn and TensorFlow: concepts, tools, and techniques to build intelligent systems. \" O'Reilly Media, Inc.\".\n",
        "\n",
        "---\n",
        "1. Géron, A. (2017). Hands-on machine learning with Scikit-Learn and TensorFlow: concepts, tools, and techniques to build intelligent systems. \" O'Reilly Media, Inc.\".\n",
        "2. https://github.com/ageron/handson-ml/blob/master/11_deep_learning.ipynb"
      ]
    },
    {
      "cell_type": "code",
      "metadata": {
        "id": "CLJFmGqvKAqq",
        "outputId": "10d0e0c1-86d9-4d3a-8dca-6afde3eaf93e",
        "colab": {
          "base_uri": "https://localhost:8080/",
          "height": 436
        }
      },
      "source": [
        "from tensorflow.keras.layers import Dense, Activation, BatchNormalization\n",
        "\n",
        "# Returns a short sequential model\n",
        "def create_batch_model(dense_layers=2, units_first=300, units_hidden=100):\n",
        "  model = Sequential()\n",
        "\n",
        "  for dense_layer in range(dense_layers):\n",
        "      if dense_layer == 0:\n",
        "        model.add(Dense(units=units_first,\n",
        "                        input_dim=X_train.shape[1]))\n",
        "      else:\n",
        "        model.add(Dense(units=units_hidden))\n",
        "\n",
        "      model.add(BatchNormalization())\n",
        "      model.add(Activation('relu'))\n",
        "\n",
        "  model.add(Dense(units=1,\n",
        "                  activation='sigmoid'))\n",
        "\n",
        "  model.compile(optimizer=Adam(0.001),\n",
        "                loss=loss,\n",
        "                metrics=['accuracy', 'AUC', 'Recall', 'Precision'])\n",
        "\n",
        "  return model\n",
        "\n",
        "clear_session()\n",
        "# Create a basic model instance\n",
        "model = create_batch_model()\n",
        "model.summary()"
      ],
      "execution_count": null,
      "outputs": [
        {
          "output_type": "stream",
          "text": [
            "Model: \"sequential\"\n",
            "_________________________________________________________________\n",
            "Layer (type)                 Output Shape              Param #   \n",
            "=================================================================\n",
            "dense (Dense)                (None, 300)               389700    \n",
            "_________________________________________________________________\n",
            "batch_normalization (BatchNo (None, 300)               1200      \n",
            "_________________________________________________________________\n",
            "activation (Activation)      (None, 300)               0         \n",
            "_________________________________________________________________\n",
            "dense_1 (Dense)              (None, 100)               30100     \n",
            "_________________________________________________________________\n",
            "batch_normalization_1 (Batch (None, 100)               400       \n",
            "_________________________________________________________________\n",
            "activation_1 (Activation)    (None, 100)               0         \n",
            "_________________________________________________________________\n",
            "dense_2 (Dense)              (None, 1)                 101       \n",
            "=================================================================\n",
            "Total params: 421,501\n",
            "Trainable params: 420,701\n",
            "Non-trainable params: 800\n",
            "_________________________________________________________________\n"
          ],
          "name": "stdout"
        }
      ]
    },
    {
      "cell_type": "markdown",
      "metadata": {
        "id": "xNxSWVJ322LB"
      },
      "source": [
        "## Regularization\n",
        "\n",
        "We have already seen some regularization methods, however here are some more...\n",
        "\n",
        "**l1 and l2 Regularization**\n",
        "\n",
        "Alike to other linear models you can use l1 and l2 Regularization to constrain the networks connection weights. This can be done by adding the terms to the cost function.\n",
        "\n",
        "**Max-Norm Regularization**\n",
        "\n",
        "For each neuron, the weights of the input connections are constrained, with clipping if needed.\n",
        "\n",
        "*Advantages*\n",
        "- help reduce overfitting\n",
        "- alleviate vanishing/exploding gradients (if not using batch normalization)\n",
        "\n",
        "**Dropout<sup>2,3</sup>**\n",
        "\n",
        "This is the most popular regularization method as it has been shown to improve the accuracy of start-of-the-art models. At each training step, every input neuron has a probability of beinf temporarily 'dropped out'. Dropout is typically set around 50%. This dropout only happens at training. Dropout means the network cannot rely on a few input neurons meaning it is more robust and can generalize better.\n",
        "\n",
        "One important thing to note is that if the proability of dropping is set at 50%, that means during testing there could be twice as many inputs. This means we need to multiply the weights by 0.5 after training to account for this.\n",
        "\n",
        "Monte-Carlo Dropout (MC Dropout) essentially means applying dropout during predictions (not just training). Generally makes predictions less certain.\n",
        "\n",
        "Lets do a model with dropout.\n",
        "\n",
        "---\n",
        "2. Hinton, G. E., Srivastava, N., & Krizhevsky, A. (2015). Improving neural networks by preventing co-adaption of feature detectors [R/OL].\n",
        "3. Srivastava, N., Hinton, G., Krizhevsky, A., Sutskever, I., & Salakhutdinov, R. (2014). Dropout: a simple way to prevent neural networks from overfitting. The Journal of Machine Learning Research, 15(1), 1929-1958."
      ]
    },
    {
      "cell_type": "code",
      "metadata": {
        "id": "mFqFnrWxKBuZ",
        "outputId": "b4a3d447-094b-42e8-f1aa-ed41ca4b79b9",
        "colab": {
          "base_uri": "https://localhost:8080/",
          "height": 360
        }
      },
      "source": [
        "from tensorflow.keras.layers import Dense, Activation, Dropout\n",
        "\n",
        "class MCDropout(Dropout):\n",
        "  def call(self, inputs):\n",
        "    return super().call(inputs, training=True)\n",
        "\n",
        "# Returns a sequential model\n",
        "def create_dropout_model(dense_layers=2, units_first=300, units_hidden=100,\n",
        "                         mcdropout = False, dropout_rate = 0.5):\n",
        "  model = Sequential()\n",
        "\n",
        "  for dense_layer in range(dense_layers):\n",
        "      if dense_layer == 0:\n",
        "        model.add(Dense(units=units_first,\n",
        "                        input_dim=X_train.shape[1],\n",
        "                        activation='relu'))\n",
        "      else:\n",
        "        model.add(Dense(units=units_hidden,\n",
        "                        activation='relu'))\n",
        "\n",
        "      if mcdropout:\n",
        "        model.add(MCDropout(rate=dropout_rate))\n",
        "      else:\n",
        "        model.add(Dropout(rate=dropout_rate))\n",
        "\n",
        "  model.add(Dense(units=1,\n",
        "                  activation='sigmoid'))\n",
        "\n",
        "  model.compile(optimizer=Adam(0.001),\n",
        "                loss=loss,\n",
        "                metrics=['accuracy', 'AUC', 'Recall', 'Precision'])\n",
        "\n",
        "  return model\n",
        "\n",
        "clear_session()\n",
        "# Create a basic model instance\n",
        "model = create_dropout_model()\n",
        "model.summary()"
      ],
      "execution_count": null,
      "outputs": [
        {
          "output_type": "stream",
          "text": [
            "Model: \"sequential\"\n",
            "_________________________________________________________________\n",
            "Layer (type)                 Output Shape              Param #   \n",
            "=================================================================\n",
            "dense (Dense)                (None, 300)               389700    \n",
            "_________________________________________________________________\n",
            "dropout (Dropout)            (None, 300)               0         \n",
            "_________________________________________________________________\n",
            "dense_1 (Dense)              (None, 100)               30100     \n",
            "_________________________________________________________________\n",
            "dropout_1 (Dropout)          (None, 100)               0         \n",
            "_________________________________________________________________\n",
            "dense_2 (Dense)              (None, 1)                 101       \n",
            "=================================================================\n",
            "Total params: 419,901\n",
            "Trainable params: 419,901\n",
            "Non-trainable params: 0\n",
            "_________________________________________________________________\n"
          ],
          "name": "stdout"
        }
      ]
    },
    {
      "cell_type": "markdown",
      "metadata": {
        "id": "RlrG_Yy8Apsh"
      },
      "source": [
        "# Model Design\n",
        "\n",
        "The number of possible hyperparameters means it can be hard to find the best way to set up a neural net. Options include a manual search, randomized search, or a tool such as Oscar (http://oscar.calldesk.ai/)."
      ]
    },
    {
      "cell_type": "markdown",
      "metadata": {
        "id": "f4Lienxt28Pd"
      },
      "source": [
        "## Manual Search\n",
        "\n",
        "To start with, try a single hidden layer as this can give reasonable results if given enough neurons. However it is faster to train a deeper net with fewer neurons due to them having higher parameter efficency. You can gradually increase the number of hidden layers until you overfit the training set<sup>1</sup>.\n",
        "\n",
        "The input and output neurons is determained by the task (e.g. data length and classes to predict). Hidden layers are often formed into a funnel getting thinner towards the output. This is to account for low level features being formed into higher-level features. However it is also common that you may use the same number of neurons for each layer, meaning thats only 1 hyperparameter instead of one per layer. The number of neurons therefore becomes the what is changed. Another approach is to pcik a model with lots of layers and neurons and use early stopping or regulation techniques, such as dropout, to prevent overfitting<sup>1</sup>.\n",
        "\n",
        "For activation functions in the hidden layers, in most cases ReLU is a faster and less likely to get stuck on plateaus during Gradient Descent as other activation functions. A softmax activation function is generally good for mutually exclusive classification tasks. If they are not mutually exclusive or there are just two classes, the logistic function is better. For regression tasks, dont use one<sup>1</sup>.\n",
        "\n",
        "As proposed by Géron, A. (2017)<sup>1</sup>\n",
        "\n",
        "| stuff                  | stuff 2                      |\n",
        "|------------------------|------------------------------|\n",
        "| Initalization          | He Initialization            |\n",
        "| Activation Function    | ELU                          |\n",
        "| Normalization          | Batch Normalization          |\n",
        "| Regularization         | Dropout                      |\n",
        "| Optimizer              | Nestrov Accelerated Gradient |\n",
        "| Learning Rate Schedule | None                         |\n",
        "\n",
        "When building a model you have to decide on a number of layers, their type, and size. Burkov (2019)<sup>2</sup> recommends starting with one or two layers and increasing the size of each layer and the number of layers until the model fits the training data well. Once fitted well to the training data, but not the validation data, add regularisation to the model, increasing the network again if regularisation has affected training data fitting. This is continued until both training and validation models fit well.\n",
        "\n",
        "**NOTE**\n",
        "- This time I write it out in full rather than using functions just to show how little codes is actually required when using Keras for building a MLP model\n",
        "\n",
        "---\n",
        "1. Géron, A. (2017). Hands-on machine learning with Scikit-Learn and TensorFlow: concepts, tools, and techniques to build intelligent systems. \" O'Reilly Media, Inc.\".\n",
        "2. Burkov, A. (2019). The Hundred - Page Machine Learning Book. Andriy Burkov."
      ]
    },
    {
      "cell_type": "code",
      "metadata": {
        "id": "_4xrFxri3Fuw",
        "outputId": "1c51f57f-fb9d-4d85-ba9c-8365f88e7f4f",
        "colab": {
          "base_uri": "https://localhost:8080/",
          "height": 1000
        }
      },
      "source": [
        "from tensorflow.keras.layers import Dense, Activation, Dropout, BatchNormalization\n",
        "from tensorflow.keras import optimizers\n",
        "\n",
        "best_model_filepath = os.path.join(CLASS_BACK, \"Best_Deep_MLP_Model.ckpt\")\n",
        "\n",
        "clear_session()\n",
        "\n",
        "model = Sequential()\n",
        "\n",
        "# Input layer\n",
        "model.add(Dense(units=300,\n",
        "                input_dim=X_train.shape[1],\n",
        "                kernel_initializer='he_normal'))\n",
        "model.add(BatchNormalization())\n",
        "model.add(Activation('elu'))\n",
        "model.add(Dropout(rate=0.5,seed=RANDOM_STATE))\n",
        "\n",
        "# Hidden layers\n",
        "for hidden_layer in range(2):\n",
        "    model.add(Dense(units=50,\n",
        "                    kernel_initializer='he_normal'))\n",
        "    model.add(BatchNormalization())\n",
        "    model.add(Activation('elu'))\n",
        "    model.add(Dropout(rate=0.5,seed=RANDOM_STATE))\n",
        "\n",
        "# Output layer\n",
        "model.add(Dense(units=1,\n",
        "                kernel_initializer='he_normal'))\n",
        "model.add(BatchNormalization())\n",
        "model.add(Activation('sigmoid'))\n",
        "\n",
        "model.compile(optimizer=Adam(0.001),\n",
        "              loss='binary_crossentropy',\n",
        "              metrics=['accuracy', 'AUC', 'Recall', 'Precision'])\n",
        "\n",
        "model.summary()\n",
        "\n",
        "# Save the model under certain conditions\n",
        "callback_checkpoint = ModelCheckpoint(filepath=best_model_filepath,\n",
        "                                      monitor='val_loss',\n",
        "                                      verbose=0,\n",
        "                                      save_best_only=True)\n",
        "\n",
        "callback_early_stopping = EarlyStopping(monitor='val_loss',\n",
        "                                        patience=5,\n",
        "                                        verbose=1)\n",
        "\n",
        "callback_tensorboard = TensorBoard(log_dir='./bal_MLP_logs/',\n",
        "                                   histogram_freq=0,\n",
        "                                   write_graph=False)\n",
        "\n",
        "callback_reduce_lr = ReduceLROnPlateau(monitor='val_loss',\n",
        "                                       factor=0.1,\n",
        "                                       min_lr=1e-4,\n",
        "                                       patience=0,\n",
        "                                       verbose=1)\n",
        "\n",
        "training_generator, steps_per_epoch = balanced_batch_generator(X_train,\n",
        "                                                               y_train,\n",
        "                                                               sampler=RandomOverSampler(),\n",
        "                                                               batch_size=50,\n",
        "                                                               random_state=42)\n",
        "\n",
        "history = model.fit_generator(generator=training_generator,\n",
        "                              epochs=20,\n",
        "                              steps_per_epoch=steps_per_epoch,\n",
        "                              validation_data = (X_val, y_val),\n",
        "                              callbacks=[callback_early_stopping,\n",
        "                                         callback_checkpoint,\n",
        "                                         callback_tensorboard,\n",
        "                                         callback_reduce_lr],\n",
        "                              verbose=1)\n",
        "\n",
        "plot_progress(history.history)"
      ],
      "execution_count": null,
      "outputs": [
        {
          "output_type": "stream",
          "text": [
            "WARNING:tensorflow:Unresolved object in checkpoint: (root).optimizer.iter\n",
            "WARNING:tensorflow:Unresolved object in checkpoint: (root).optimizer.beta_1\n",
            "WARNING:tensorflow:Unresolved object in checkpoint: (root).optimizer.beta_2\n",
            "WARNING:tensorflow:Unresolved object in checkpoint: (root).optimizer.decay\n",
            "WARNING:tensorflow:Unresolved object in checkpoint: (root).optimizer.learning_rate\n",
            "WARNING:tensorflow:A checkpoint was restored (e.g. tf.train.Checkpoint.restore or tf.keras.Model.load_weights) but not all checkpointed values were used. See above for specific issues. Use expect_partial() on the load status object, e.g. tf.train.Checkpoint.restore(...).expect_partial(), to silence these warnings, or use assert_consumed() to make the check explicit. See https://www.tensorflow.org/guide/checkpoint#loading_mechanics for details.\n",
            "Model: \"sequential\"\n",
            "_________________________________________________________________\n",
            "Layer (type)                 Output Shape              Param #   \n",
            "=================================================================\n",
            "dense (Dense)                (None, 300)               389700    \n",
            "_________________________________________________________________\n",
            "batch_normalization (BatchNo (None, 300)               1200      \n",
            "_________________________________________________________________\n",
            "activation (Activation)      (None, 300)               0         \n",
            "_________________________________________________________________\n",
            "dropout (Dropout)            (None, 300)               0         \n",
            "_________________________________________________________________\n",
            "dense_1 (Dense)              (None, 50)                15050     \n",
            "_________________________________________________________________\n",
            "batch_normalization_1 (Batch (None, 50)                200       \n",
            "_________________________________________________________________\n",
            "activation_1 (Activation)    (None, 50)                0         \n",
            "_________________________________________________________________\n",
            "dropout_1 (Dropout)          (None, 50)                0         \n",
            "_________________________________________________________________\n",
            "dense_2 (Dense)              (None, 50)                2550      \n",
            "_________________________________________________________________\n",
            "batch_normalization_2 (Batch (None, 50)                200       \n",
            "_________________________________________________________________\n",
            "activation_2 (Activation)    (None, 50)                0         \n",
            "_________________________________________________________________\n",
            "dropout_2 (Dropout)          (None, 50)                0         \n",
            "_________________________________________________________________\n",
            "dense_3 (Dense)              (None, 1)                 51        \n",
            "_________________________________________________________________\n",
            "batch_normalization_3 (Batch (None, 1)                 4         \n",
            "_________________________________________________________________\n",
            "activation_3 (Activation)    (None, 1)                 0         \n",
            "=================================================================\n",
            "Total params: 408,955\n",
            "Trainable params: 408,153\n",
            "Non-trainable params: 802\n",
            "_________________________________________________________________\n",
            "WARNING:tensorflow:sample_weight modes were coerced from\n",
            "  ...\n",
            "    to  \n",
            "  ['...']\n",
            "Train for 562 steps, validate on 2411 samples\n",
            "Epoch 1/20\n"
          ],
          "name": "stdout"
        },
        {
          "output_type": "stream",
          "text": [
            "/usr/local/lib/python3.6/dist-packages/sklearn/utils/deprecation.py:87: FutureWarning: Function safe_indexing is deprecated; safe_indexing is deprecated in version 0.22 and will be removed in version 0.24.\n",
            "  warnings.warn(msg, category=FutureWarning)\n"
          ],
          "name": "stderr"
        },
        {
          "output_type": "stream",
          "text": [
            "  9/562 [..............................] - ETA: 1:55 - loss: 0.4719 - accuracy: 0.8444 - AUC: 0.9083 - Recall: 0.8326 - Precision: 0.8479"
          ],
          "name": "stdout"
        },
        {
          "output_type": "stream",
          "text": [
            "/usr/local/lib/python3.6/dist-packages/sklearn/utils/deprecation.py:87: FutureWarning: Function safe_indexing is deprecated; safe_indexing is deprecated in version 0.22 and will be removed in version 0.24.\n",
            "  warnings.warn(msg, category=FutureWarning)\n"
          ],
          "name": "stderr"
        },
        {
          "output_type": "stream",
          "text": [
            "561/562 [============================>.] - ETA: 0s - loss: 0.2991 - accuracy: 0.9804 - AUC: 0.9954 - Recall: 0.9800 - Precision: 0.9807WARNING:tensorflow:From /usr/local/lib/python3.6/dist-packages/tensorflow_core/python/ops/resource_variable_ops.py:1786: calling BaseResourceVariable.__init__ (from tensorflow.python.ops.resource_variable_ops) with constraint is deprecated and will be removed in a future version.\n",
            "Instructions for updating:\n",
            "If using Keras pass *_constraint arguments to layers.\n",
            "INFO:tensorflow:Assets written to: ./Best_Deep_MLP_Model.ckpt/assets\n",
            "562/562 [==============================] - 11s 20ms/step - loss: 0.2990 - accuracy: 0.9804 - AUC: 0.9954 - Recall: 0.9801 - Precision: 0.9807 - val_loss: 0.2026 - val_accuracy: 0.9830 - val_AUC: 0.9932 - val_Recall: 0.8607 - val_Precision: 0.9301\n",
            "Epoch 2/20\n",
            "557/562 [============================>.] - ETA: 0s - loss: 0.1998 - accuracy: 0.9927 - AUC: 0.9984 - Recall: 0.9971 - Precision: 0.9885\n",
            "Epoch 00002: ReduceLROnPlateau reducing learning rate to 0.00010000000474974513.\n",
            "562/562 [==============================] - 6s 11ms/step - loss: 0.1994 - accuracy: 0.9928 - AUC: 0.9985 - Recall: 0.9971 - Precision: 0.9886 - val_loss: 0.2268 - val_accuracy: 0.9780 - val_AUC: 0.9902 - val_Recall: 0.7960 - val_Precision: 0.9302\n",
            "Epoch 3/20\n",
            "560/562 [============================>.] - ETA: 0s - loss: 0.1608 - accuracy: 0.9959 - AUC: 0.9989 - Recall: 0.9993 - Precision: 0.9926\n",
            "Epoch 00003: ReduceLROnPlateau reducing learning rate to 0.0001.\n",
            "562/562 [==============================] - 6s 11ms/step - loss: 0.1607 - accuracy: 0.9959 - AUC: 0.9989 - Recall: 0.9993 - Precision: 0.9926 - val_loss: 0.2281 - val_accuracy: 0.9805 - val_AUC: 0.9905 - val_Recall: 0.8209 - val_Precision: 0.9375\n",
            "Epoch 4/20\n",
            "562/562 [==============================] - 6s 11ms/step - loss: 0.1536 - accuracy: 0.9963 - AUC: 0.9991 - Recall: 0.9995 - Precision: 0.9932 - val_loss: 0.2350 - val_accuracy: 0.9768 - val_AUC: 0.9896 - val_Recall: 0.7761 - val_Precision: 0.9341\n",
            "Epoch 5/20\n",
            "562/562 [==============================] - 6s 11ms/step - loss: 0.1465 - accuracy: 0.9970 - AUC: 0.9992 - Recall: 0.9999 - Precision: 0.9942 - val_loss: 0.2408 - val_accuracy: 0.9755 - val_AUC: 0.9887 - val_Recall: 0.7612 - val_Precision: 0.9329\n",
            "Epoch 6/20\n",
            "562/562 [==============================] - 6s 11ms/step - loss: 0.1399 - accuracy: 0.9970 - AUC: 0.9993 - Recall: 0.9996 - Precision: 0.9945 - val_loss: 0.2526 - val_accuracy: 0.9714 - val_AUC: 0.9869 - val_Recall: 0.7114 - val_Precision: 0.9286\n",
            "Epoch 00006: early stopping\n"
          ],
          "name": "stdout"
        },
        {
          "output_type": "display_data",
          "data": {
            "image/png": "[encoded data removed]",
            "text/plain": [
              "<Figure size 432x288 with 1 Axes>"
            ]
          },
          "metadata": {
            "tags": []
          }
        },
        {
          "output_type": "display_data",
          "data": {
            "image/png": "[encoded data removed]",
            "text/plain": [
              "<Figure size 432x288 with 1 Axes>"
            ]
          },
          "metadata": {
            "tags": []
          }
        },
        {
          "output_type": "display_data",
          "data": {
            "image/png": "[encoded data removed]",
            "text/plain": [
              "<Figure size 432x288 with 1 Axes>"
            ]
          },
          "metadata": {
            "tags": []
          }
        },
        {
          "output_type": "display_data",
          "data": {
            "image/png": "[encoded data removed]",
            "text/plain": [
              "<Figure size 432x288 with 1 Axes>"
            ]
          },
          "metadata": {
            "tags": []
          }
        },
        {
          "output_type": "display_data",
          "data": {
            "image/png": "[encoded data removed]",
            "text/plain": [
              "<Figure size 432x288 with 1 Axes>"
            ]
          },
          "metadata": {
            "tags": []
          }
        }
      ]
    },
    {
      "cell_type": "markdown",
      "metadata": {
        "id": "i5Sn8FybpyqL"
      },
      "source": [
        "## Parameter Optimisation\n",
        "\n",
        "You can of course use some of the previously used optimisation methods (e.g. Hyperopt), but here I'll introduce some new ones."
      ]
    },
    {
      "cell_type": "markdown",
      "metadata": {
        "id": "2iNQo8GLEt4E"
      },
      "source": [
        "### Talos\n",
        "\n",
        "**TODO**\n",
        "- do an example with talos as seems very simple to add (https://github.com/autonomio/talos)"
      ]
    },
    {
      "cell_type": "code",
      "metadata": {
        "id": "FfcvWl47bTrk"
      },
      "source": [],
      "execution_count": null,
      "outputs": []
    },
    {
      "cell_type": "markdown",
      "metadata": {
        "id": "M1F2ofMLQ2Eh"
      },
      "source": [
        "### HpBandSter\n",
        "\n",
        "First we'll set up the configuration space of the possible parameter values that could be selected."
      ]
    },
    {
      "cell_type": "code",
      "metadata": {
        "id": "6RwQWYQ1S1_e",
        "outputId": "54a2390b-1615-4381-bfc4-ef96e01e92f7",
        "colab": {
          "base_uri": "https://localhost:8080/",
          "height": 36
        }
      },
      "source": [
        "import ConfigSpace as CS\n",
        "import ConfigSpace.hyperparameters as CSH\n",
        "\n",
        "def get_configspace():\n",
        "\n",
        "    cs = CS.ConfigurationSpace()\n",
        "\n",
        "    # --------------\n",
        "    # General Params\n",
        "    # --------------\n",
        "    learning_rate = CSH.UniformFloatHyperparameter('learning_rate', lower=0.01,\n",
        "                                                   upper=0.2, default_value=0.1,\n",
        "                                                   log=True)\n",
        "    batch_size = CSH.CategoricalHyperparameter('batch_size', [32, 64])\n",
        "    cs.add_hyperparameters([learning_rate, batch_size])\n",
        "\n",
        "    # ------------\n",
        "    # Dense Layers\n",
        "    # ------------\n",
        "    dense_layers = CSH.UniformIntegerHyperparameter('dense_layers', lower=1,\n",
        "                                                    upper=5, default_value=2)\n",
        "    units_first = CSH.UniformIntegerHyperparameter('units_first', lower=3,\n",
        "                                                   upper=300, default_value=300) # first bigger than hidden\n",
        "    units_hidden = CSH.UniformIntegerHyperparameter('units_hidden', lower=2,\n",
        "                                                    upper=300, default_value=100)\n",
        "\n",
        "    cs.add_hyperparameters([dense_layers, units_first, units_hidden])\n",
        "\n",
        "    # make units_hidden an active hyperparameter if dense_layers is greater than 1\n",
        "    cs.add_conditions([CS.GreaterThanCondition(units_hidden, dense_layers, 1)])\n",
        "\n",
        "    return cs\n",
        "\n",
        "cs = get_configspace()\n",
        "config = cs.sample_configuration().get_dictionary()\n",
        "print(config)"
      ],
      "execution_count": null,
      "outputs": [
        {
          "output_type": "stream",
          "text": [
            "{'batch_size': 64, 'dense_layers': 4, 'learning_rate': 0.01833276507683601, 'units_first': 46, 'units_hidden': 109}\n"
          ],
          "name": "stdout"
        }
      ]
    },
    {
      "cell_type": "code",
      "metadata": {
        "id": "zcoQhMdkVo4L",
        "outputId": "5e744c68-d067-4ba4-c929-17a248bd6381",
        "colab": {
          "base_uri": "https://localhost:8080/",
          "height": 816
        }
      },
      "source": [
        "from tensorflow.keras.layers import Input\n",
        "\n",
        "def create_model(config, n_feat):\n",
        "  model = Sequential()\n",
        "\n",
        "  # -----------\n",
        "  # Input Layer\n",
        "  # -----------\n",
        "  model.add(Input(shape=n_feat))\n",
        "\n",
        "  # ------------\n",
        "  # Dense Layers\n",
        "  # ------------\n",
        "  for dense_layer in range(config['dense_layers']):\n",
        "    if dense_layer == 0:\n",
        "      units = config['units_first']\n",
        "    else:\n",
        "      units = config['units_hidden']\n",
        "    model.add(Dense(units=units))\n",
        "\n",
        "    model.add(BatchNormalization())\n",
        "    model.add(Activation('elu'))\n",
        "\n",
        "    model.add(Dropout(rate=0.5))\n",
        "\n",
        "  # ------------\n",
        "  # Output Layer\n",
        "  # ------------\n",
        "  model.add(Dense(units=1, activation = 'sigmoid'))\n",
        "\n",
        "  return model\n",
        "\n",
        "run_id = 'test'\n",
        "test_model = create_model(config, X_train.shape[1])\n",
        "test_model.summary()"
      ],
      "execution_count": null,
      "outputs": [
        {
          "output_type": "stream",
          "text": [
            "Model: \"sequential_1\"\n",
            "_________________________________________________________________\n",
            "Layer (type)                 Output Shape              Param #   \n",
            "=================================================================\n",
            "dense_4 (Dense)              (None, 46)                59754     \n",
            "_________________________________________________________________\n",
            "batch_normalization_4 (Batch (None, 46)                184       \n",
            "_________________________________________________________________\n",
            "activation_4 (Activation)    (None, 46)                0         \n",
            "_________________________________________________________________\n",
            "dropout_3 (Dropout)          (None, 46)                0         \n",
            "_________________________________________________________________\n",
            "dense_5 (Dense)              (None, 109)               5123      \n",
            "_________________________________________________________________\n",
            "batch_normalization_5 (Batch (None, 109)               436       \n",
            "_________________________________________________________________\n",
            "activation_5 (Activation)    (None, 109)               0         \n",
            "_________________________________________________________________\n",
            "dropout_4 (Dropout)          (None, 109)               0         \n",
            "_________________________________________________________________\n",
            "dense_6 (Dense)              (None, 109)               11990     \n",
            "_________________________________________________________________\n",
            "batch_normalization_6 (Batch (None, 109)               436       \n",
            "_________________________________________________________________\n",
            "activation_6 (Activation)    (None, 109)               0         \n",
            "_________________________________________________________________\n",
            "dropout_5 (Dropout)          (None, 109)               0         \n",
            "_________________________________________________________________\n",
            "dense_7 (Dense)              (None, 109)               11990     \n",
            "_________________________________________________________________\n",
            "batch_normalization_7 (Batch (None, 109)               436       \n",
            "_________________________________________________________________\n",
            "activation_7 (Activation)    (None, 109)               0         \n",
            "_________________________________________________________________\n",
            "dropout_6 (Dropout)          (None, 109)               0         \n",
            "_________________________________________________________________\n",
            "dense_8 (Dense)              (None, 1)                 110       \n",
            "=================================================================\n",
            "Total params: 90,459\n",
            "Trainable params: 89,713\n",
            "Non-trainable params: 746\n",
            "_________________________________________________________________\n"
          ],
          "name": "stdout"
        }
      ]
    },
    {
      "cell_type": "code",
      "metadata": {
        "id": "PHq7X9YaWvkV",
        "outputId": "e6d77b5a-5a18-4abc-a337-764603c75c4e",
        "colab": {
          "base_uri": "https://localhost:8080/",
          "height": 323
        }
      },
      "source": [
        "from hpbandster.core.worker import Worker\n",
        "\n",
        "class MyWorker(Worker):\n",
        "  def __init__(self, **kwargs):\n",
        "    super().__init__(**kwargs)\n",
        "\n",
        "    self.x_train = X_train\n",
        "    self.x_val = X_val\n",
        "    self.y_train = y_train\n",
        "    self.y_val = y_val\n",
        "\n",
        "    self.n_feat = self.x_train.shape[1]\n",
        "\n",
        "    setattr(self.__class__, 'get_configspace', staticmethod(get_configspace))\n",
        "\n",
        "\n",
        "  def compute(self, config, budget, working_directory, *args, **kwargs):\n",
        "    clear_session()\n",
        "\n",
        "    training_generator, steps_per_epoch =\\\n",
        "    balanced_batch_generator(self.x_train, self.y_train,\n",
        "                             batch_size=config['batch_size'])\n",
        "\n",
        "    # Callbacks\n",
        "    early_stopping = EarlyStopping(monitor='val_loss',\n",
        "                                   patience=5,\n",
        "                                   verbose=1)\n",
        "\n",
        "    # Create Model\n",
        "    model = create_model(config, self.x_train.shape[1])\n",
        "\n",
        "    model.compile(optimizer=Adam(learning_rate=config['learning_rate']),\n",
        "                  metrics=['accuracy', 'Recall', 'Precision'],\n",
        "                  loss='binary_crossentropy')\n",
        "\n",
        "    # Train\n",
        "    history = model.fit_generator(generator=training_generator,\n",
        "                                  epochs=int(budget),\n",
        "                                  steps_per_epoch=steps_per_epoch,\n",
        "                                  validation_data = (self.x_val, self.y_val),\n",
        "                                  callbacks=[early_stopping],\n",
        "                                  verbose=1)\n",
        "\n",
        "    # need to make the types of data floats not numpy.floats\n",
        "    history_dict = history.history\n",
        "    info_dict = {}\n",
        "    for key in history_dict.keys():\n",
        "        history_dict[key] = list(map(float, history_dict[key]))\n",
        "    info_dict.update(history_dict)\n",
        "\n",
        "    return ({'loss': 1- history_dict['val_Precision'][-1], # remember: HpBandSter always minimizes!\n",
        "             'info': info_dict})\n",
        "\n",
        "\n",
        "worker = MyWorker(run_id=run_id)\n",
        "res = worker.compute(config=config, budget=1, working_directory='.')\n",
        "print(res)"
      ],
      "execution_count": null,
      "outputs": [
        {
          "output_type": "stream",
          "text": [
            "/usr/local/lib/python3.6/dist-packages/sklearn/utils/deprecation.py:87: FutureWarning: Function safe_indexing is deprecated; safe_indexing is deprecated in version 0.22 and will be removed in version 0.24.\n",
            "  warnings.warn(msg, category=FutureWarning)\n"
          ],
          "name": "stderr"
        },
        {
          "output_type": "stream",
          "text": [
            "WARNING:tensorflow:sample_weight modes were coerced from\n",
            "  ...\n",
            "    to  \n",
            "  ['...']\n"
          ],
          "name": "stdout"
        },
        {
          "output_type": "stream",
          "text": [
            "19:27:09 sample_weight modes were coerced from\n",
            "  ...\n",
            "    to  \n",
            "  ['...']\n"
          ],
          "name": "stderr"
        },
        {
          "output_type": "stream",
          "text": [
            "Train for 15 steps, validate on 2411 samples\n",
            "11/15 [=====================>........] - ETA: 0s - loss: 0.2946 - accuracy: 0.8764 - Recall: 0.8494 - Precision: 0.8979"
          ],
          "name": "stdout"
        },
        {
          "output_type": "stream",
          "text": [
            "/usr/local/lib/python3.6/dist-packages/sklearn/utils/deprecation.py:87: FutureWarning: Function safe_indexing is deprecated; safe_indexing is deprecated in version 0.22 and will be removed in version 0.24.\n",
            "  warnings.warn(msg, category=FutureWarning)\n"
          ],
          "name": "stderr"
        },
        {
          "output_type": "stream",
          "text": [
            "\b\b\b\b\b\b\b\b\b\b\b\b\b\b\b\b\b\b\b\b\b\b\b\b\b\b\b\b\b\b\b\b\b\b\b\b\b\b\b\b\b\b\b\b\b\b\b\b\b\b\b\b\b\b\b\b\b\b\b\b\b\b\b\b\b\b\b\b\b\b\b\b\b\b\b\b\b\b\b\b\b\b\b\b\b\b\b\b\b\b\b\b\b\b\b\b\b\b\b\b\b\b\b\b\b\b\b\b\b\b\b\b\b\b\b\b\b\b\b\r15/15 [==============================] - 2s 159ms/step - loss: 0.2519 - accuracy: 0.9042 - Recall: 0.8810 - Precision: 0.9234 - val_loss: 6.9351 - val_accuracy: 0.8105 - val_Recall: 1.0000 - val_Precision: 0.3055\n",
            "{'loss': 0.6945288777351379, 'info': {'loss': [0.25186533890664575], 'accuracy': [0.9041666388511658], 'Recall': [0.8810020685195923], 'Precision': [0.9234135746955872], 'val_loss': [6.9351040721709225], 'val_accuracy': [0.8104521036148071], 'val_Recall': [1.0], 'val_Precision': [0.30547112226486206]}}\n"
          ],
          "name": "stdout"
        }
      ]
    },
    {
      "cell_type": "code",
      "metadata": {
        "id": "YFnvzmFMR1OD",
        "outputId": "1b7acc82-9261-4208-a3af-22392242b05f",
        "colab": {
          "base_uri": "https://localhost:8080/",
          "height": 1000
        }
      },
      "source": [
        "from hpbandster.optimizers.bohb import BOHB\n",
        "import hpbandster.core.nameserver as hpns\n",
        "import hpbandster.core.result as hpres\n",
        "import pickle\n",
        "\n",
        "host = '127.0.0.1'\n",
        "port = 9090\n",
        "save_dir = '.'\n",
        "run_id = 'MLP'\n",
        "\n",
        "if __name__ == \"__main__\":\n",
        "  result_logger = hpres.json_result_logger(directory=save_dir, overwrite=True)\n",
        "\n",
        "  NS = hpns.NameServer(run_id=run_id,\n",
        "                       working_directory = save_dir,\n",
        "                       host=host,\n",
        "                       port=port)\n",
        "  NS.start()\n",
        "\n",
        "  worker = MyWorker(run_id=run_id, nameserver =host)\n",
        "  worker.run(background=True)\n",
        "\n",
        "  bohb = BOHB(configspace = worker.get_configspace(),\n",
        "              run_id = run_id, nameserver=host,\n",
        "              min_budget=1, max_budget=5, # budget in this case means epochs!\n",
        "              result_logger=result_logger,\n",
        "             )\n",
        "  res = bohb.run(n_iterations=5)\n",
        "\n",
        "  bohb.shutdown(shutdown_workers=True)\n",
        "  NS.shutdown()"
      ],
      "execution_count": null,
      "outputs": [
        {
          "output_type": "stream",
          "text": [
            "19:27:22 DISPATCHER: started the 'discover_worker' thread\n",
            "19:27:22 wait_for_workers trying to get the condition\n",
            "19:27:22 WORKER: Connected to nameserver <Pyro4.core.Proxy at 0x7f3fb0dadeb8; connected IPv4; for PYRO:Pyro.NameServer@127.0.0.1:9090>\n",
            "19:27:22 DISPATCHER: started the 'job_runner' thread\n",
            "19:27:22 WORKER: No dispatcher found. Waiting for one to initiate contact.\n",
            "19:27:22 WORKER: start listening for jobs\n",
            "19:27:22 DISPATCHER: Pyro daemon running on localhost:40829\n",
            "19:27:22 DISPATCHER: Starting worker discovery\n",
            "19:27:22 DISPATCHER: Found 1 potential workers, 0 currently in the pool.\n",
            "19:27:22 DISPATCHER: discovered new worker, hpbandster.run_MLP.worker.6cc0892967ab.875139915884685184\n",
            "19:27:22 HBMASTER: number of workers changed to 1\n",
            "19:27:22 DISPATCHER: jobs to submit = 0, number of idle workers = 1 -> waiting!\n",
            "19:27:22 Enough workers to start this run!\n",
            "19:27:22 adjust_queue_size: lock accquired\n",
            "19:27:22 HBMASTER: starting run at 1583609242.8097627\n",
            "19:27:22 HBMASTER: adjusted queue size to (0, 1)\n",
            "19:27:22 DISPATCHER: Finished worker discovery\n",
            "19:27:22 start sampling a new configuration.\n",
            "19:27:22 DISPATCHER: Trying to submit another job.\n",
            "19:27:22 done sampling a new configuration.\n",
            "19:27:22 DISPATCHER: jobs to submit = 0, number of idle workers = 1 -> waiting!\n",
            "19:27:22 HBMASTER: schedule new run for iteration 0\n",
            "19:27:22 HBMASTER: trying submitting job (0, 0, 0) to dispatcher\n",
            "19:27:22 HBMASTER: submitting job (0, 0, 0) to dispatcher\n",
            "19:27:22 DISPATCHER: trying to submit job (0, 0, 0)\n",
            "19:27:22 DISPATCHER: trying to notify the job_runner thread.\n",
            "19:27:22 HBMASTER: job (0, 0, 0) submitted to dispatcher\n",
            "19:27:22 HBMASTER: running jobs: 1, queue sizes: (0, 1) -> wait\n",
            "19:27:22 DISPATCHER: Trying to submit another job.\n",
            "19:27:22 DISPATCHER: starting job (0, 0, 0) on hpbandster.run_MLP.worker.6cc0892967ab.875139915884685184\n",
            "19:27:22 DISPATCHER: job (0, 0, 0) dispatched on hpbandster.run_MLP.worker.6cc0892967ab.875139915884685184\n",
            "19:27:22 DISPATCHER: jobs to submit = 0, number of idle workers = 0 -> waiting!\n",
            "19:27:22 WORKER: start processing job (0, 0, 0)\n",
            "19:27:22 WORKER: args: ()\n",
            "19:27:22 WORKER: kwargs: {'config': {'batch_size': 32, 'dense_layers': 5, 'learning_rate': 0.013676652928876662, 'units_first': 166, 'units_hidden': 220}, 'budget': 1.6666666666666665, 'working_directory': '.'}\n",
            "/usr/local/lib/python3.6/dist-packages/sklearn/utils/deprecation.py:87: FutureWarning: Function safe_indexing is deprecated; safe_indexing is deprecated in version 0.22 and will be removed in version 0.24.\n",
            "  warnings.warn(msg, category=FutureWarning)\n"
          ],
          "name": "stderr"
        },
        {
          "output_type": "stream",
          "text": [
            "WARNING:tensorflow:sample_weight modes were coerced from\n",
            "  ...\n",
            "    to  \n",
            "  ['...']\n"
          ],
          "name": "stdout"
        },
        {
          "output_type": "stream",
          "text": [
            "19:27:23 sample_weight modes were coerced from\n",
            "  ...\n",
            "    to  \n",
            "  ['...']\n"
          ],
          "name": "stderr"
        },
        {
          "output_type": "stream",
          "text": [
            "Train for 30 steps, validate on 2411 samples\n",
            "18/30 [=================>............] - ETA: 1s - loss: 0.2799 - accuracy: 0.9184 - Recall: 0.8834 - Precision: 0.9470"
          ],
          "name": "stdout"
        },
        {
          "output_type": "stream",
          "text": [
            "/usr/local/lib/python3.6/dist-packages/sklearn/utils/deprecation.py:87: FutureWarning: Function safe_indexing is deprecated; safe_indexing is deprecated in version 0.22 and will be removed in version 0.24.\n",
            "  warnings.warn(msg, category=FutureWarning)\n"
          ],
          "name": "stderr"
        },
        {
          "output_type": "stream",
          "text": [
            "30/30 [==============================] - 3s 105ms/step - loss: 0.2039 - accuracy: 0.9396 - Recall: 0.9158 - Precision: 0.9603 - val_loss: 3.7214 - val_accuracy: 0.9249 - val_Recall: 0.9851 - val_Precision: 0.5266\n"
          ],
          "name": "stdout"
        },
        {
          "output_type": "stream",
          "text": [
            "19:27:26 WORKER: done with job (0, 0, 0), trying to register it.\n",
            "19:27:26 DISPATCHER: job (0, 0, 0) finished\n",
            "19:27:26 WORKER: registered result for job (0, 0, 0) with dispatcher\n",
            "19:27:26 DISPATCHER: register_result: lock acquired\n",
            "19:27:26 DISPATCHER: job (0, 0, 0) on hpbandster.run_MLP.worker.6cc0892967ab.875139915884685184 finished\n",
            "19:27:26 job_id: (0, 0, 0)\n",
            "kwargs: {'config': {'batch_size': 32, 'dense_layers': 5, 'learning_rate': 0.013676652928876662, 'units_first': 166, 'units_hidden': 220}, 'budget': 1.6666666666666665, 'working_directory': '.'}\n",
            "result: {'loss': 0.4734042286872864, 'info': {'loss': [0.20386494317402443], 'accuracy': [0.9395833611488342], 'Recall': [0.9157894849777222], 'Precision': [0.9602649211883545], 'val_loss': [3.7213830690707144], 'val_accuracy': [0.9249274134635925], 'val_Recall': [0.9850746393203735], 'val_Precision': [0.5265957713127136]}}\n",
            "exception: None\n",
            "\n",
            "19:27:26 job_callback for (0, 0, 0) started\n",
            "19:27:26 job_callback for (0, 0, 0) got condition\n",
            "19:27:26 DISPATCHER: Trying to submit another job.\n",
            "19:27:26 Only 1 run(s) for budget 1.666667 available, need more than 7 -> can't build model!\n",
            "19:27:26 HBMASTER: Trying to run another job!\n",
            "19:27:26 DISPATCHER: jobs to submit = 0, number of idle workers = 1 -> waiting!\n",
            "19:27:26 job_callback for (0, 0, 0) finished\n",
            "19:27:26 start sampling a new configuration.\n",
            "19:27:26 done sampling a new configuration.\n",
            "19:27:26 HBMASTER: schedule new run for iteration 0\n",
            "19:27:26 HBMASTER: trying submitting job (0, 0, 1) to dispatcher\n",
            "19:27:26 HBMASTER: submitting job (0, 0, 1) to dispatcher\n",
            "19:27:26 DISPATCHER: trying to submit job (0, 0, 1)\n",
            "19:27:26 DISPATCHER: trying to notify the job_runner thread.\n",
            "19:27:26 HBMASTER: job (0, 0, 1) submitted to dispatcher\n",
            "19:27:26 HBMASTER: running jobs: 1, queue sizes: (0, 1) -> wait\n",
            "19:27:26 DISPATCHER: Trying to submit another job.\n",
            "19:27:26 DISPATCHER: starting job (0, 0, 1) on hpbandster.run_MLP.worker.6cc0892967ab.875139915884685184\n",
            "19:27:26 DISPATCHER: job (0, 0, 1) dispatched on hpbandster.run_MLP.worker.6cc0892967ab.875139915884685184\n",
            "19:27:26 DISPATCHER: jobs to submit = 0, number of idle workers = 0 -> waiting!\n",
            "19:27:26 WORKER: start processing job (0, 0, 1)\n",
            "19:27:26 WORKER: args: ()\n",
            "19:27:26 WORKER: kwargs: {'config': {'batch_size': 64, 'dense_layers': 3, 'learning_rate': 0.0260834334197807, 'units_first': 154, 'units_hidden': 27}, 'budget': 1.6666666666666665, 'working_directory': '.'}\n",
            "/usr/local/lib/python3.6/dist-packages/sklearn/utils/deprecation.py:87: FutureWarning: Function safe_indexing is deprecated; safe_indexing is deprecated in version 0.22 and will be removed in version 0.24.\n",
            "  warnings.warn(msg, category=FutureWarning)\n"
          ],
          "name": "stderr"
        },
        {
          "output_type": "stream",
          "text": [
            "WARNING:tensorflow:sample_weight modes were coerced from\n",
            "  ...\n",
            "    to  \n",
            "  ['...']\n"
          ],
          "name": "stdout"
        },
        {
          "output_type": "stream",
          "text": [
            "19:27:27 sample_weight modes were coerced from\n",
            "  ...\n",
            "    to  \n",
            "  ['...']\n"
          ],
          "name": "stderr"
        },
        {
          "output_type": "stream",
          "text": [
            "Train for 15 steps, validate on 2411 samples\n",
            " 8/15 [===============>..............] - ETA: 1s - loss: 0.2748 - accuracy: 0.8809 - Recall: 0.8554 - Precision: 0.8950 "
          ],
          "name": "stdout"
        },
        {
          "output_type": "stream",
          "text": [
            "/usr/local/lib/python3.6/dist-packages/sklearn/utils/deprecation.py:87: FutureWarning: Function safe_indexing is deprecated; safe_indexing is deprecated in version 0.22 and will be removed in version 0.24.\n",
            "  warnings.warn(msg, category=FutureWarning)\n"
          ],
          "name": "stderr"
        },
        {
          "output_type": "stream",
          "text": [
            "\b\b\b\b\b\b\b\b\b\b\b\b\b\b\b\b\b\b\b\b\b\b\b\b\b\b\b\b\b\b\b\b\b\b\b\b\b\b\b\b\b\b\b\b\b\b\b\b\b\b\b\b\b\b\b\b\b\b\b\b\b\b\b\b\b\b\b\b\b\b\b\b\b\b\b\b\b\b\b\b\b\b\b\b\b\b\b\b\b\b\b\b\b\b\b\b\b\b\b\b\b\b\b\b\b\b\b\b\b\b\b\b\b\b\b\b\b\b\b\r15/15 [==============================] - 2s 134ms/step - loss: 0.2095 - accuracy: 0.9187 - Recall: 0.8958 - Precision: 0.9389 - val_loss: 1.9503 - val_accuracy: 0.8706 - val_Recall: 0.9900 - val_Precision: 0.3910\n"
          ],
          "name": "stdout"
        },
        {
          "output_type": "stream",
          "text": [
            "19:27:29 WORKER: done with job (0, 0, 1), trying to register it.\n",
            "19:27:29 WORKER: registered result for job (0, 0, 1) with dispatcher\n",
            "19:27:29 DISPATCHER: job (0, 0, 1) finished\n",
            "19:27:29 DISPATCHER: register_result: lock acquired\n",
            "19:27:29 DISPATCHER: job (0, 0, 1) on hpbandster.run_MLP.worker.6cc0892967ab.875139915884685184 finished\n",
            "19:27:29 job_id: (0, 0, 1)\n",
            "kwargs: {'config': {'batch_size': 64, 'dense_layers': 3, 'learning_rate': 0.0260834334197807, 'units_first': 154, 'units_hidden': 27}, 'budget': 1.6666666666666665, 'working_directory': '.'}\n",
            "result: {'loss': 0.6090373396873474, 'info': {'loss': [0.20954266314705214], 'accuracy': [0.918749988079071], 'Recall': [0.8958333134651184], 'Precision': [0.9388646483421326], 'val_loss': [1.950342891012478], 'val_accuracy': [0.8705931305885315], 'val_Recall': [0.9900497794151306], 'val_Precision': [0.3909626603126526]}}\n",
            "exception: None\n",
            "\n",
            "19:27:29 job_callback for (0, 0, 1) started\n",
            "19:27:29 DISPATCHER: Trying to submit another job.\n",
            "19:27:29 DISPATCHER: jobs to submit = 0, number of idle workers = 1 -> waiting!\n",
            "19:27:29 job_callback for (0, 0, 1) got condition\n",
            "19:27:29 Only 2 run(s) for budget 1.666667 available, need more than 7 -> can't build model!\n",
            "19:27:29 HBMASTER: Trying to run another job!\n",
            "19:27:29 job_callback for (0, 0, 1) finished\n",
            "19:27:29 start sampling a new configuration.\n",
            "19:27:29 done sampling a new configuration.\n",
            "19:27:29 HBMASTER: schedule new run for iteration 0\n",
            "19:27:29 HBMASTER: trying submitting job (0, 0, 2) to dispatcher\n",
            "19:27:29 HBMASTER: submitting job (0, 0, 2) to dispatcher\n",
            "19:27:29 DISPATCHER: trying to submit job (0, 0, 2)\n",
            "19:27:29 DISPATCHER: trying to notify the job_runner thread.\n",
            "19:27:29 HBMASTER: job (0, 0, 2) submitted to dispatcher\n",
            "19:27:29 DISPATCHER: Trying to submit another job.\n",
            "19:27:29 DISPATCHER: starting job (0, 0, 2) on hpbandster.run_MLP.worker.6cc0892967ab.875139915884685184\n",
            "19:27:29 HBMASTER: running jobs: 1, queue sizes: (0, 1) -> wait\n",
            "19:27:29 DISPATCHER: job (0, 0, 2) dispatched on hpbandster.run_MLP.worker.6cc0892967ab.875139915884685184\n",
            "19:27:29 DISPATCHER: jobs to submit = 0, number of idle workers = 0 -> waiting!\n",
            "19:27:29 WORKER: start processing job (0, 0, 2)\n",
            "19:27:29 WORKER: args: ()\n",
            "19:27:29 WORKER: kwargs: {'config': {'batch_size': 64, 'dense_layers': 3, 'learning_rate': 0.07359083315431945, 'units_first': 112, 'units_hidden': 220}, 'budget': 1.6666666666666665, 'working_directory': '.'}\n",
            "/usr/local/lib/python3.6/dist-packages/sklearn/utils/deprecation.py:87: FutureWarning: Function safe_indexing is deprecated; safe_indexing is deprecated in version 0.22 and will be removed in version 0.24.\n",
            "  warnings.warn(msg, category=FutureWarning)\n"
          ],
          "name": "stderr"
        },
        {
          "output_type": "stream",
          "text": [
            "WARNING:tensorflow:sample_weight modes were coerced from\n",
            "  ...\n",
            "    to  \n",
            "  ['...']\n"
          ],
          "name": "stdout"
        },
        {
          "output_type": "stream",
          "text": [
            "19:27:29 sample_weight modes were coerced from\n",
            "  ...\n",
            "    to  \n",
            "  ['...']\n"
          ],
          "name": "stderr"
        },
        {
          "output_type": "stream",
          "text": [
            "Train for 15 steps, validate on 2411 samples\n",
            "14/15 [===========================>..] - ETA: 0s - loss: 0.3841 - accuracy: 0.9040 - Recall: 0.8843 - Precision: 0.9247"
          ],
          "name": "stdout"
        },
        {
          "output_type": "stream",
          "text": [
            "/usr/local/lib/python3.6/dist-packages/sklearn/utils/deprecation.py:87: FutureWarning: Function safe_indexing is deprecated; safe_indexing is deprecated in version 0.22 and will be removed in version 0.24.\n",
            "  warnings.warn(msg, category=FutureWarning)\n"
          ],
          "name": "stderr"
        },
        {
          "output_type": "stream",
          "text": [
            "\b\b\b\b\b\b\b\b\b\b\b\b\b\b\b\b\b\b\b\b\b\b\b\b\b\b\b\b\b\b\b\b\b\b\b\b\b\b\b\b\b\b\b\b\b\b\b\b\b\b\b\b\b\b\b\b\b\b\b\b\b\b\b\b\b\b\b\b\b\b\b\b\b\b\b\b\b\b\b\b\b\b\b\b\b\b\b\b\b\b\b\b\b\b\b\b\b\b\b\b\b\b\b\b\b\b\b\b\b\b\b\b\b\b\b\b\b\b\b\r15/15 [==============================] - 2s 130ms/step - loss: 0.3600 - accuracy: 0.9104 - Recall: 0.8900 - Precision: 0.9286 - val_loss: 13.8978 - val_accuracy: 0.8577 - val_Recall: 0.9851 - val_Precision: 0.3680\n"
          ],
          "name": "stdout"
        },
        {
          "output_type": "stream",
          "text": [
            "19:27:31 WORKER: done with job (0, 0, 2), trying to register it.\n",
            "19:27:31 WORKER: registered result for job (0, 0, 2) with dispatcher\n",
            "19:27:31 DISPATCHER: job (0, 0, 2) finished\n",
            "19:27:31 DISPATCHER: register_result: lock acquired\n",
            "19:27:31 DISPATCHER: job (0, 0, 2) on hpbandster.run_MLP.worker.6cc0892967ab.875139915884685184 finished\n",
            "19:27:31 job_id: (0, 0, 2)\n",
            "kwargs: {'config': {'batch_size': 64, 'dense_layers': 3, 'learning_rate': 0.07359083315431945, 'units_first': 112, 'units_hidden': 220}, 'budget': 1.6666666666666665, 'working_directory': '.'}\n",
            "result: {'loss': 0.6319702565670013, 'info': {'loss': [0.35997758073111374], 'accuracy': [0.9104166626930237], 'Recall': [0.8900414705276489], 'Precision': [0.9285714030265808], 'val_loss': [13.897789529684538], 'val_accuracy': [0.8577353954315186], 'val_Recall': [0.9850746393203735], 'val_Precision': [0.36802974343299866]}}\n",
            "exception: None\n",
            "\n",
            "19:27:31 job_callback for (0, 0, 2) started\n",
            "19:27:31 DISPATCHER: Trying to submit another job.\n",
            "19:27:31 job_callback for (0, 0, 2) got condition\n",
            "19:27:31 DISPATCHER: jobs to submit = 0, number of idle workers = 1 -> waiting!\n",
            "19:27:31 Only 3 run(s) for budget 1.666667 available, need more than 7 -> can't build model!\n",
            "19:27:31 HBMASTER: Trying to run another job!\n",
            "19:27:31 job_callback for (0, 0, 2) finished\n",
            "19:27:31 ITERATION: Advancing config (0, 0, 0) to next budget 5.000000\n",
            "19:27:31 HBMASTER: schedule new run for iteration 0\n",
            "19:27:31 HBMASTER: trying submitting job (0, 0, 0) to dispatcher\n",
            "19:27:31 HBMASTER: submitting job (0, 0, 0) to dispatcher\n",
            "19:27:31 DISPATCHER: trying to submit job (0, 0, 0)\n",
            "19:27:31 DISPATCHER: trying to notify the job_runner thread.\n",
            "19:27:31 HBMASTER: job (0, 0, 0) submitted to dispatcher\n",
            "19:27:31 HBMASTER: running jobs: 1, queue sizes: (0, 1) -> wait\n",
            "19:27:31 DISPATCHER: Trying to submit another job.\n",
            "19:27:31 DISPATCHER: starting job (0, 0, 0) on hpbandster.run_MLP.worker.6cc0892967ab.875139915884685184\n",
            "19:27:31 DISPATCHER: job (0, 0, 0) dispatched on hpbandster.run_MLP.worker.6cc0892967ab.875139915884685184\n",
            "19:27:31 WORKER: start processing job (0, 0, 0)\n",
            "19:27:31 WORKER: args: ()\n",
            "19:27:31 DISPATCHER: jobs to submit = 0, number of idle workers = 0 -> waiting!\n",
            "19:27:31 WORKER: kwargs: {'config': {'batch_size': 32, 'dense_layers': 5, 'learning_rate': 0.013676652928876662, 'units_first': 166, 'units_hidden': 220}, 'budget': 5.0, 'working_directory': '.'}\n",
            "/usr/local/lib/python3.6/dist-packages/sklearn/utils/deprecation.py:87: FutureWarning: Function safe_indexing is deprecated; safe_indexing is deprecated in version 0.22 and will be removed in version 0.24.\n",
            "  warnings.warn(msg, category=FutureWarning)\n"
          ],
          "name": "stderr"
        },
        {
          "output_type": "stream",
          "text": [
            "WARNING:tensorflow:sample_weight modes were coerced from\n",
            "  ...\n",
            "    to  \n",
            "  ['...']\n"
          ],
          "name": "stdout"
        },
        {
          "output_type": "stream",
          "text": [
            "19:27:32 sample_weight modes were coerced from\n",
            "  ...\n",
            "    to  \n",
            "  ['...']\n"
          ],
          "name": "stderr"
        },
        {
          "output_type": "stream",
          "text": [
            "Train for 30 steps, validate on 2411 samples\n",
            "Epoch 1/5\n",
            "12/30 [===========>..................] - ETA: 2s - loss: 0.2946 - accuracy: 0.9115 - Recall: 0.8980 - Precision: 0.9263"
          ],
          "name": "stdout"
        },
        {
          "output_type": "stream",
          "text": [
            "/usr/local/lib/python3.6/dist-packages/sklearn/utils/deprecation.py:87: FutureWarning: Function safe_indexing is deprecated; safe_indexing is deprecated in version 0.22 and will be removed in version 0.24.\n",
            "  warnings.warn(msg, category=FutureWarning)\n"
          ],
          "name": "stderr"
        },
        {
          "output_type": "stream",
          "text": [
            "30/30 [==============================] - 3s 96ms/step - loss: 0.2271 - accuracy: 0.9375 - Recall: 0.9312 - Precision: 0.9430 - val_loss: 1.5710 - val_accuracy: 0.9332 - val_Recall: 0.9851 - val_Precision: 0.5562\n",
            "Epoch 2/5\n",
            "30/30 [==============================] - 1s 22ms/step - loss: 0.1107 - accuracy: 0.9739 - Recall: 0.9749 - Precision: 0.9729 - val_loss: 0.2441 - val_accuracy: 0.9718 - val_Recall: 0.9851 - val_Precision: 0.7529\n",
            "Epoch 3/5\n",
            "30/30 [==============================] - 1s 21ms/step - loss: 0.0785 - accuracy: 0.9781 - Recall: 0.9791 - Precision: 0.9770 - val_loss: 0.1312 - val_accuracy: 0.9813 - val_Recall: 0.9801 - val_Precision: 0.8277\n",
            "Epoch 4/5\n",
            "30/30 [==============================] - 1s 22ms/step - loss: 0.0837 - accuracy: 0.9823 - Recall: 0.9875 - Precision: 0.9774 - val_loss: 0.0977 - val_accuracy: 0.9822 - val_Recall: 0.9602 - val_Precision: 0.8465\n",
            "Epoch 5/5\n",
            "30/30 [==============================] - 1s 22ms/step - loss: 0.0695 - accuracy: 0.9823 - Recall: 0.9853 - Precision: 0.9791 - val_loss: 0.0827 - val_accuracy: 0.9834 - val_Recall: 0.9453 - val_Precision: 0.8676\n"
          ],
          "name": "stdout"
        },
        {
          "output_type": "stream",
          "text": [
            "19:27:38 WORKER: done with job (0, 0, 0), trying to register it.\n",
            "19:27:38 WORKER: registered result for job (0, 0, 0) with dispatcher\n",
            "19:27:38 DISPATCHER: job (0, 0, 0) finished\n",
            "19:27:38 DISPATCHER: register_result: lock acquired\n",
            "19:27:38 DISPATCHER: job (0, 0, 0) on hpbandster.run_MLP.worker.6cc0892967ab.875139915884685184 finished\n",
            "19:27:38 job_id: (0, 0, 0)\n",
            "kwargs: {'config': {'batch_size': 32, 'dense_layers': 5, 'learning_rate': 0.013676652928876662, 'units_first': 166, 'units_hidden': 220}, 'budget': 5.0, 'working_directory': '.'}\n",
            "result: {'loss': 0.13242006301879883, 'info': {'loss': [0.22714193847884115, 0.11038919990893943, 0.07835960702383443, 0.08358196866754948, 0.06930161298627893], 'accuracy': [0.9375, 0.9739039540290833, 0.9780793190002441, 0.982254683971405, 0.982254683971405], 'Recall': [0.9312499761581421, 0.9749478101730347, 0.9790794849395752, 0.987525999546051, 0.9852941036224365], 'Precision': [0.9430379867553711, 0.9729166626930237, 0.9770354628562927, 0.9773662686347961, 0.9791231751441956], 'val_loss': [1.5710377627089884, 0.24414912849469328, 0.13121936356277722, 0.09772902116376123, 0.0827457167243654], 'val_accuracy': [0.9332227110862732, 0.971795916557312, 0.9813355207443237, 0.9821650981903076, 0.9834093451499939], 'val_Recall': [0.9850746393203735, 0.9850746393203735, 0.9800994992256165, 0.9601989984512329, 0.9452736377716064], 'val_Precision': [0.5561797618865967, 0.7528517246246338, 0.8277310729026794, 0.8464912176132202, 0.8675799369812012]}}\n",
            "exception: None\n",
            "\n",
            "19:27:38 job_callback for (0, 0, 0) started\n",
            "19:27:38 DISPATCHER: Trying to submit another job.\n",
            "19:27:38 job_callback for (0, 0, 0) got condition\n",
            "19:27:38 DISPATCHER: jobs to submit = 0, number of idle workers = 1 -> waiting!\n",
            "19:27:38 Only 1 run(s) for budget 5.000000 available, need more than 7 -> can't build model!\n",
            "19:27:38 HBMASTER: Trying to run another job!\n",
            "19:27:38 job_callback for (0, 0, 0) finished\n",
            "19:27:38 start sampling a new configuration.\n",
            "19:27:38 done sampling a new configuration.\n",
            "19:27:38 HBMASTER: schedule new run for iteration 1\n",
            "19:27:38 HBMASTER: trying submitting job (1, 0, 0) to dispatcher\n",
            "19:27:38 HBMASTER: submitting job (1, 0, 0) to dispatcher\n",
            "19:27:38 DISPATCHER: trying to submit job (1, 0, 0)\n",
            "19:27:38 DISPATCHER: trying to notify the job_runner thread.\n",
            "19:27:38 HBMASTER: job (1, 0, 0) submitted to dispatcher\n",
            "19:27:38 HBMASTER: running jobs: 1, queue sizes: (0, 1) -> wait\n",
            "19:27:38 DISPATCHER: Trying to submit another job.\n",
            "19:27:38 DISPATCHER: starting job (1, 0, 0) on hpbandster.run_MLP.worker.6cc0892967ab.875139915884685184\n",
            "19:27:38 DISPATCHER: job (1, 0, 0) dispatched on hpbandster.run_MLP.worker.6cc0892967ab.875139915884685184\n",
            "19:27:38 DISPATCHER: jobs to submit = 0, number of idle workers = 0 -> waiting!\n",
            "19:27:38 WORKER: start processing job (1, 0, 0)\n",
            "19:27:38 WORKER: args: ()\n",
            "19:27:38 WORKER: kwargs: {'config': {'batch_size': 32, 'dense_layers': 1, 'learning_rate': 0.09251226741882937, 'units_first': 176}, 'budget': 5.0, 'working_directory': '.'}\n",
            "/usr/local/lib/python3.6/dist-packages/sklearn/utils/deprecation.py:87: FutureWarning: Function safe_indexing is deprecated; safe_indexing is deprecated in version 0.22 and will be removed in version 0.24.\n",
            "  warnings.warn(msg, category=FutureWarning)\n"
          ],
          "name": "stderr"
        },
        {
          "output_type": "stream",
          "text": [
            "WARNING:tensorflow:sample_weight modes were coerced from\n",
            "  ...\n",
            "    to  \n",
            "  ['...']\n"
          ],
          "name": "stdout"
        },
        {
          "output_type": "stream",
          "text": [
            "19:27:38 sample_weight modes were coerced from\n",
            "  ...\n",
            "    to  \n",
            "  ['...']\n"
          ],
          "name": "stderr"
        },
        {
          "output_type": "stream",
          "text": [
            "Train for 30 steps, validate on 2411 samples\n",
            "Epoch 1/5\n",
            "20/30 [===================>..........] - ETA: 0s - loss: 0.2649 - accuracy: 0.9500 - Recall: 0.9429 - Precision: 0.9550"
          ],
          "name": "stdout"
        },
        {
          "output_type": "stream",
          "text": [
            "/usr/local/lib/python3.6/dist-packages/sklearn/utils/deprecation.py:87: FutureWarning: Function safe_indexing is deprecated; safe_indexing is deprecated in version 0.22 and will be removed in version 0.24.\n",
            "  warnings.warn(msg, category=FutureWarning)\n"
          ],
          "name": "stderr"
        },
        {
          "output_type": "stream",
          "text": [
            "30/30 [==============================] - 2s 55ms/step - loss: 0.3185 - accuracy: 0.9427 - Recall: 0.9374 - Precision: 0.9473 - val_loss: 0.6500 - val_accuracy: 0.9361 - val_Recall: 0.9851 - val_Precision: 0.5673\n",
            "Epoch 2/5\n",
            "30/30 [==============================] - 0s 16ms/step - loss: 0.2260 - accuracy: 0.9603 - Recall: 0.9686 - Precision: 0.9526 - val_loss: 0.4075 - val_accuracy: 0.9602 - val_Recall: 0.9801 - val_Precision: 0.6817\n",
            "Epoch 3/5\n",
            "30/30 [==============================] - 1s 17ms/step - loss: 0.1886 - accuracy: 0.9656 - Recall: 0.9581 - Precision: 0.9723 - val_loss: 0.5313 - val_accuracy: 0.9589 - val_Recall: 0.9801 - val_Precision: 0.6747\n",
            "Epoch 4/5\n",
            "30/30 [==============================] - 0s 16ms/step - loss: 0.0857 - accuracy: 0.9729 - Recall: 0.9671 - Precision: 0.9792 - val_loss: 0.2417 - val_accuracy: 0.9826 - val_Recall: 0.9751 - val_Precision: 0.8412\n",
            "Epoch 5/5\n",
            "30/30 [==============================] - 0s 16ms/step - loss: 0.0611 - accuracy: 0.9802 - Recall: 0.9812 - Precision: 0.9792 - val_loss: 0.3925 - val_accuracy: 0.9689 - val_Recall: 0.9801 - val_Precision: 0.7351\n"
          ],
          "name": "stdout"
        },
        {
          "output_type": "stream",
          "text": [
            "19:27:42 WORKER: done with job (1, 0, 0), trying to register it.\n",
            "19:27:42 WORKER: registered result for job (1, 0, 0) with dispatcher\n",
            "19:27:42 DISPATCHER: job (1, 0, 0) finished\n",
            "19:27:42 DISPATCHER: register_result: lock acquired\n",
            "19:27:42 DISPATCHER: job (1, 0, 0) on hpbandster.run_MLP.worker.6cc0892967ab.875139915884685184 finished\n",
            "19:27:42 job_id: (1, 0, 0)\n",
            "kwargs: {'config': {'batch_size': 32, 'dense_layers': 1, 'learning_rate': 0.09251226741882937, 'units_first': 176}, 'budget': 5.0, 'working_directory': '.'}\n",
            "result: {'loss': 0.26492536067962646, 'info': {'loss': [0.31846407874967325, 0.22567194427217047, 0.18859648323126724, 0.08589463430282558, 0.06096853832298664], 'accuracy': [0.9427083134651184, 0.9603340029716492, 0.9655532240867615, 0.9728600978851318, 0.980167031288147], 'Recall': [0.9373695254325867, 0.9685534834861755, 0.9580712914466858, 0.9671458005905151, 0.9812108278274536], 'Precision': [0.947257399559021, 0.9525772929191589, 0.9723404049873352, 0.9792099595069885, 0.9791666865348816], 'val_loss': [0.6499704485758052, 0.4075208088929279, 0.5312762814168759, 0.2416745709951062, 0.392502992280357], 'val_accuracy': [0.9361261129379272, 0.9601824879646301, 0.9589381814002991, 0.9825798273086548, 0.9688925743103027], 'val_Recall': [0.9850746393203735, 0.9800994992256165, 0.9800994992256165, 0.9751243591308594, 0.9800994992256165], 'val_Precision': [0.5673352479934692, 0.6816608905792236, 0.6746575236320496, 0.8412017226219177, 0.7350746393203735]}}\n",
            "exception: None\n",
            "\n",
            "19:27:42 job_callback for (1, 0, 0) started\n",
            "19:27:42 DISPATCHER: Trying to submit another job.\n",
            "19:27:42 job_callback for (1, 0, 0) got condition\n",
            "19:27:42 DISPATCHER: jobs to submit = 0, number of idle workers = 1 -> waiting!\n",
            "19:27:42 Only 2 run(s) for budget 5.000000 available, need more than 7 -> can't build model!\n",
            "19:27:42 HBMASTER: Trying to run another job!\n",
            "19:27:42 job_callback for (1, 0, 0) finished\n",
            "19:27:42 start sampling a new configuration.\n",
            "19:27:42 done sampling a new configuration.\n",
            "19:27:42 HBMASTER: schedule new run for iteration 1\n",
            "19:27:42 HBMASTER: trying submitting job (1, 0, 1) to dispatcher\n",
            "19:27:42 HBMASTER: submitting job (1, 0, 1) to dispatcher\n",
            "19:27:42 DISPATCHER: trying to submit job (1, 0, 1)\n",
            "19:27:42 DISPATCHER: trying to notify the job_runner thread.\n",
            "19:27:42 HBMASTER: job (1, 0, 1) submitted to dispatcher\n",
            "19:27:42 DISPATCHER: Trying to submit another job.\n",
            "19:27:42 HBMASTER: running jobs: 1, queue sizes: (0, 1) -> wait\n",
            "19:27:42 DISPATCHER: starting job (1, 0, 1) on hpbandster.run_MLP.worker.6cc0892967ab.875139915884685184\n",
            "19:27:42 DISPATCHER: job (1, 0, 1) dispatched on hpbandster.run_MLP.worker.6cc0892967ab.875139915884685184\n",
            "19:27:42 WORKER: start processing job (1, 0, 1)\n",
            "19:27:42 DISPATCHER: jobs to submit = 0, number of idle workers = 0 -> waiting!\n",
            "19:27:42 WORKER: args: ()\n",
            "19:27:42 WORKER: kwargs: {'config': {'batch_size': 64, 'dense_layers': 1, 'learning_rate': 0.07298463002156952, 'units_first': 228}, 'budget': 5.0, 'working_directory': '.'}\n",
            "/usr/local/lib/python3.6/dist-packages/sklearn/utils/deprecation.py:87: FutureWarning: Function safe_indexing is deprecated; safe_indexing is deprecated in version 0.22 and will be removed in version 0.24.\n",
            "  warnings.warn(msg, category=FutureWarning)\n"
          ],
          "name": "stderr"
        },
        {
          "output_type": "stream",
          "text": [
            "WARNING:tensorflow:sample_weight modes were coerced from\n",
            "  ...\n",
            "    to  \n",
            "  ['...']\n"
          ],
          "name": "stdout"
        },
        {
          "output_type": "stream",
          "text": [
            "19:27:42 sample_weight modes were coerced from\n",
            "  ...\n",
            "    to  \n",
            "  ['...']\n"
          ],
          "name": "stderr"
        },
        {
          "output_type": "stream",
          "text": [
            "Train for 15 steps, validate on 2411 samples\n",
            "Epoch 1/5\n",
            " 8/15 [===============>..............] - ETA: 0s - loss: 0.2263 - accuracy: 0.9062 - Recall: 0.8884 - Precision: 0.9177 "
          ],
          "name": "stdout"
        },
        {
          "output_type": "stream",
          "text": [
            "/usr/local/lib/python3.6/dist-packages/sklearn/utils/deprecation.py:87: FutureWarning: Function safe_indexing is deprecated; safe_indexing is deprecated in version 0.22 and will be removed in version 0.24.\n",
            "  warnings.warn(msg, category=FutureWarning)\n"
          ],
          "name": "stderr"
        },
        {
          "output_type": "stream",
          "text": [
            "15/15 [==============================] - 1s 99ms/step - loss: 0.2227 - accuracy: 0.9344 - Recall: 0.9202 - Precision: 0.9460 - val_loss: 3.7662 - val_accuracy: 0.7545 - val_Recall: 1.0000 - val_Precision: 0.2535\n",
            "Epoch 2/5\n",
            "15/15 [==============================] - 0s 18ms/step - loss: 0.0766 - accuracy: 0.9806 - Recall: 0.9761 - Precision: 0.9846 - val_loss: 1.0483 - val_accuracy: 0.8693 - val_Recall: 0.9900 - val_Precision: 0.3887\n",
            "Epoch 3/5\n",
            "15/15 [==============================] - 0s 17ms/step - loss: 0.0656 - accuracy: 0.9784 - Recall: 0.9785 - Precision: 0.9785 - val_loss: 1.1403 - val_accuracy: 0.8664 - val_Recall: 0.9950 - val_Precision: 0.3839\n",
            "Epoch 4/5\n",
            "15/15 [==============================] - 0s 17ms/step - loss: 0.0697 - accuracy: 0.9860 - Recall: 0.9871 - Precision: 0.9850 - val_loss: 0.6296 - val_accuracy: 0.9303 - val_Recall: 0.9851 - val_Precision: 0.5455\n",
            "Epoch 5/5\n",
            "15/15 [==============================] - 0s 18ms/step - loss: 0.0464 - accuracy: 0.9838 - Recall: 0.9826 - Precision: 0.9847 - val_loss: 0.5139 - val_accuracy: 0.9419 - val_Recall: 0.9900 - val_Precision: 0.5905\n"
          ],
          "name": "stdout"
        },
        {
          "output_type": "stream",
          "text": [
            "19:27:45 WORKER: done with job (1, 0, 1), trying to register it.\n",
            "19:27:45 WORKER: registered result for job (1, 0, 1) with dispatcher\n",
            "19:27:45 DISPATCHER: job (1, 0, 1) finished\n",
            "19:27:45 DISPATCHER: register_result: lock acquired\n",
            "19:27:45 DISPATCHER: job (1, 0, 1) on hpbandster.run_MLP.worker.6cc0892967ab.875139915884685184 finished\n",
            "19:27:45 job_id: (1, 0, 1)\n",
            "kwargs: {'config': {'batch_size': 64, 'dense_layers': 1, 'learning_rate': 0.07298463002156952, 'units_first': 228}, 'budget': 5.0, 'working_directory': '.'}\n",
            "result: {'loss': 0.4094955325126648, 'info': {'loss': [0.22269041563073794, 0.0661756451971845, 0.06465452882264124, 0.059760556638755756, 0.0480042051244326], 'accuracy': [0.934374988079071, 0.9805615544319153, 0.9784017205238342, 0.9859611392021179, 0.9838013052940369], 'Recall': [0.9201680421829224, 0.9760869741439819, 0.9784946441650391, 0.9870967864990234, 0.9825708270072937], 'Precision': [0.946004331111908, 0.984649121761322, 0.9784946441650391, 0.9849785566329956, 0.9847161769866943], 'val_loss': [3.76617438641884, 1.0483391805710707, 1.1403466147945809, 0.6295934391282545, 0.513859848620479], 'val_accuracy': [0.7544587254524231, 0.8693488240242004, 0.8664454817771912, 0.9303193688392639, 0.9419327974319458], 'val_Recall': [1.0, 0.9900497794151306, 0.9950248599052429, 0.9850746393203735, 0.9900497794151306], 'val_Precision': [0.253467857837677, 0.388671875, 0.383877158164978, 0.5454545617103577, 0.5905044674873352]}}\n",
            "exception: None\n",
            "\n",
            "19:27:45 job_callback for (1, 0, 1) started\n",
            "19:27:45 DISPATCHER: Trying to submit another job.\n",
            "19:27:45 DISPATCHER: jobs to submit = 0, number of idle workers = 1 -> waiting!\n",
            "19:27:45 job_callback for (1, 0, 1) got condition\n",
            "19:27:45 Only 3 run(s) for budget 5.000000 available, need more than 7 -> can't build model!\n",
            "19:27:45 HBMASTER: Trying to run another job!\n",
            "19:27:45 job_callback for (1, 0, 1) finished\n",
            "19:27:45 start sampling a new configuration.\n",
            "19:27:45 done sampling a new configuration.\n",
            "19:27:45 HBMASTER: schedule new run for iteration 2\n",
            "19:27:45 HBMASTER: trying submitting job (2, 0, 0) to dispatcher\n",
            "19:27:45 HBMASTER: submitting job (2, 0, 0) to dispatcher\n",
            "19:27:45 DISPATCHER: trying to submit job (2, 0, 0)\n",
            "19:27:45 DISPATCHER: trying to notify the job_runner thread.\n",
            "19:27:45 HBMASTER: job (2, 0, 0) submitted to dispatcher\n",
            "19:27:45 DISPATCHER: Trying to submit another job.\n",
            "19:27:45 HBMASTER: running jobs: 1, queue sizes: (0, 1) -> wait\n",
            "19:27:45 DISPATCHER: starting job (2, 0, 0) on hpbandster.run_MLP.worker.6cc0892967ab.875139915884685184\n",
            "19:27:45 DISPATCHER: job (2, 0, 0) dispatched on hpbandster.run_MLP.worker.6cc0892967ab.875139915884685184\n",
            "19:27:45 DISPATCHER: jobs to submit = 0, number of idle workers = 0 -> waiting!\n",
            "19:27:45 WORKER: start processing job (2, 0, 0)\n",
            "19:27:45 WORKER: args: ()\n",
            "19:27:45 WORKER: kwargs: {'config': {'batch_size': 32, 'dense_layers': 4, 'learning_rate': 0.09400132689549366, 'units_first': 227, 'units_hidden': 65}, 'budget': 1.6666666666666665, 'working_directory': '.'}\n",
            "/usr/local/lib/python3.6/dist-packages/sklearn/utils/deprecation.py:87: FutureWarning: Function safe_indexing is deprecated; safe_indexing is deprecated in version 0.22 and will be removed in version 0.24.\n",
            "  warnings.warn(msg, category=FutureWarning)\n"
          ],
          "name": "stderr"
        },
        {
          "output_type": "stream",
          "text": [
            "WARNING:tensorflow:sample_weight modes were coerced from\n",
            "  ...\n",
            "    to  \n",
            "  ['...']\n"
          ],
          "name": "stdout"
        },
        {
          "output_type": "stream",
          "text": [
            "19:27:46 sample_weight modes were coerced from\n",
            "  ...\n",
            "    to  \n",
            "  ['...']\n"
          ],
          "name": "stderr"
        },
        {
          "output_type": "stream",
          "text": [
            "Train for 30 steps, validate on 2411 samples\n",
            "20/30 [===================>..........] - ETA: 0s - loss: 0.3547 - accuracy: 0.8953 - Recall: 0.8857 - Precision: 0.9000"
          ],
          "name": "stdout"
        },
        {
          "output_type": "stream",
          "text": [
            "/usr/local/lib/python3.6/dist-packages/sklearn/utils/deprecation.py:87: FutureWarning: Function safe_indexing is deprecated; safe_indexing is deprecated in version 0.22 and will be removed in version 0.24.\n",
            "  warnings.warn(msg, category=FutureWarning)\n"
          ],
          "name": "stderr"
        },
        {
          "output_type": "stream",
          "text": [
            "30/30 [==============================] - 3s 86ms/step - loss: 0.2989 - accuracy: 0.9125 - Recall: 0.9108 - Precision: 0.9146 - val_loss: 1.5125 - val_accuracy: 0.9303 - val_Recall: 0.9851 - val_Precision: 0.5455\n"
          ],
          "name": "stdout"
        },
        {
          "output_type": "stream",
          "text": [
            "19:27:48 WORKER: done with job (2, 0, 0), trying to register it.\n",
            "19:27:48 WORKER: registered result for job (2, 0, 0) with dispatcher\n",
            "19:27:48 DISPATCHER: job (2, 0, 0) finished\n",
            "19:27:48 DISPATCHER: register_result: lock acquired\n",
            "19:27:48 DISPATCHER: job (2, 0, 0) on hpbandster.run_MLP.worker.6cc0892967ab.875139915884685184 finished\n",
            "19:27:48 job_id: (2, 0, 0)\n",
            "kwargs: {'config': {'batch_size': 32, 'dense_layers': 4, 'learning_rate': 0.09400132689549366, 'units_first': 227, 'units_hidden': 65}, 'budget': 1.6666666666666665, 'working_directory': '.'}\n",
            "result: {'loss': 0.45454543828964233, 'info': {'loss': [0.2989098639537891], 'accuracy': [0.9125000238418579], 'Recall': [0.910788357257843], 'Precision': [0.9145833253860474], 'val_loss': [1.5124968023045744], 'val_accuracy': [0.9303193688392639], 'val_Recall': [0.9850746393203735], 'val_Precision': [0.5454545617103577]}}\n",
            "exception: None\n",
            "\n",
            "19:27:48 job_callback for (2, 0, 0) started\n",
            "19:27:48 DISPATCHER: Trying to submit another job.\n",
            "19:27:48 job_callback for (2, 0, 0) got condition\n",
            "19:27:48 DISPATCHER: jobs to submit = 0, number of idle workers = 1 -> waiting!\n",
            "19:27:48 Only 4 run(s) for budget 1.666667 available, need more than 7 -> can't build model!\n",
            "19:27:48 HBMASTER: Trying to run another job!\n",
            "19:27:48 job_callback for (2, 0, 0) finished\n",
            "19:27:48 start sampling a new configuration.\n",
            "19:27:48 done sampling a new configuration.\n",
            "19:27:48 HBMASTER: schedule new run for iteration 2\n",
            "19:27:48 HBMASTER: trying submitting job (2, 0, 1) to dispatcher\n",
            "19:27:48 HBMASTER: submitting job (2, 0, 1) to dispatcher\n",
            "19:27:48 DISPATCHER: trying to submit job (2, 0, 1)\n",
            "19:27:48 DISPATCHER: trying to notify the job_runner thread.\n",
            "19:27:48 HBMASTER: job (2, 0, 1) submitted to dispatcher\n",
            "19:27:48 HBMASTER: running jobs: 1, queue sizes: (0, 1) -> wait\n",
            "19:27:48 DISPATCHER: Trying to submit another job.\n",
            "19:27:48 DISPATCHER: starting job (2, 0, 1) on hpbandster.run_MLP.worker.6cc0892967ab.875139915884685184\n",
            "19:27:48 DISPATCHER: job (2, 0, 1) dispatched on hpbandster.run_MLP.worker.6cc0892967ab.875139915884685184\n",
            "19:27:48 DISPATCHER: jobs to submit = 0, number of idle workers = 0 -> waiting!\n",
            "19:27:48 WORKER: start processing job (2, 0, 1)\n",
            "19:27:48 WORKER: args: ()\n",
            "19:27:48 WORKER: kwargs: {'config': {'batch_size': 32, 'dense_layers': 3, 'learning_rate': 0.14867657349497748, 'units_first': 166, 'units_hidden': 299}, 'budget': 1.6666666666666665, 'working_directory': '.'}\n",
            "/usr/local/lib/python3.6/dist-packages/sklearn/utils/deprecation.py:87: FutureWarning: Function safe_indexing is deprecated; safe_indexing is deprecated in version 0.22 and will be removed in version 0.24.\n",
            "  warnings.warn(msg, category=FutureWarning)\n"
          ],
          "name": "stderr"
        },
        {
          "output_type": "stream",
          "text": [
            "WARNING:tensorflow:sample_weight modes were coerced from\n",
            "  ...\n",
            "    to  \n",
            "  ['...']\n"
          ],
          "name": "stdout"
        },
        {
          "output_type": "stream",
          "text": [
            "19:27:49 sample_weight modes were coerced from\n",
            "  ...\n",
            "    to  \n",
            "  ['...']\n"
          ],
          "name": "stderr"
        },
        {
          "output_type": "stream",
          "text": [
            "Train for 30 steps, validate on 2411 samples\n",
            "22/30 [=====================>........] - ETA: 0s - loss: 0.9587 - accuracy: 0.8920 - Recall: 0.8939 - Precision: 0.8939"
          ],
          "name": "stdout"
        },
        {
          "output_type": "stream",
          "text": [
            "/usr/local/lib/python3.6/dist-packages/sklearn/utils/deprecation.py:87: FutureWarning: Function safe_indexing is deprecated; safe_indexing is deprecated in version 0.22 and will be removed in version 0.24.\n",
            "  warnings.warn(msg, category=FutureWarning)\n"
          ],
          "name": "stderr"
        },
        {
          "output_type": "stream",
          "text": [
            "30/30 [==============================] - 2s 78ms/step - loss: 0.8560 - accuracy: 0.9073 - Recall: 0.9125 - Precision: 0.9031 - val_loss: 12.7196 - val_accuracy: 0.9154 - val_Recall: 0.9900 - val_Precision: 0.4963\n"
          ],
          "name": "stdout"
        },
        {
          "output_type": "stream",
          "text": [
            "19:27:51 WORKER: done with job (2, 0, 1), trying to register it.\n",
            "19:27:51 WORKER: registered result for job (2, 0, 1) with dispatcher\n",
            "19:27:51 DISPATCHER: job (2, 0, 1) finished\n",
            "19:27:51 DISPATCHER: register_result: lock acquired\n",
            "19:27:51 DISPATCHER: job (2, 0, 1) on hpbandster.run_MLP.worker.6cc0892967ab.875139915884685184 finished\n",
            "19:27:51 job_id: (2, 0, 1)\n",
            "kwargs: {'config': {'batch_size': 32, 'dense_layers': 3, 'learning_rate': 0.14867657349497748, 'units_first': 166, 'units_hidden': 299}, 'budget': 1.6666666666666665, 'working_directory': '.'}\n",
            "result: {'loss': 0.5037406384944916, 'info': {'loss': [0.8559859791087515], 'accuracy': [0.9072916507720947], 'Recall': [0.9125000238418579], 'Precision': [0.9030928015708923], 'val_loss': [12.719560972960494], 'val_accuracy': [0.9153878092765808], 'val_Recall': [0.9900497794151306], 'val_Precision': [0.4962593615055084]}}\n",
            "exception: None\n",
            "\n",
            "19:27:51 job_callback for (2, 0, 1) started\n",
            "19:27:51 DISPATCHER: Trying to submit another job.\n",
            "19:27:51 job_callback for (2, 0, 1) got condition\n",
            "19:27:51 DISPATCHER: jobs to submit = 0, number of idle workers = 1 -> waiting!\n",
            "19:27:51 Only 5 run(s) for budget 1.666667 available, need more than 7 -> can't build model!\n",
            "19:27:51 HBMASTER: Trying to run another job!\n",
            "19:27:51 job_callback for (2, 0, 1) finished\n",
            "19:27:51 start sampling a new configuration.\n",
            "19:27:51 done sampling a new configuration.\n",
            "19:27:51 HBMASTER: schedule new run for iteration 2\n",
            "19:27:51 HBMASTER: trying submitting job (2, 0, 2) to dispatcher\n",
            "19:27:51 HBMASTER: submitting job (2, 0, 2) to dispatcher\n",
            "19:27:51 DISPATCHER: trying to submit job (2, 0, 2)\n",
            "19:27:51 DISPATCHER: trying to notify the job_runner thread.\n",
            "19:27:51 HBMASTER: job (2, 0, 2) submitted to dispatcher\n",
            "19:27:51 DISPATCHER: Trying to submit another job.\n",
            "19:27:51 DISPATCHER: starting job (2, 0, 2) on hpbandster.run_MLP.worker.6cc0892967ab.875139915884685184\n",
            "19:27:51 HBMASTER: running jobs: 1, queue sizes: (0, 1) -> wait\n",
            "19:27:51 DISPATCHER: job (2, 0, 2) dispatched on hpbandster.run_MLP.worker.6cc0892967ab.875139915884685184\n",
            "19:27:51 WORKER: start processing job (2, 0, 2)\n",
            "19:27:51 DISPATCHER: jobs to submit = 0, number of idle workers = 0 -> waiting!\n",
            "19:27:51 WORKER: args: ()\n",
            "19:27:51 WORKER: kwargs: {'config': {'batch_size': 32, 'dense_layers': 2, 'learning_rate': 0.08626377975575458, 'units_first': 267, 'units_hidden': 159}, 'budget': 1.6666666666666665, 'working_directory': '.'}\n",
            "/usr/local/lib/python3.6/dist-packages/sklearn/utils/deprecation.py:87: FutureWarning: Function safe_indexing is deprecated; safe_indexing is deprecated in version 0.22 and will be removed in version 0.24.\n",
            "  warnings.warn(msg, category=FutureWarning)\n"
          ],
          "name": "stderr"
        },
        {
          "output_type": "stream",
          "text": [
            "WARNING:tensorflow:sample_weight modes were coerced from\n",
            "  ...\n",
            "    to  \n",
            "  ['...']\n"
          ],
          "name": "stdout"
        },
        {
          "output_type": "stream",
          "text": [
            "19:27:51 sample_weight modes were coerced from\n",
            "  ...\n",
            "    to  \n",
            "  ['...']\n"
          ],
          "name": "stderr"
        },
        {
          "output_type": "stream",
          "text": [
            "Train for 30 steps, validate on 2411 samples\n",
            "23/30 [======================>.......] - ETA: 0s - loss: 0.4708 - accuracy: 0.8913 - Recall: 0.8987 - Precision: 0.8892"
          ],
          "name": "stdout"
        },
        {
          "output_type": "stream",
          "text": [
            "/usr/local/lib/python3.6/dist-packages/sklearn/utils/deprecation.py:87: FutureWarning: Function safe_indexing is deprecated; safe_indexing is deprecated in version 0.22 and will be removed in version 0.24.\n",
            "  warnings.warn(msg, category=FutureWarning)\n"
          ],
          "name": "stderr"
        },
        {
          "output_type": "stream",
          "text": [
            "\b\b\b\b\b\b\b\b\b\b\b\b\b\b\b\b\b\b\b\b\b\b\b\b\b\b\b\b\b\b\b\b\b\b\b\b\b\b\b\b\b\b\b\b\b\b\b\b\b\b\b\b\b\b\b\b\b\b\b\b\b\b\b\b\b\b\b\b\b\b\b\b\b\b\b\b\b\b\b\b\b\b\b\b\b\b\b\b\b\b\b\b\b\b\b\b\b\b\b\b\b\b\b\b\b\b\b\b\b\b\b\b\b\b\b\b\b\b\b\r30/30 [==============================] - 2s 65ms/step - loss: 0.4876 - accuracy: 0.9052 - Recall: 0.9068 - Precision: 0.9050 - val_loss: 2.3431 - val_accuracy: 0.9154 - val_Recall: 0.9851 - val_Precision: 0.4962\n"
          ],
          "name": "stdout"
        },
        {
          "output_type": "stream",
          "text": [
            "19:27:53 WORKER: done with job (2, 0, 2), trying to register it.\n",
            "19:27:53 WORKER: registered result for job (2, 0, 2) with dispatcher\n",
            "19:27:53 DISPATCHER: job (2, 0, 2) finished\n",
            "19:27:53 DISPATCHER: register_result: lock acquired\n",
            "19:27:53 DISPATCHER: job (2, 0, 2) on hpbandster.run_MLP.worker.6cc0892967ab.875139915884685184 finished\n",
            "19:27:53 job_id: (2, 0, 2)\n",
            "kwargs: {'config': {'batch_size': 32, 'dense_layers': 2, 'learning_rate': 0.08626377975575458, 'units_first': 267, 'units_hidden': 159}, 'budget': 1.6666666666666665, 'working_directory': '.'}\n",
            "result: {'loss': 0.5037593841552734, 'info': {'loss': [0.48755951643106527], 'accuracy': [0.9052083492279053], 'Recall': [0.9068322777748108], 'Precision': [0.9049586653709412], 'val_loss': [2.3431308444035164], 'val_accuracy': [0.9153878092765808], 'val_Recall': [0.9850746393203735], 'val_Precision': [0.49624061584472656]}}\n",
            "exception: None\n",
            "\n",
            "19:27:53 job_callback for (2, 0, 2) started\n",
            "19:27:53 DISPATCHER: Trying to submit another job.\n",
            "19:27:53 DISPATCHER: jobs to submit = 0, number of idle workers = 1 -> waiting!\n",
            "19:27:53 job_callback for (2, 0, 2) got condition\n",
            "19:27:53 HBMASTER: Trying to run another job!\n",
            "19:27:53 job_callback for (2, 0, 2) finished\n",
            "19:27:53 ITERATION: Advancing config (2, 0, 0) to next budget 5.000000\n",
            "19:27:53 HBMASTER: schedule new run for iteration 2\n",
            "19:27:53 HBMASTER: trying submitting job (2, 0, 0) to dispatcher\n",
            "19:27:53 HBMASTER: submitting job (2, 0, 0) to dispatcher\n",
            "19:27:53 DISPATCHER: trying to submit job (2, 0, 0)\n",
            "19:27:53 DISPATCHER: trying to notify the job_runner thread.\n",
            "19:27:53 HBMASTER: job (2, 0, 0) submitted to dispatcher\n",
            "19:27:53 HBMASTER: running jobs: 1, queue sizes: (0, 1) -> wait\n",
            "19:27:53 DISPATCHER: Trying to submit another job.\n",
            "19:27:54 DISPATCHER: starting job (2, 0, 0) on hpbandster.run_MLP.worker.6cc0892967ab.875139915884685184\n",
            "19:27:54 DISPATCHER: job (2, 0, 0) dispatched on hpbandster.run_MLP.worker.6cc0892967ab.875139915884685184\n",
            "19:27:54 WORKER: start processing job (2, 0, 0)\n",
            "19:27:54 DISPATCHER: jobs to submit = 0, number of idle workers = 0 -> waiting!\n",
            "19:27:54 WORKER: args: ()\n",
            "19:27:54 WORKER: kwargs: {'config': {'batch_size': 32, 'dense_layers': 4, 'learning_rate': 0.09400132689549366, 'units_first': 227, 'units_hidden': 65}, 'budget': 5.0, 'working_directory': '.'}\n",
            "/usr/local/lib/python3.6/dist-packages/sklearn/utils/deprecation.py:87: FutureWarning: Function safe_indexing is deprecated; safe_indexing is deprecated in version 0.22 and will be removed in version 0.24.\n",
            "  warnings.warn(msg, category=FutureWarning)\n"
          ],
          "name": "stderr"
        },
        {
          "output_type": "stream",
          "text": [
            "WARNING:tensorflow:sample_weight modes were coerced from\n",
            "  ...\n",
            "    to  \n",
            "  ['...']\n"
          ],
          "name": "stdout"
        },
        {
          "output_type": "stream",
          "text": [
            "19:27:54 sample_weight modes were coerced from\n",
            "  ...\n",
            "    to  \n",
            "  ['...']\n"
          ],
          "name": "stderr"
        },
        {
          "output_type": "stream",
          "text": [
            "Train for 30 steps, validate on 2411 samples\n",
            "Epoch 1/5\n",
            "13/30 [============>.................] - ETA: 2s - loss: 0.3373 - accuracy: 0.8606 - Recall: 0.8224 - Precision: 0.8980"
          ],
          "name": "stdout"
        },
        {
          "output_type": "stream",
          "text": [
            "/usr/local/lib/python3.6/dist-packages/sklearn/utils/deprecation.py:87: FutureWarning: Function safe_indexing is deprecated; safe_indexing is deprecated in version 0.22 and will be removed in version 0.24.\n",
            "  warnings.warn(msg, category=FutureWarning)\n"
          ],
          "name": "stderr"
        },
        {
          "output_type": "stream",
          "text": [
            "30/30 [==============================] - 3s 86ms/step - loss: 0.2161 - accuracy: 0.9240 - Recall: 0.8954 - Precision: 0.9490 - val_loss: 5.6169 - val_accuracy: 0.8909 - val_Recall: 0.9900 - val_Precision: 0.4326\n",
            "Epoch 2/5\n",
            "30/30 [==============================] - 1s 20ms/step - loss: 0.1241 - accuracy: 0.9718 - Recall: 0.9707 - Precision: 0.9727 - val_loss: 1.0447 - val_accuracy: 0.9361 - val_Recall: 0.9851 - val_Precision: 0.5673\n",
            "Epoch 3/5\n",
            "30/30 [==============================] - 1s 21ms/step - loss: 0.1135 - accuracy: 0.9729 - Recall: 0.9725 - Precision: 0.9725 - val_loss: 0.4816 - val_accuracy: 0.9548 - val_Recall: 0.9851 - val_Precision: 0.6513\n",
            "Epoch 4/5\n",
            "30/30 [==============================] - 1s 21ms/step - loss: 0.0889 - accuracy: 0.9791 - Recall: 0.9748 - Precision: 0.9831 - val_loss: 0.3233 - val_accuracy: 0.9672 - val_Recall: 0.9851 - val_Precision: 0.7226\n",
            "Epoch 5/5\n",
            "30/30 [==============================] - 1s 21ms/step - loss: 0.0805 - accuracy: 0.9760 - Recall: 0.9710 - Precision: 0.9811 - val_loss: 0.2543 - val_accuracy: 0.9743 - val_Recall: 0.9801 - val_Precision: 0.7725\n"
          ],
          "name": "stdout"
        },
        {
          "output_type": "stream",
          "text": [
            "19:28:00 WORKER: done with job (2, 0, 0), trying to register it.\n",
            "19:28:00 WORKER: registered result for job (2, 0, 0) with dispatcher\n",
            "19:28:00 DISPATCHER: job (2, 0, 0) finished\n",
            "19:28:00 DISPATCHER: register_result: lock acquired\n",
            "19:28:00 DISPATCHER: job (2, 0, 0) on hpbandster.run_MLP.worker.6cc0892967ab.875139915884685184 finished\n",
            "19:28:00 job_id: (2, 0, 0)\n",
            "kwargs: {'config': {'batch_size': 32, 'dense_layers': 4, 'learning_rate': 0.09400132689549366, 'units_first': 227, 'units_hidden': 65}, 'budget': 5.0, 'working_directory': '.'}\n",
            "result: {'loss': 0.22745096683502197, 'info': {'loss': [0.21606949440514048, 0.12429978323629853, 0.11368249904652104, 0.0889950733484082, 0.08066869574056507], 'accuracy': [0.9239583611488342, 0.9718163013458252, 0.9728600978851318, 0.9791231751441956, 0.9759916663169861], 'Recall': [0.8953974843025208, 0.9707112908363342, 0.972515881061554, 0.9748427867889404, 0.9709543585777283], 'Precision': [0.949002206325531, 0.9727463126182556, 0.972515881061554, 0.9830867052078247, 0.9811320900917053], 'val_loss': [5.616881680049454, 1.0446641991140462, 0.48155227069889667, 0.3232717369502018, 0.25427709164475304], 'val_accuracy': [0.890916645526886, 0.9361261129379272, 0.9547905325889587, 0.9672335386276245, 0.9742845296859741], 'val_Recall': [0.9900497794151306, 0.9850746393203735, 0.9850746393203735, 0.9850746393203735, 0.9800994992256165], 'val_Precision': [0.4326086938381195, 0.5673352479934692, 0.6513158082962036, 0.7226277589797974, 0.772549033164978]}}\n",
            "exception: None\n",
            "\n",
            "19:28:00 job_callback for (2, 0, 0) started\n",
            "19:28:00 DISPATCHER: Trying to submit another job.\n",
            "19:28:00 DISPATCHER: jobs to submit = 0, number of idle workers = 1 -> waiting!\n",
            "19:28:00 job_callback for (2, 0, 0) got condition\n",
            "19:28:00 Only 4 run(s) for budget 5.000000 available, need more than 7 -> can't build model!\n",
            "19:28:00 HBMASTER: Trying to run another job!\n",
            "19:28:00 job_callback for (2, 0, 0) finished\n",
            "19:28:00 start sampling a new configuration.\n",
            "19:28:00 done sampling a new configuration.\n",
            "19:28:00 HBMASTER: schedule new run for iteration 3\n",
            "19:28:00 HBMASTER: trying submitting job (3, 0, 0) to dispatcher\n",
            "19:28:00 HBMASTER: submitting job (3, 0, 0) to dispatcher\n",
            "19:28:00 DISPATCHER: trying to submit job (3, 0, 0)\n",
            "19:28:00 DISPATCHER: trying to notify the job_runner thread.\n",
            "19:28:00 HBMASTER: job (3, 0, 0) submitted to dispatcher\n",
            "19:28:00 DISPATCHER: Trying to submit another job.\n",
            "19:28:00 HBMASTER: running jobs: 1, queue sizes: (0, 1) -> wait\n",
            "19:28:00 DISPATCHER: starting job (3, 0, 0) on hpbandster.run_MLP.worker.6cc0892967ab.875139915884685184\n",
            "19:28:00 DISPATCHER: job (3, 0, 0) dispatched on hpbandster.run_MLP.worker.6cc0892967ab.875139915884685184\n",
            "19:28:00 WORKER: start processing job (3, 0, 0)\n",
            "19:28:00 DISPATCHER: jobs to submit = 0, number of idle workers = 0 -> waiting!\n",
            "19:28:00 WORKER: args: ()\n",
            "19:28:00 WORKER: kwargs: {'config': {'batch_size': 32, 'dense_layers': 3, 'learning_rate': 0.11172259364617185, 'units_first': 157, 'units_hidden': 76}, 'budget': 5.0, 'working_directory': '.'}\n",
            "/usr/local/lib/python3.6/dist-packages/sklearn/utils/deprecation.py:87: FutureWarning: Function safe_indexing is deprecated; safe_indexing is deprecated in version 0.22 and will be removed in version 0.24.\n",
            "  warnings.warn(msg, category=FutureWarning)\n"
          ],
          "name": "stderr"
        },
        {
          "output_type": "stream",
          "text": [
            "WARNING:tensorflow:sample_weight modes were coerced from\n",
            "  ...\n",
            "    to  \n",
            "  ['...']\n"
          ],
          "name": "stdout"
        },
        {
          "output_type": "stream",
          "text": [
            "19:28:00 sample_weight modes were coerced from\n",
            "  ...\n",
            "    to  \n",
            "  ['...']\n"
          ],
          "name": "stderr"
        },
        {
          "output_type": "stream",
          "text": [
            "Train for 30 steps, validate on 2411 samples\n",
            "Epoch 1/5\n",
            "22/30 [=====================>........] - ETA: 0s - loss: 0.2748 - accuracy: 0.9062 - Recall: 0.8901 - Precision: 0.9257"
          ],
          "name": "stdout"
        },
        {
          "output_type": "stream",
          "text": [
            "/usr/local/lib/python3.6/dist-packages/sklearn/utils/deprecation.py:87: FutureWarning: Function safe_indexing is deprecated; safe_indexing is deprecated in version 0.22 and will be removed in version 0.24.\n",
            "  warnings.warn(msg, category=FutureWarning)\n"
          ],
          "name": "stderr"
        },
        {
          "output_type": "stream",
          "text": [
            "30/30 [==============================] - 2s 77ms/step - loss: 0.2488 - accuracy: 0.9219 - Recall: 0.9040 - Precision: 0.9372 - val_loss: 2.5695 - val_accuracy: 0.8785 - val_Recall: 0.9950 - val_Precision: 0.4065\n",
            "Epoch 2/5\n",
            "30/30 [==============================] - 1s 19ms/step - loss: 0.1791 - accuracy: 0.9593 - Recall: 0.9542 - Precision: 0.9642 - val_loss: 0.5036 - val_accuracy: 0.9515 - val_Recall: 0.9851 - val_Precision: 0.6346\n",
            "Epoch 3/5\n",
            "30/30 [==============================] - 1s 19ms/step - loss: 0.1593 - accuracy: 0.9572 - Recall: 0.9564 - Precision: 0.9584 - val_loss: 0.2346 - val_accuracy: 0.9710 - val_Recall: 0.9851 - val_Precision: 0.7472\n",
            "Epoch 4/5\n",
            "30/30 [==============================] - 1s 19ms/step - loss: 0.1181 - accuracy: 0.9656 - Recall: 0.9664 - Precision: 0.9644 - val_loss: 0.1680 - val_accuracy: 0.9830 - val_Recall: 0.9801 - val_Precision: 0.8419\n",
            "Epoch 5/5\n",
            "30/30 [==============================] - 1s 19ms/step - loss: 0.1487 - accuracy: 0.9582 - Recall: 0.9563 - Precision: 0.9603 - val_loss: 0.1035 - val_accuracy: 0.9813 - val_Recall: 0.9652 - val_Precision: 0.8362\n"
          ],
          "name": "stdout"
        },
        {
          "output_type": "stream",
          "text": [
            "19:28:05 WORKER: done with job (3, 0, 0), trying to register it.\n",
            "19:28:05 WORKER: registered result for job (3, 0, 0) with dispatcher\n",
            "19:28:05 DISPATCHER: job (3, 0, 0) finished\n",
            "19:28:05 DISPATCHER: register_result: lock acquired\n",
            "19:28:05 DISPATCHER: job (3, 0, 0) on hpbandster.run_MLP.worker.6cc0892967ab.875139915884685184 finished\n",
            "19:28:05 job_id: (3, 0, 0)\n",
            "kwargs: {'config': {'batch_size': 32, 'dense_layers': 3, 'learning_rate': 0.11172259364617185, 'units_first': 157, 'units_hidden': 76}, 'budget': 5.0, 'working_directory': '.'}\n",
            "result: {'loss': 0.16379308700561523, 'info': {'loss': [0.248823786744227, 0.17942454831554147, 0.15955787834892193, 0.11826853282819648, 0.148943183630596], 'accuracy': [0.921875, 0.9592902064323425, 0.9572024941444397, 0.9655532240867615, 0.9582463502883911], 'Recall': [0.9039666056632996, 0.9541666507720947, 0.95643150806427, 0.9663865566253662, 0.9563409686088562], 'Precision': [0.9372294545173645, 0.9642105102539062, 0.9584199786186218, 0.9643605947494507, 0.9603340029716492], 'val_loss': [2.5695286071483583, 0.5035667460423158, 0.23455136941145405, 0.16802552925278813, 0.10345224627161805], 'val_accuracy': [0.8784736394882202, 0.9514724016189575, 0.9709663987159729, 0.9829946160316467, 0.9813355207443237], 'val_Recall': [0.9950248599052429, 0.9850746393203735, 0.9850746393203735, 0.9800994992256165, 0.96517413854599], 'val_Precision': [0.4065040647983551, 0.6346153616905212, 0.7471697926521301, 0.8418803215026855, 0.8362069129943848]}}\n",
            "exception: None\n",
            "\n",
            "19:28:05 job_callback for (3, 0, 0) started\n",
            "19:28:05 DISPATCHER: Trying to submit another job.\n",
            "19:28:05 DISPATCHER: jobs to submit = 0, number of idle workers = 1 -> waiting!\n",
            "19:28:05 job_callback for (3, 0, 0) got condition\n",
            "19:28:05 Only 5 run(s) for budget 5.000000 available, need more than 7 -> can't build model!\n",
            "19:28:05 HBMASTER: Trying to run another job!\n",
            "19:28:05 job_callback for (3, 0, 0) finished\n",
            "19:28:05 start sampling a new configuration.\n",
            "19:28:05 done sampling a new configuration.\n",
            "19:28:05 HBMASTER: schedule new run for iteration 3\n",
            "19:28:05 HBMASTER: trying submitting job (3, 0, 1) to dispatcher\n",
            "19:28:05 HBMASTER: submitting job (3, 0, 1) to dispatcher\n",
            "19:28:05 DISPATCHER: trying to submit job (3, 0, 1)\n",
            "19:28:05 DISPATCHER: trying to notify the job_runner thread.\n",
            "19:28:05 HBMASTER: job (3, 0, 1) submitted to dispatcher\n",
            "19:28:05 HBMASTER: running jobs: 1, queue sizes: (0, 1) -> wait\n",
            "19:28:05 DISPATCHER: Trying to submit another job.\n",
            "19:28:05 DISPATCHER: starting job (3, 0, 1) on hpbandster.run_MLP.worker.6cc0892967ab.875139915884685184\n",
            "19:28:05 DISPATCHER: job (3, 0, 1) dispatched on hpbandster.run_MLP.worker.6cc0892967ab.875139915884685184\n",
            "19:28:05 WORKER: start processing job (3, 0, 1)\n",
            "19:28:05 DISPATCHER: jobs to submit = 0, number of idle workers = 0 -> waiting!\n",
            "19:28:05 WORKER: args: ()\n",
            "19:28:05 WORKER: kwargs: {'config': {'batch_size': 32, 'dense_layers': 5, 'learning_rate': 0.033841489580347335, 'units_first': 59, 'units_hidden': 74}, 'budget': 5.0, 'working_directory': '.'}\n",
            "/usr/local/lib/python3.6/dist-packages/sklearn/utils/deprecation.py:87: FutureWarning: Function safe_indexing is deprecated; safe_indexing is deprecated in version 0.22 and will be removed in version 0.24.\n",
            "  warnings.warn(msg, category=FutureWarning)\n"
          ],
          "name": "stderr"
        },
        {
          "output_type": "stream",
          "text": [
            "WARNING:tensorflow:sample_weight modes were coerced from\n",
            "  ...\n",
            "    to  \n",
            "  ['...']\n"
          ],
          "name": "stdout"
        },
        {
          "output_type": "stream",
          "text": [
            "19:28:05 sample_weight modes were coerced from\n",
            "  ...\n",
            "    to  \n",
            "  ['...']\n"
          ],
          "name": "stderr"
        },
        {
          "output_type": "stream",
          "text": [
            "Train for 30 steps, validate on 2411 samples\n",
            "Epoch 1/5\n",
            "12/30 [===========>..................] - ETA: 3s - loss: 0.2995 - accuracy: 0.8802 - Recall: 0.8756 - Precision: 0.8934"
          ],
          "name": "stdout"
        },
        {
          "output_type": "stream",
          "text": [
            "/usr/local/lib/python3.6/dist-packages/sklearn/utils/deprecation.py:87: FutureWarning: Function safe_indexing is deprecated; safe_indexing is deprecated in version 0.22 and will be removed in version 0.24.\n",
            "  warnings.warn(msg, category=FutureWarning)\n"
          ],
          "name": "stderr"
        },
        {
          "output_type": "stream",
          "text": [
            "30/30 [==============================] - 3s 109ms/step - loss: 0.1920 - accuracy: 0.9312 - Recall: 0.9245 - Precision: 0.9363 - val_loss: 6.7048 - val_accuracy: 0.8818 - val_Recall: 0.9950 - val_Precision: 0.4132\n",
            "Epoch 2/5\n",
            "30/30 [==============================] - 1s 22ms/step - loss: 0.0939 - accuracy: 0.9645 - Recall: 0.9667 - Precision: 0.9627 - val_loss: 1.1259 - val_accuracy: 0.9320 - val_Recall: 0.9851 - val_Precision: 0.5515\n",
            "Epoch 3/5\n",
            "30/30 [==============================] - 1s 22ms/step - loss: 0.0881 - accuracy: 0.9718 - Recall: 0.9686 - Precision: 0.9747 - val_loss: 0.6148 - val_accuracy: 0.9552 - val_Recall: 0.9851 - val_Precision: 0.6535\n",
            "Epoch 4/5\n",
            "30/30 [==============================] - 1s 23ms/step - loss: 0.0653 - accuracy: 0.9864 - Recall: 0.9811 - Precision: 0.9915 - val_loss: 0.2530 - val_accuracy: 0.9759 - val_Recall: 0.9851 - val_Precision: 0.7826\n",
            "Epoch 5/5\n",
            "30/30 [==============================] - 1s 21ms/step - loss: 0.0477 - accuracy: 0.9875 - Recall: 0.9937 - Precision: 0.9814 - val_loss: 0.2196 - val_accuracy: 0.9797 - val_Recall: 0.9801 - val_Precision: 0.8140\n"
          ],
          "name": "stdout"
        },
        {
          "output_type": "stream",
          "text": [
            "19:28:11 WORKER: done with job (3, 0, 1), trying to register it.\n",
            "19:28:11 WORKER: registered result for job (3, 0, 1) with dispatcher\n",
            "19:28:11 DISPATCHER: job (3, 0, 1) finished\n",
            "19:28:11 DISPATCHER: register_result: lock acquired\n",
            "19:28:11 DISPATCHER: job (3, 0, 1) on hpbandster.run_MLP.worker.6cc0892967ab.875139915884685184 finished\n",
            "19:28:11 job_id: (3, 0, 1)\n",
            "kwargs: {'config': {'batch_size': 32, 'dense_layers': 5, 'learning_rate': 0.033841489580347335, 'units_first': 59, 'units_hidden': 74}, 'budget': 5.0, 'working_directory': '.'}\n",
            "result: {'loss': 0.1859503984451294, 'info': {'loss': [0.19195289687874417, 0.09387230946213816, 0.08813948136810719, 0.06538860609906576, 0.047743067864740814], 'accuracy': [0.9312499761581421, 0.9645093679428101, 0.9718163013458252, 0.9864300489425659, 0.9874739050865173], 'Recall': [0.9245283007621765, 0.9666666388511658, 0.9686192274093628, 0.9811320900917053, 0.9937369227409363], 'Precision': [0.9363057613372803, 0.9626556038856506, 0.9747368693351746, 0.991525411605835, 0.9814432859420776], 'val_loss': [6.704797026519982, 1.125928996977896, 0.6148153617761284, 0.2530497998580751, 0.21956406923651475], 'val_accuracy': [0.8817917704582214, 0.9319784045219421, 0.9552053213119507, 0.9759435653686523, 0.9796764850616455], 'val_Recall': [0.9950248599052429, 0.9850746393203735, 0.9850746393203735, 0.9850746393203735, 0.9800994992256165], 'val_Precision': [0.41322314739227295, 0.5515320301055908, 0.6534653306007385, 0.782608687877655, 0.8140496015548706]}}\n",
            "exception: None\n",
            "\n",
            "19:28:11 job_callback for (3, 0, 1) started\n",
            "19:28:11 DISPATCHER: Trying to submit another job.\n",
            "19:28:11 DISPATCHER: jobs to submit = 0, number of idle workers = 1 -> waiting!\n",
            "19:28:11 job_callback for (3, 0, 1) got condition\n",
            "19:28:11 HBMASTER: Trying to run another job!\n",
            "19:28:11 job_callback for (3, 0, 1) finished\n",
            "19:28:11 start sampling a new configuration.\n",
            "19:28:11 done sampling a new configuration.\n",
            "19:28:11 HBMASTER: schedule new run for iteration 4\n",
            "19:28:11 HBMASTER: trying submitting job (4, 0, 0) to dispatcher\n",
            "19:28:11 HBMASTER: submitting job (4, 0, 0) to dispatcher\n",
            "19:28:11 DISPATCHER: trying to submit job (4, 0, 0)\n",
            "19:28:11 DISPATCHER: trying to notify the job_runner thread.\n",
            "19:28:11 HBMASTER: job (4, 0, 0) submitted to dispatcher\n",
            "19:28:11 HBMASTER: running jobs: 1, queue sizes: (0, 1) -> wait\n",
            "19:28:11 DISPATCHER: Trying to submit another job.\n",
            "19:28:11 DISPATCHER: starting job (4, 0, 0) on hpbandster.run_MLP.worker.6cc0892967ab.875139915884685184\n",
            "19:28:11 DISPATCHER: job (4, 0, 0) dispatched on hpbandster.run_MLP.worker.6cc0892967ab.875139915884685184\n",
            "19:28:11 WORKER: start processing job (4, 0, 0)\n",
            "19:28:11 DISPATCHER: jobs to submit = 0, number of idle workers = 0 -> waiting!\n",
            "19:28:11 WORKER: args: ()\n",
            "19:28:11 WORKER: kwargs: {'config': {'batch_size': 64, 'dense_layers': 4, 'learning_rate': 0.08034127476223765, 'units_first': 3, 'units_hidden': 99}, 'budget': 1.6666666666666665, 'working_directory': '.'}\n",
            "/usr/local/lib/python3.6/dist-packages/sklearn/utils/deprecation.py:87: FutureWarning: Function safe_indexing is deprecated; safe_indexing is deprecated in version 0.22 and will be removed in version 0.24.\n",
            "  warnings.warn(msg, category=FutureWarning)\n"
          ],
          "name": "stderr"
        },
        {
          "output_type": "stream",
          "text": [
            "WARNING:tensorflow:sample_weight modes were coerced from\n",
            "  ...\n",
            "    to  \n",
            "  ['...']\n"
          ],
          "name": "stdout"
        },
        {
          "output_type": "stream",
          "text": [
            "19:28:12 sample_weight modes were coerced from\n",
            "  ...\n",
            "    to  \n",
            "  ['...']\n"
          ],
          "name": "stderr"
        },
        {
          "output_type": "stream",
          "text": [
            "Train for 15 steps, validate on 2411 samples\n",
            "12/15 [=======================>......] - ETA: 0s - loss: 0.7159 - accuracy: 0.7044 - Recall: 0.6718 - Precision: 0.7258"
          ],
          "name": "stdout"
        },
        {
          "output_type": "stream",
          "text": [
            "/usr/local/lib/python3.6/dist-packages/sklearn/utils/deprecation.py:87: FutureWarning: Function safe_indexing is deprecated; safe_indexing is deprecated in version 0.22 and will be removed in version 0.24.\n",
            "  warnings.warn(msg, category=FutureWarning)\n"
          ],
          "name": "stderr"
        },
        {
          "output_type": "stream",
          "text": [
            "\b\b\b\b\b\b\b\b\b\b\b\b\b\b\b\b\b\b\b\b\b\b\b\b\b\b\b\b\b\b\b\b\b\b\b\b\b\b\b\b\b\b\b\b\b\b\b\b\b\b\b\b\b\b\b\b\b\b\b\b\b\b\b\b\b\b\b\b\b\b\b\b\b\b\b\b\b\b\b\b\b\b\b\b\b\b\b\b\b\b\b\b\b\b\b\b\b\b\b\b\b\b\b\b\b\b\b\b\b\b\b\b\b\b\b\b\b\b\b\r15/15 [==============================] - 2s 155ms/step - loss: 0.6468 - accuracy: 0.7344 - Recall: 0.6998 - Precision: 0.7545 - val_loss: 15.8352 - val_accuracy: 0.5218 - val_Recall: 1.0000 - val_Precision: 0.1484\n"
          ],
          "name": "stdout"
        },
        {
          "output_type": "stream",
          "text": [
            "19:28:14 WORKER: done with job (4, 0, 0), trying to register it.\n",
            "19:28:14 WORKER: registered result for job (4, 0, 0) with dispatcher\n",
            "19:28:14 DISPATCHER: job (4, 0, 0) finished\n",
            "19:28:14 DISPATCHER: register_result: lock acquired\n",
            "19:28:14 DISPATCHER: job (4, 0, 0) on hpbandster.run_MLP.worker.6cc0892967ab.875139915884685184 finished\n",
            "19:28:14 job_id: (4, 0, 0)\n",
            "kwargs: {'config': {'batch_size': 64, 'dense_layers': 4, 'learning_rate': 0.08034127476223765, 'units_first': 3, 'units_hidden': 99}, 'budget': 1.6666666666666665, 'working_directory': '.'}\n",
            "result: {'loss': 0.851550966501236, 'info': {'loss': [0.6468040237824122], 'accuracy': [0.734375], 'Recall': [0.6997929811477661], 'Precision': [0.7544642686843872], 'val_loss': [15.83516667325286], 'val_accuracy': [0.5217751860618591], 'val_Recall': [1.0], 'val_Precision': [0.14844903349876404]}}\n",
            "exception: None\n",
            "\n",
            "19:28:14 job_callback for (4, 0, 0) started\n",
            "19:28:14 DISPATCHER: Trying to submit another job.\n",
            "19:28:14 job_callback for (4, 0, 0) got condition\n",
            "19:28:14 DISPATCHER: jobs to submit = 0, number of idle workers = 1 -> waiting!\n",
            "19:28:14 HBMASTER: Trying to run another job!\n",
            "19:28:14 job_callback for (4, 0, 0) finished\n",
            "19:28:14 start sampling a new configuration.\n",
            "19:28:14 done sampling a new configuration.\n",
            "19:28:14 HBMASTER: schedule new run for iteration 4\n",
            "19:28:14 HBMASTER: trying submitting job (4, 0, 1) to dispatcher\n",
            "19:28:14 HBMASTER: submitting job (4, 0, 1) to dispatcher\n",
            "19:28:14 DISPATCHER: trying to submit job (4, 0, 1)\n",
            "19:28:14 DISPATCHER: trying to notify the job_runner thread.\n",
            "19:28:14 HBMASTER: job (4, 0, 1) submitted to dispatcher\n",
            "19:28:14 HBMASTER: running jobs: 1, queue sizes: (0, 1) -> wait\n",
            "19:28:14 DISPATCHER: Trying to submit another job.\n",
            "19:28:14 DISPATCHER: starting job (4, 0, 1) on hpbandster.run_MLP.worker.6cc0892967ab.875139915884685184\n",
            "19:28:14 DISPATCHER: job (4, 0, 1) dispatched on hpbandster.run_MLP.worker.6cc0892967ab.875139915884685184\n",
            "19:28:14 WORKER: start processing job (4, 0, 1)\n",
            "19:28:14 DISPATCHER: jobs to submit = 0, number of idle workers = 0 -> waiting!\n",
            "19:28:14 WORKER: args: ()\n",
            "19:28:14 WORKER: kwargs: {'config': {'batch_size': 32, 'dense_layers': 5, 'learning_rate': 0.09772164772724096, 'units_first': 282, 'units_hidden': 17}, 'budget': 1.6666666666666665, 'working_directory': '.'}\n",
            "/usr/local/lib/python3.6/dist-packages/sklearn/utils/deprecation.py:87: FutureWarning: Function safe_indexing is deprecated; safe_indexing is deprecated in version 0.22 and will be removed in version 0.24.\n",
            "  warnings.warn(msg, category=FutureWarning)\n"
          ],
          "name": "stderr"
        },
        {
          "output_type": "stream",
          "text": [
            "WARNING:tensorflow:sample_weight modes were coerced from\n",
            "  ...\n",
            "    to  \n",
            "  ['...']\n"
          ],
          "name": "stdout"
        },
        {
          "output_type": "stream",
          "text": [
            "19:28:15 sample_weight modes were coerced from\n",
            "  ...\n",
            "    to  \n",
            "  ['...']\n"
          ],
          "name": "stderr"
        },
        {
          "output_type": "stream",
          "text": [
            "Train for 30 steps, validate on 2411 samples\n",
            "11/30 [==========>...................] - ETA: 3s - loss: 0.4747 - accuracy: 0.7784 - Recall: 0.7778 - Precision: 0.8033"
          ],
          "name": "stdout"
        },
        {
          "output_type": "stream",
          "text": [
            "/usr/local/lib/python3.6/dist-packages/sklearn/utils/deprecation.py:87: FutureWarning: Function safe_indexing is deprecated; safe_indexing is deprecated in version 0.22 and will be removed in version 0.24.\n",
            "  warnings.warn(msg, category=FutureWarning)\n"
          ],
          "name": "stderr"
        },
        {
          "output_type": "stream",
          "text": [
            "30/30 [==============================] - 3s 95ms/step - loss: 0.2968 - accuracy: 0.8802 - Recall: 0.8776 - Precision: 0.8831 - val_loss: 16.4727 - val_accuracy: 0.8905 - val_Recall: 0.9900 - val_Precision: 0.4317\n"
          ],
          "name": "stdout"
        },
        {
          "output_type": "stream",
          "text": [
            "19:28:18 WORKER: done with job (4, 0, 1), trying to register it.\n",
            "19:28:18 WORKER: registered result for job (4, 0, 1) with dispatcher\n",
            "19:28:18 DISPATCHER: job (4, 0, 1) finished\n",
            "19:28:18 DISPATCHER: register_result: lock acquired\n",
            "19:28:18 DISPATCHER: job (4, 0, 1) on hpbandster.run_MLP.worker.6cc0892967ab.875139915884685184 finished\n",
            "19:28:18 job_id: (4, 0, 1)\n",
            "kwargs: {'config': {'batch_size': 32, 'dense_layers': 5, 'learning_rate': 0.09772164772724096, 'units_first': 282, 'units_hidden': 17}, 'budget': 1.6666666666666665, 'working_directory': '.'}\n",
            "result: {'loss': 0.5683297216892242, 'info': {'loss': [0.29680303496619065], 'accuracy': [0.8802083134651184], 'Recall': [0.8775933384895325], 'Precision': [0.8830897808074951], 'val_loss': [16.472664682400737], 'val_accuracy': [0.890501856803894], 'val_Recall': [0.9900497794151306], 'val_Precision': [0.43167027831077576]}}\n",
            "exception: None\n",
            "\n",
            "19:28:18 job_callback for (4, 0, 1) started\n",
            "19:28:18 job_callback for (4, 0, 1) got condition\n",
            "19:28:18 DISPATCHER: Trying to submit another job.\n",
            "19:28:18 HBMASTER: Trying to run another job!\n",
            "19:28:18 DISPATCHER: jobs to submit = 0, number of idle workers = 1 -> waiting!\n",
            "19:28:18 job_callback for (4, 0, 1) finished\n",
            "19:28:18 start sampling a new configuration.\n",
            "19:28:18 done sampling a new configuration.\n",
            "19:28:18 HBMASTER: schedule new run for iteration 4\n",
            "19:28:18 HBMASTER: trying submitting job (4, 0, 2) to dispatcher\n",
            "19:28:18 HBMASTER: submitting job (4, 0, 2) to dispatcher\n",
            "19:28:18 DISPATCHER: trying to submit job (4, 0, 2)\n",
            "19:28:18 DISPATCHER: trying to notify the job_runner thread.\n",
            "19:28:18 HBMASTER: job (4, 0, 2) submitted to dispatcher\n",
            "19:28:18 DISPATCHER: Trying to submit another job.\n",
            "19:28:18 HBMASTER: running jobs: 1, queue sizes: (0, 1) -> wait\n",
            "19:28:18 DISPATCHER: starting job (4, 0, 2) on hpbandster.run_MLP.worker.6cc0892967ab.875139915884685184\n",
            "19:28:18 DISPATCHER: job (4, 0, 2) dispatched on hpbandster.run_MLP.worker.6cc0892967ab.875139915884685184\n",
            "19:28:18 DISPATCHER: jobs to submit = 0, number of idle workers = 0 -> waiting!\n",
            "19:28:18 WORKER: start processing job (4, 0, 2)\n",
            "19:28:18 WORKER: args: ()\n",
            "19:28:18 WORKER: kwargs: {'config': {'batch_size': 64, 'dense_layers': 2, 'learning_rate': 0.018794922767736623, 'units_first': 272, 'units_hidden': 171}, 'budget': 1.6666666666666665, 'working_directory': '.'}\n",
            "/usr/local/lib/python3.6/dist-packages/sklearn/utils/deprecation.py:87: FutureWarning: Function safe_indexing is deprecated; safe_indexing is deprecated in version 0.22 and will be removed in version 0.24.\n",
            "  warnings.warn(msg, category=FutureWarning)\n"
          ],
          "name": "stderr"
        },
        {
          "output_type": "stream",
          "text": [
            "WARNING:tensorflow:sample_weight modes were coerced from\n",
            "  ...\n",
            "    to  \n",
            "  ['...']\n"
          ],
          "name": "stdout"
        },
        {
          "output_type": "stream",
          "text": [
            "19:28:18 sample_weight modes were coerced from\n",
            "  ...\n",
            "    to  \n",
            "  ['...']\n"
          ],
          "name": "stderr"
        },
        {
          "output_type": "stream",
          "text": [
            "Train for 15 steps, validate on 2411 samples\n",
            " 8/15 [===============>..............] - ETA: 1s - loss: 0.2515 - accuracy: 0.9102 - Recall: 0.8960 - Precision: 0.9180 "
          ],
          "name": "stdout"
        },
        {
          "output_type": "stream",
          "text": [
            "/usr/local/lib/python3.6/dist-packages/sklearn/utils/deprecation.py:87: FutureWarning: Function safe_indexing is deprecated; safe_indexing is deprecated in version 0.22 and will be removed in version 0.24.\n",
            "  warnings.warn(msg, category=FutureWarning)\n"
          ],
          "name": "stderr"
        },
        {
          "output_type": "stream",
          "text": [
            "\b\b\b\b\b\b\b\b\b\b\b\b\b\b\b\b\b\b\b\b\b\b\b\b\b\b\b\b\b\b\b\b\b\b\b\b\b\b\b\b\b\b\b\b\b\b\b\b\b\b\b\b\b\b\b\b\b\b\b\b\b\b\b\b\b\b\b\b\b\b\b\b\b\b\b\b\b\b\b\b\b\b\b\b\b\b\b\b\b\b\b\b\b\b\b\b\b\b\b\b\b\b\b\b\b\b\b\b\b\b\b\b\b\b\b\b\b\b\b\r15/15 [==============================] - 2s 150ms/step - loss: 0.2028 - accuracy: 0.9385 - Recall: 0.9354 - Precision: 0.9413 - val_loss: 1.7174 - val_accuracy: 0.8109 - val_Recall: 1.0000 - val_Precision: 0.3059\n"
          ],
          "name": "stdout"
        },
        {
          "output_type": "stream",
          "text": [
            "19:28:20 WORKER: done with job (4, 0, 2), trying to register it.\n",
            "19:28:20 WORKER: registered result for job (4, 0, 2) with dispatcher\n",
            "19:28:20 DISPATCHER: job (4, 0, 2) finished\n",
            "19:28:20 DISPATCHER: register_result: lock acquired\n",
            "19:28:20 DISPATCHER: job (4, 0, 2) on hpbandster.run_MLP.worker.6cc0892967ab.875139915884685184 finished\n",
            "19:28:20 job_id: (4, 0, 2)\n",
            "kwargs: {'config': {'batch_size': 64, 'dense_layers': 2, 'learning_rate': 0.018794922767736623, 'units_first': 272, 'units_hidden': 171}, 'budget': 1.6666666666666665, 'working_directory': '.'}\n",
            "result: {'loss': 0.6940639317035675, 'info': {'loss': [0.20284775644540787], 'accuracy': [0.9385416507720947], 'Recall': [0.9354166388511658], 'Precision': [0.9412997961044312], 'val_loss': [1.7173542313830876], 'val_accuracy': [0.8108668327331543], 'val_Recall': [1.0], 'val_Precision': [0.3059360682964325]}}\n",
            "exception: None\n",
            "\n",
            "19:28:20 job_callback for (4, 0, 2) started\n",
            "19:28:20 DISPATCHER: Trying to submit another job.\n",
            "19:28:20 job_callback for (4, 0, 2) got condition\n",
            "19:28:20 DISPATCHER: jobs to submit = 0, number of idle workers = 1 -> waiting!\n",
            "19:28:20 HBMASTER: Trying to run another job!\n",
            "19:28:20 job_callback for (4, 0, 2) finished\n",
            "19:28:20 ITERATION: Advancing config (4, 0, 1) to next budget 5.000000\n",
            "19:28:20 HBMASTER: schedule new run for iteration 4\n",
            "19:28:20 HBMASTER: trying submitting job (4, 0, 1) to dispatcher\n",
            "19:28:20 HBMASTER: submitting job (4, 0, 1) to dispatcher\n",
            "19:28:20 DISPATCHER: trying to submit job (4, 0, 1)\n",
            "19:28:20 DISPATCHER: trying to notify the job_runner thread.\n",
            "19:28:20 HBMASTER: job (4, 0, 1) submitted to dispatcher\n",
            "19:28:20 HBMASTER: running jobs: 1, queue sizes: (0, 1) -> wait\n",
            "19:28:20 DISPATCHER: Trying to submit another job.\n",
            "19:28:20 DISPATCHER: starting job (4, 0, 1) on hpbandster.run_MLP.worker.6cc0892967ab.875139915884685184\n",
            "19:28:20 DISPATCHER: job (4, 0, 1) dispatched on hpbandster.run_MLP.worker.6cc0892967ab.875139915884685184\n",
            "19:28:20 DISPATCHER: jobs to submit = 0, number of idle workers = 0 -> waiting!\n",
            "19:28:20 WORKER: start processing job (4, 0, 1)\n",
            "19:28:20 WORKER: args: ()\n",
            "19:28:20 WORKER: kwargs: {'config': {'batch_size': 32, 'dense_layers': 5, 'learning_rate': 0.09772164772724096, 'units_first': 282, 'units_hidden': 17}, 'budget': 5.0, 'working_directory': '.'}\n",
            "/usr/local/lib/python3.6/dist-packages/sklearn/utils/deprecation.py:87: FutureWarning: Function safe_indexing is deprecated; safe_indexing is deprecated in version 0.22 and will be removed in version 0.24.\n",
            "  warnings.warn(msg, category=FutureWarning)\n"
          ],
          "name": "stderr"
        },
        {
          "output_type": "stream",
          "text": [
            "WARNING:tensorflow:sample_weight modes were coerced from\n",
            "  ...\n",
            "    to  \n",
            "  ['...']\n"
          ],
          "name": "stdout"
        },
        {
          "output_type": "stream",
          "text": [
            "19:28:21 sample_weight modes were coerced from\n",
            "  ...\n",
            "    to  \n",
            "  ['...']\n"
          ],
          "name": "stderr"
        },
        {
          "output_type": "stream",
          "text": [
            "Train for 30 steps, validate on 2411 samples\n",
            "Epoch 1/5\n"
          ],
          "name": "stdout"
        },
        {
          "output_type": "stream",
          "text": [
            "19:28:22 DISPATCHER: Starting worker discovery\n",
            "19:28:22 DISPATCHER: Found 1 potential workers, 1 currently in the pool.\n",
            "19:28:22 DISPATCHER: Finished worker discovery\n"
          ],
          "name": "stderr"
        },
        {
          "output_type": "stream",
          "text": [
            "12/30 [===========>..................] - ETA: 3s - loss: 0.5060 - accuracy: 0.7474 - Recall: 0.7268 - Precision: 0.7622"
          ],
          "name": "stdout"
        },
        {
          "output_type": "stream",
          "text": [
            "/usr/local/lib/python3.6/dist-packages/sklearn/utils/deprecation.py:87: FutureWarning: Function safe_indexing is deprecated; safe_indexing is deprecated in version 0.22 and will be removed in version 0.24.\n",
            "  warnings.warn(msg, category=FutureWarning)\n"
          ],
          "name": "stderr"
        },
        {
          "output_type": "stream",
          "text": [
            "30/30 [==============================] - 3s 98ms/step - loss: 0.3466 - accuracy: 0.8573 - Recall: 0.8372 - Precision: 0.8717 - val_loss: 4.2293 - val_accuracy: 0.8698 - val_Recall: 0.9950 - val_Precision: 0.3899\n",
            "Epoch 2/5\n",
            "30/30 [==============================] - 1s 22ms/step - loss: 0.2081 - accuracy: 0.9405 - Recall: 0.9314 - Precision: 0.9492 - val_loss: 0.5620 - val_accuracy: 0.9486 - val_Recall: 0.9851 - val_Precision: 0.6207\n",
            "Epoch 3/5\n",
            "30/30 [==============================] - 1s 22ms/step - loss: 0.1775 - accuracy: 0.9562 - Recall: 0.9623 - Precision: 0.9504 - val_loss: 0.1840 - val_accuracy: 0.9768 - val_Recall: 0.9851 - val_Precision: 0.7888\n",
            "Epoch 4/5\n",
            "30/30 [==============================] - 1s 21ms/step - loss: 0.1441 - accuracy: 0.9562 - Recall: 0.9582 - Precision: 0.9543 - val_loss: 0.1806 - val_accuracy: 0.9818 - val_Recall: 0.9851 - val_Precision: 0.8285\n",
            "Epoch 5/5\n",
            "30/30 [==============================] - 1s 22ms/step - loss: 0.1315 - accuracy: 0.9551 - Recall: 0.9605 - Precision: 0.9506 - val_loss: 0.2440 - val_accuracy: 0.9784 - val_Recall: 0.9851 - val_Precision: 0.8016\n"
          ],
          "name": "stdout"
        },
        {
          "output_type": "stream",
          "text": [
            "19:28:27 WORKER: done with job (4, 0, 1), trying to register it.\n",
            "19:28:27 WORKER: registered result for job (4, 0, 1) with dispatcher\n",
            "19:28:27 DISPATCHER: job (4, 0, 1) finished\n",
            "19:28:27 DISPATCHER: register_result: lock acquired\n",
            "19:28:27 DISPATCHER: job (4, 0, 1) on hpbandster.run_MLP.worker.6cc0892967ab.875139915884685184 finished\n",
            "19:28:27 job_id: (4, 0, 1)\n",
            "kwargs: {'config': {'batch_size': 32, 'dense_layers': 5, 'learning_rate': 0.09772164772724096, 'units_first': 282, 'units_hidden': 17}, 'budget': 5.0, 'working_directory': '.'}\n",
            "result: {'loss': 0.19838058948516846, 'info': {'loss': [0.3465707225104173, 0.2083690301019364, 0.177652965025638, 0.14422870043175207, 0.1315531540265412], 'accuracy': [0.8572916388511658, 0.9405010342597961, 0.9561586380004883, 0.9561586380004883, 0.9551148414611816], 'Recall': [0.8371607661247253, 0.9313929080963135, 0.9623430967330933, 0.9582463502883911, 0.9604989886283875], 'Precision': [0.8717391490936279, 0.9491525292396545, 0.9504132270812988, 0.9542619585990906, 0.9506173133850098], 'val_loss': [4.229287137737701, 0.5620401551240656, 0.18399557053200288, 0.18063165117280322, 0.24398054908297037], 'val_accuracy': [0.8697636127471924, 0.9485690593719482, 0.9767731428146362, 0.9817503094673157, 0.9784321784973145], 'val_Recall': [0.9950248599052429, 0.9850746393203735, 0.9850746393203735, 0.9850746393203735, 0.9850746393203735], 'val_Precision': [0.3898635506629944, 0.6206896305084229, 0.788844645023346, 0.8284518718719482, 0.8016194105148315]}}\n",
            "exception: None\n",
            "\n",
            "19:28:27 job_callback for (4, 0, 1) started\n",
            "19:28:27 DISPATCHER: Trying to submit another job.\n",
            "19:28:27 job_callback for (4, 0, 1) got condition\n",
            "19:28:27 DISPATCHER: jobs to submit = 0, number of idle workers = 1 -> waiting!\n",
            "19:28:27 HBMASTER: Trying to run another job!\n",
            "19:28:27 job_callback for (4, 0, 1) finished\n",
            "19:28:27 HBMASTER: shutdown initiated, shutdown_workers = True\n",
            "19:28:27 WORKER: shutting down now!\n",
            "19:28:27 DISPATCHER: Dispatcher shutting down\n",
            "19:28:27 DISPATCHER: Trying to submit another job.\n",
            "19:28:27 DISPATCHER: job_runner shutting down\n",
            "19:28:27 DISPATCHER: discover_workers shutting down\n",
            "19:28:27 DISPATCHER: 'discover_worker' thread exited\n",
            "19:28:27 DISPATCHER: 'job_runner' thread exited\n",
            "19:28:27 DISPATCHER: shut down complete\n"
          ],
          "name": "stderr"
        }
      ]
    },
    {
      "cell_type": "markdown",
      "metadata": {
        "id": "8CM6uv09dJ4B"
      },
      "source": [
        "**TODO**\n",
        "- add the visualisations I made from the GPU paper"
      ]
    },
    {
      "cell_type": "code",
      "metadata": {
        "id": "b61pfegje_Ok"
      },
      "source": [],
      "execution_count": null,
      "outputs": []
    },
    {
      "cell_type": "markdown",
      "metadata": {
        "id": "XG2zc0pJ3L9Y"
      },
      "source": [
        "# Exercises\n",
        "\n",
        "Below are a few suggested exercises that may help improve your skills.\n",
        "\n",
        "You may want to backup this Notebook before making any changes.\n",
        "\n",
        "1. get the HpBandSter model to minimise F1-score rather than precision"
      ]
    },
    {
      "cell_type": "markdown",
      "metadata": {
        "id": "v1mW9gbA3Saj"
      },
      "source": [
        "# License\n",
        "\n",
        "<a rel=\"license\" href=\"http://creativecommons.org/licenses/by-nc/4.0/\"><img alt=\"Creative Commons License\" style=\"border-width:0\" src=\"https://i.creativecommons.org/l/by-nc/4.0/88x31.png\" /></a><br />This work is licensed under a <a rel=\"license\" href=\"http://creativecommons.org/licenses/by-nc/4.0/\">Creative Commons Attribution-NonCommercial 4.0 International License</a>."
      ]
    }
  ]
}